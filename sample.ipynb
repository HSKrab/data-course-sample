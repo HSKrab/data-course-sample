{
  "cells": [
    {
      "cell_type": "code",
      "source": [
        "import matplotlib.pyplot as plt\n",
        "import datetime"
      ],
      "metadata": {
        "id": "LKquT7CT094z"
      },
      "id": "LKquT7CT094z",
      "execution_count": 143,
      "outputs": []
    },
    {
      "cell_type": "markdown",
      "metadata": {
        "id": "UJPjoxmJfUsY"
      },
      "source": [
        "# Sample Code"
      ],
      "id": "UJPjoxmJfUsY"
    },
    {
      "cell_type": "markdown",
      "metadata": {
        "id": "7hdhc7QefUsc"
      },
      "source": [
        "## 基礎建設"
      ],
      "id": "7hdhc7QefUsc"
    },
    {
      "cell_type": "code",
      "execution_count": 1,
      "metadata": {
        "scrolled": true,
        "id": "Lge2X9MPfUsc"
      },
      "outputs": [],
      "source": [
        "import pandas as pd\n",
        "import gzip, json\n",
        "\n",
        "def parse(path):\n",
        "    g = gzip.open(path, 'rb')\n",
        "    for l in g:\n",
        "        yield json.loads(l)\n",
        "\n",
        "def getDF(path):\n",
        "    i = 0\n",
        "    df = {}\n",
        "    for d in parse(path):\n",
        "        df[i] = d\n",
        "        i += 1\n",
        "    return pd.DataFrame.from_dict(df, orient='index')"
      ],
      "id": "Lge2X9MPfUsc"
    },
    {
      "cell_type": "markdown",
      "metadata": {
        "id": "YW6sQT9IfUse"
      },
      "source": [
        "## 載入資料"
      ],
      "id": "YW6sQT9IfUse"
    },
    {
      "cell_type": "code",
      "execution_count": 2,
      "metadata": {
        "colab": {
          "base_uri": "https://localhost:8080/"
        },
        "id": "7uy0LZKEfUsf",
        "outputId": "c47b235c-a54d-43d0-96e8-ad7c0f4e6cda"
      },
      "outputs": [
        {
          "output_type": "stream",
          "name": "stdout",
          "text": [
            "--2021-12-23 12:31:30--  http://deepyeti.ucsd.edu/jianmo/amazon/categoryFilesSmall/All_Beauty.csv\n",
            "Resolving deepyeti.ucsd.edu (deepyeti.ucsd.edu)... 169.228.63.50\n",
            "Connecting to deepyeti.ucsd.edu (deepyeti.ucsd.edu)|169.228.63.50|:80... connected.\n",
            "HTTP request sent, awaiting response... 200 OK\n",
            "Length: 15499476 (15M) [application/octet-stream]\n",
            "Saving to: ‘All_Beauty.csv’\n",
            "\n",
            "All_Beauty.csv      100%[===================>]  14.78M  39.2MB/s    in 0.4s    \n",
            "\n",
            "2021-12-23 12:31:30 (39.2 MB/s) - ‘All_Beauty.csv’ saved [15499476/15499476]\n",
            "\n",
            "--2021-12-23 12:31:30--  http://deepyeti.ucsd.edu/jianmo/amazon/metaFiles2/meta_All_Beauty.json.gz\n",
            "Resolving deepyeti.ucsd.edu (deepyeti.ucsd.edu)... 169.228.63.50\n",
            "Connecting to deepyeti.ucsd.edu (deepyeti.ucsd.edu)|169.228.63.50|:80... connected.\n",
            "HTTP request sent, awaiting response... 200 OK\n",
            "Length: 10329961 (9.9M) [application/octet-stream]\n",
            "Saving to: ‘meta_All_Beauty.json.gz’\n",
            "\n",
            "meta_All_Beauty.jso 100%[===================>]   9.85M  33.6MB/s    in 0.3s    \n",
            "\n",
            "2021-12-23 12:31:31 (33.6 MB/s) - ‘meta_All_Beauty.json.gz’ saved [10329961/10329961]\n",
            "\n"
          ]
        }
      ],
      "source": [
        "!wget http://deepyeti.ucsd.edu/jianmo/amazon/categoryFilesSmall/All_Beauty.csv\n",
        "!wget http://deepyeti.ucsd.edu/jianmo/amazon/metaFiles2/meta_All_Beauty.json.gz"
      ],
      "id": "7uy0LZKEfUsf"
    },
    {
      "cell_type": "code",
      "execution_count": 3,
      "metadata": {
        "id": "2mnfdM4bfUsf"
      },
      "outputs": [],
      "source": [
        "metadata = getDF('/content/meta_All_Beauty.json.gz')\n",
        "ratings = pd.read_csv('/content/All_Beauty.csv', names=['asin', 'reviewerID', 'overall', 'unixReviewTime'], header=None)"
      ],
      "id": "2mnfdM4bfUsf"
    },
    {
      "cell_type": "code",
      "execution_count": 4,
      "metadata": {
        "colab": {
          "base_uri": "https://localhost:8080/",
          "height": 652
        },
        "id": "Q-IRsilOfUsg",
        "outputId": "7d9e7d3b-9830-4c6b-c367-48920e61547a"
      },
      "outputs": [
        {
          "output_type": "execute_result",
          "data": {
            "text/html": [
              "\n",
              "  <div id=\"df-a5014b8e-7208-4d93-8505-d905b95326ea\">\n",
              "    <div class=\"colab-df-container\">\n",
              "      <div>\n",
              "<style scoped>\n",
              "    .dataframe tbody tr th:only-of-type {\n",
              "        vertical-align: middle;\n",
              "    }\n",
              "\n",
              "    .dataframe tbody tr th {\n",
              "        vertical-align: top;\n",
              "    }\n",
              "\n",
              "    .dataframe thead th {\n",
              "        text-align: right;\n",
              "    }\n",
              "</style>\n",
              "<table border=\"1\" class=\"dataframe\">\n",
              "  <thead>\n",
              "    <tr style=\"text-align: right;\">\n",
              "      <th></th>\n",
              "      <th>category</th>\n",
              "      <th>tech1</th>\n",
              "      <th>description</th>\n",
              "      <th>fit</th>\n",
              "      <th>title</th>\n",
              "      <th>also_buy</th>\n",
              "      <th>tech2</th>\n",
              "      <th>brand</th>\n",
              "      <th>feature</th>\n",
              "      <th>rank</th>\n",
              "      <th>also_view</th>\n",
              "      <th>details</th>\n",
              "      <th>main_cat</th>\n",
              "      <th>similar_item</th>\n",
              "      <th>date</th>\n",
              "      <th>price</th>\n",
              "      <th>asin</th>\n",
              "      <th>imageURL</th>\n",
              "      <th>imageURLHighRes</th>\n",
              "    </tr>\n",
              "  </thead>\n",
              "  <tbody>\n",
              "    <tr>\n",
              "      <th>0</th>\n",
              "      <td>[]</td>\n",
              "      <td></td>\n",
              "      <td>[Loud 'N Clear Personal Sound Amplifier allows...</td>\n",
              "      <td></td>\n",
              "      <td>Loud 'N Clear&amp;trade; Personal Sound Amplifier</td>\n",
              "      <td>[]</td>\n",
              "      <td></td>\n",
              "      <td>idea village</td>\n",
              "      <td>[]</td>\n",
              "      <td>2,938,573 in Beauty &amp; Personal Care (</td>\n",
              "      <td>[]</td>\n",
              "      <td>{'ASIN: ': '6546546450'}</td>\n",
              "      <td>All Beauty</td>\n",
              "      <td></td>\n",
              "      <td></td>\n",
              "      <td></td>\n",
              "      <td>6546546450</td>\n",
              "      <td>[]</td>\n",
              "      <td>[]</td>\n",
              "    </tr>\n",
              "    <tr>\n",
              "      <th>1</th>\n",
              "      <td>[]</td>\n",
              "      <td></td>\n",
              "      <td>[No7 Lift &amp; Luminate Triple Action Serum 50ml ...</td>\n",
              "      <td></td>\n",
              "      <td>No7 Lift &amp;amp; Luminate Triple Action Serum 50...</td>\n",
              "      <td>[B01E7LCSL6, B008X5RVME]</td>\n",
              "      <td></td>\n",
              "      <td></td>\n",
              "      <td>[]</td>\n",
              "      <td>872,854 in Beauty &amp; Personal Care (</td>\n",
              "      <td>[]</td>\n",
              "      <td>{'Shipping Weight:': '0.3 ounces (', 'ASIN: ':...</td>\n",
              "      <td>All Beauty</td>\n",
              "      <td>class=\"a-bordered a-horizontal-stripes  a-spa...</td>\n",
              "      <td></td>\n",
              "      <td>$44.99</td>\n",
              "      <td>7178680776</td>\n",
              "      <td>[]</td>\n",
              "      <td>[]</td>\n",
              "    </tr>\n",
              "    <tr>\n",
              "      <th>2</th>\n",
              "      <td>[]</td>\n",
              "      <td></td>\n",
              "      <td>[No7 Stay Perfect Foundation now stays perfect...</td>\n",
              "      <td></td>\n",
              "      <td>No7 Stay Perfect Foundation Cool Vanilla by No7</td>\n",
              "      <td>[]</td>\n",
              "      <td></td>\n",
              "      <td>No7</td>\n",
              "      <td>[]</td>\n",
              "      <td>956,696 in Beauty &amp; Personal Care (</td>\n",
              "      <td>[B01B8BR0O8, B01B8BR0NO, B014MHXXM8]</td>\n",
              "      <td>{'Shipping Weight:': '3.5 ounces (', 'ASIN: ':...</td>\n",
              "      <td>All Beauty</td>\n",
              "      <td></td>\n",
              "      <td></td>\n",
              "      <td>$28.76</td>\n",
              "      <td>7250468162</td>\n",
              "      <td>[]</td>\n",
              "      <td>[]</td>\n",
              "    </tr>\n",
              "    <tr>\n",
              "      <th>3</th>\n",
              "      <td>[]</td>\n",
              "      <td></td>\n",
              "      <td>[]</td>\n",
              "      <td></td>\n",
              "      <td>Wella Koleston Perfect Hair Colour 44/44 Mediu...</td>\n",
              "      <td>[B0041PBXX8]</td>\n",
              "      <td></td>\n",
              "      <td></td>\n",
              "      <td>[]</td>\n",
              "      <td>1,870,258 in Beauty &amp; Personal Care (</td>\n",
              "      <td>[]</td>\n",
              "      <td>{'\n",
              "    Item Weight: \n",
              "    ': '1.76 ounces', 'Sh...</td>\n",
              "      <td>All Beauty</td>\n",
              "      <td></td>\n",
              "      <td></td>\n",
              "      <td></td>\n",
              "      <td>7367905066</td>\n",
              "      <td>[https://images-na.ssl-images-amazon.com/image...</td>\n",
              "      <td>[https://images-na.ssl-images-amazon.com/image...</td>\n",
              "    </tr>\n",
              "    <tr>\n",
              "      <th>4</th>\n",
              "      <td>[]</td>\n",
              "      <td></td>\n",
              "      <td>[Lacto Calamine Skin Balance Daily Nourishing ...</td>\n",
              "      <td></td>\n",
              "      <td>Lacto Calamine Skin Balance Oil control 120 ml...</td>\n",
              "      <td>[]</td>\n",
              "      <td></td>\n",
              "      <td>Pirmal Healthcare</td>\n",
              "      <td>[]</td>\n",
              "      <td>67,701 in Beauty &amp; Personal Care (</td>\n",
              "      <td>[3254895630, B007VL1D9S, B00EH9A0RI, B0773MBG4...</td>\n",
              "      <td>{'Shipping Weight:': '12 ounces (', 'ASIN: ': ...</td>\n",
              "      <td>All Beauty</td>\n",
              "      <td></td>\n",
              "      <td></td>\n",
              "      <td>$12.15</td>\n",
              "      <td>7414204790</td>\n",
              "      <td>[https://images-na.ssl-images-amazon.com/image...</td>\n",
              "      <td>[https://images-na.ssl-images-amazon.com/image...</td>\n",
              "    </tr>\n",
              "  </tbody>\n",
              "</table>\n",
              "</div>\n",
              "      <button class=\"colab-df-convert\" onclick=\"convertToInteractive('df-a5014b8e-7208-4d93-8505-d905b95326ea')\"\n",
              "              title=\"Convert this dataframe to an interactive table.\"\n",
              "              style=\"display:none;\">\n",
              "        \n",
              "  <svg xmlns=\"http://www.w3.org/2000/svg\" height=\"24px\"viewBox=\"0 0 24 24\"\n",
              "       width=\"24px\">\n",
              "    <path d=\"M0 0h24v24H0V0z\" fill=\"none\"/>\n",
              "    <path d=\"M18.56 5.44l.94 2.06.94-2.06 2.06-.94-2.06-.94-.94-2.06-.94 2.06-2.06.94zm-11 1L8.5 8.5l.94-2.06 2.06-.94-2.06-.94L8.5 2.5l-.94 2.06-2.06.94zm10 10l.94 2.06.94-2.06 2.06-.94-2.06-.94-.94-2.06-.94 2.06-2.06.94z\"/><path d=\"M17.41 7.96l-1.37-1.37c-.4-.4-.92-.59-1.43-.59-.52 0-1.04.2-1.43.59L10.3 9.45l-7.72 7.72c-.78.78-.78 2.05 0 2.83L4 21.41c.39.39.9.59 1.41.59.51 0 1.02-.2 1.41-.59l7.78-7.78 2.81-2.81c.8-.78.8-2.07 0-2.86zM5.41 20L4 18.59l7.72-7.72 1.47 1.35L5.41 20z\"/>\n",
              "  </svg>\n",
              "      </button>\n",
              "      \n",
              "  <style>\n",
              "    .colab-df-container {\n",
              "      display:flex;\n",
              "      flex-wrap:wrap;\n",
              "      gap: 12px;\n",
              "    }\n",
              "\n",
              "    .colab-df-convert {\n",
              "      background-color: #E8F0FE;\n",
              "      border: none;\n",
              "      border-radius: 50%;\n",
              "      cursor: pointer;\n",
              "      display: none;\n",
              "      fill: #1967D2;\n",
              "      height: 32px;\n",
              "      padding: 0 0 0 0;\n",
              "      width: 32px;\n",
              "    }\n",
              "\n",
              "    .colab-df-convert:hover {\n",
              "      background-color: #E2EBFA;\n",
              "      box-shadow: 0px 1px 2px rgba(60, 64, 67, 0.3), 0px 1px 3px 1px rgba(60, 64, 67, 0.15);\n",
              "      fill: #174EA6;\n",
              "    }\n",
              "\n",
              "    [theme=dark] .colab-df-convert {\n",
              "      background-color: #3B4455;\n",
              "      fill: #D2E3FC;\n",
              "    }\n",
              "\n",
              "    [theme=dark] .colab-df-convert:hover {\n",
              "      background-color: #434B5C;\n",
              "      box-shadow: 0px 1px 3px 1px rgba(0, 0, 0, 0.15);\n",
              "      filter: drop-shadow(0px 1px 2px rgba(0, 0, 0, 0.3));\n",
              "      fill: #FFFFFF;\n",
              "    }\n",
              "  </style>\n",
              "\n",
              "      <script>\n",
              "        const buttonEl =\n",
              "          document.querySelector('#df-a5014b8e-7208-4d93-8505-d905b95326ea button.colab-df-convert');\n",
              "        buttonEl.style.display =\n",
              "          google.colab.kernel.accessAllowed ? 'block' : 'none';\n",
              "\n",
              "        async function convertToInteractive(key) {\n",
              "          const element = document.querySelector('#df-a5014b8e-7208-4d93-8505-d905b95326ea');\n",
              "          const dataTable =\n",
              "            await google.colab.kernel.invokeFunction('convertToInteractive',\n",
              "                                                     [key], {});\n",
              "          if (!dataTable) return;\n",
              "\n",
              "          const docLinkHtml = 'Like what you see? Visit the ' +\n",
              "            '<a target=\"_blank\" href=https://colab.research.google.com/notebooks/data_table.ipynb>data table notebook</a>'\n",
              "            + ' to learn more about interactive tables.';\n",
              "          element.innerHTML = '';\n",
              "          dataTable['output_type'] = 'display_data';\n",
              "          await google.colab.output.renderOutput(dataTable, element);\n",
              "          const docLink = document.createElement('div');\n",
              "          docLink.innerHTML = docLinkHtml;\n",
              "          element.appendChild(docLink);\n",
              "        }\n",
              "      </script>\n",
              "    </div>\n",
              "  </div>\n",
              "  "
            ],
            "text/plain": [
              "  category  ...                                    imageURLHighRes\n",
              "0       []  ...                                                 []\n",
              "1       []  ...                                                 []\n",
              "2       []  ...                                                 []\n",
              "3       []  ...  [https://images-na.ssl-images-amazon.com/image...\n",
              "4       []  ...  [https://images-na.ssl-images-amazon.com/image...\n",
              "\n",
              "[5 rows x 19 columns]"
            ]
          },
          "metadata": {},
          "execution_count": 4
        }
      ],
      "source": [
        "metadata.head()"
      ],
      "id": "Q-IRsilOfUsg"
    },
    {
      "cell_type": "code",
      "execution_count": 5,
      "metadata": {
        "colab": {
          "base_uri": "https://localhost:8080/",
          "height": 206
        },
        "id": "G-jzYaMUfUsg",
        "outputId": "25a9f18e-0751-4997-848c-87ba13fa9872"
      },
      "outputs": [
        {
          "output_type": "execute_result",
          "data": {
            "text/html": [
              "\n",
              "  <div id=\"df-90dff87c-4dad-49f7-ba8a-fde1d5dfc428\">\n",
              "    <div class=\"colab-df-container\">\n",
              "      <div>\n",
              "<style scoped>\n",
              "    .dataframe tbody tr th:only-of-type {\n",
              "        vertical-align: middle;\n",
              "    }\n",
              "\n",
              "    .dataframe tbody tr th {\n",
              "        vertical-align: top;\n",
              "    }\n",
              "\n",
              "    .dataframe thead th {\n",
              "        text-align: right;\n",
              "    }\n",
              "</style>\n",
              "<table border=\"1\" class=\"dataframe\">\n",
              "  <thead>\n",
              "    <tr style=\"text-align: right;\">\n",
              "      <th></th>\n",
              "      <th>asin</th>\n",
              "      <th>reviewerID</th>\n",
              "      <th>overall</th>\n",
              "      <th>unixReviewTime</th>\n",
              "    </tr>\n",
              "  </thead>\n",
              "  <tbody>\n",
              "    <tr>\n",
              "      <th>0</th>\n",
              "      <td>0143026860</td>\n",
              "      <td>A1V6B6TNIC10QE</td>\n",
              "      <td>1.0</td>\n",
              "      <td>1424304000</td>\n",
              "    </tr>\n",
              "    <tr>\n",
              "      <th>1</th>\n",
              "      <td>0143026860</td>\n",
              "      <td>A2F5GHSXFQ0W6J</td>\n",
              "      <td>4.0</td>\n",
              "      <td>1418860800</td>\n",
              "    </tr>\n",
              "    <tr>\n",
              "      <th>2</th>\n",
              "      <td>0143026860</td>\n",
              "      <td>A1572GUYS7DGSR</td>\n",
              "      <td>4.0</td>\n",
              "      <td>1407628800</td>\n",
              "    </tr>\n",
              "    <tr>\n",
              "      <th>3</th>\n",
              "      <td>0143026860</td>\n",
              "      <td>A1PSGLFK1NSVO</td>\n",
              "      <td>5.0</td>\n",
              "      <td>1362960000</td>\n",
              "    </tr>\n",
              "    <tr>\n",
              "      <th>4</th>\n",
              "      <td>0143026860</td>\n",
              "      <td>A6IKXKZMTKGSC</td>\n",
              "      <td>5.0</td>\n",
              "      <td>1324771200</td>\n",
              "    </tr>\n",
              "  </tbody>\n",
              "</table>\n",
              "</div>\n",
              "      <button class=\"colab-df-convert\" onclick=\"convertToInteractive('df-90dff87c-4dad-49f7-ba8a-fde1d5dfc428')\"\n",
              "              title=\"Convert this dataframe to an interactive table.\"\n",
              "              style=\"display:none;\">\n",
              "        \n",
              "  <svg xmlns=\"http://www.w3.org/2000/svg\" height=\"24px\"viewBox=\"0 0 24 24\"\n",
              "       width=\"24px\">\n",
              "    <path d=\"M0 0h24v24H0V0z\" fill=\"none\"/>\n",
              "    <path d=\"M18.56 5.44l.94 2.06.94-2.06 2.06-.94-2.06-.94-.94-2.06-.94 2.06-2.06.94zm-11 1L8.5 8.5l.94-2.06 2.06-.94-2.06-.94L8.5 2.5l-.94 2.06-2.06.94zm10 10l.94 2.06.94-2.06 2.06-.94-2.06-.94-.94-2.06-.94 2.06-2.06.94z\"/><path d=\"M17.41 7.96l-1.37-1.37c-.4-.4-.92-.59-1.43-.59-.52 0-1.04.2-1.43.59L10.3 9.45l-7.72 7.72c-.78.78-.78 2.05 0 2.83L4 21.41c.39.39.9.59 1.41.59.51 0 1.02-.2 1.41-.59l7.78-7.78 2.81-2.81c.8-.78.8-2.07 0-2.86zM5.41 20L4 18.59l7.72-7.72 1.47 1.35L5.41 20z\"/>\n",
              "  </svg>\n",
              "      </button>\n",
              "      \n",
              "  <style>\n",
              "    .colab-df-container {\n",
              "      display:flex;\n",
              "      flex-wrap:wrap;\n",
              "      gap: 12px;\n",
              "    }\n",
              "\n",
              "    .colab-df-convert {\n",
              "      background-color: #E8F0FE;\n",
              "      border: none;\n",
              "      border-radius: 50%;\n",
              "      cursor: pointer;\n",
              "      display: none;\n",
              "      fill: #1967D2;\n",
              "      height: 32px;\n",
              "      padding: 0 0 0 0;\n",
              "      width: 32px;\n",
              "    }\n",
              "\n",
              "    .colab-df-convert:hover {\n",
              "      background-color: #E2EBFA;\n",
              "      box-shadow: 0px 1px 2px rgba(60, 64, 67, 0.3), 0px 1px 3px 1px rgba(60, 64, 67, 0.15);\n",
              "      fill: #174EA6;\n",
              "    }\n",
              "\n",
              "    [theme=dark] .colab-df-convert {\n",
              "      background-color: #3B4455;\n",
              "      fill: #D2E3FC;\n",
              "    }\n",
              "\n",
              "    [theme=dark] .colab-df-convert:hover {\n",
              "      background-color: #434B5C;\n",
              "      box-shadow: 0px 1px 3px 1px rgba(0, 0, 0, 0.15);\n",
              "      filter: drop-shadow(0px 1px 2px rgba(0, 0, 0, 0.3));\n",
              "      fill: #FFFFFF;\n",
              "    }\n",
              "  </style>\n",
              "\n",
              "      <script>\n",
              "        const buttonEl =\n",
              "          document.querySelector('#df-90dff87c-4dad-49f7-ba8a-fde1d5dfc428 button.colab-df-convert');\n",
              "        buttonEl.style.display =\n",
              "          google.colab.kernel.accessAllowed ? 'block' : 'none';\n",
              "\n",
              "        async function convertToInteractive(key) {\n",
              "          const element = document.querySelector('#df-90dff87c-4dad-49f7-ba8a-fde1d5dfc428');\n",
              "          const dataTable =\n",
              "            await google.colab.kernel.invokeFunction('convertToInteractive',\n",
              "                                                     [key], {});\n",
              "          if (!dataTable) return;\n",
              "\n",
              "          const docLinkHtml = 'Like what you see? Visit the ' +\n",
              "            '<a target=\"_blank\" href=https://colab.research.google.com/notebooks/data_table.ipynb>data table notebook</a>'\n",
              "            + ' to learn more about interactive tables.';\n",
              "          element.innerHTML = '';\n",
              "          dataTable['output_type'] = 'display_data';\n",
              "          await google.colab.output.renderOutput(dataTable, element);\n",
              "          const docLink = document.createElement('div');\n",
              "          docLink.innerHTML = docLinkHtml;\n",
              "          element.appendChild(docLink);\n",
              "        }\n",
              "      </script>\n",
              "    </div>\n",
              "  </div>\n",
              "  "
            ],
            "text/plain": [
              "         asin      reviewerID  overall  unixReviewTime\n",
              "0  0143026860  A1V6B6TNIC10QE      1.0      1424304000\n",
              "1  0143026860  A2F5GHSXFQ0W6J      4.0      1418860800\n",
              "2  0143026860  A1572GUYS7DGSR      4.0      1407628800\n",
              "3  0143026860   A1PSGLFK1NSVO      5.0      1362960000\n",
              "4  0143026860   A6IKXKZMTKGSC      5.0      1324771200"
            ]
          },
          "metadata": {},
          "execution_count": 5
        }
      ],
      "source": [
        "ratings.head()"
      ],
      "id": "G-jzYaMUfUsg"
    },
    {
      "cell_type": "markdown",
      "metadata": {
        "id": "QzkpDQtEfUsh"
      },
      "source": [
        "## 資料整理"
      ],
      "id": "QzkpDQtEfUsh"
    },
    {
      "cell_type": "code",
      "execution_count": 6,
      "metadata": {
        "id": "LNldicZ_fUsi"
      },
      "outputs": [],
      "source": [
        "ratings['DATE'] = pd.to_datetime(ratings['unixReviewTime'], unit='s')"
      ],
      "id": "LNldicZ_fUsi"
    },
    {
      "cell_type": "markdown",
      "metadata": {
        "id": "-uQouoy8fUsi"
      },
      "source": [
        "## 資料切分"
      ],
      "id": "-uQouoy8fUsi"
    },
    {
      "cell_type": "code",
      "execution_count": 7,
      "metadata": {
        "id": "44yYaxD9fUsi"
      },
      "outputs": [],
      "source": [
        "ratings_trainings = ratings[\n",
        "    (ratings['DATE'] < '2018-09-01')\n",
        "]\n",
        "ratings_testings = ratings[\n",
        "    (ratings['DATE'] >= '2018-09-01') & \n",
        "    (ratings['DATE'] <= '2018-09-30')\n",
        "]\n",
        "ratings_testings_by_user = ratings_testings.groupby('reviewerID').agg(list).reset_index()[['reviewerID', 'asin']].to_dict('records')\n",
        "ratings_testings_by_user = { rating['reviewerID']: rating['asin'] for rating in ratings_testings_by_user }\n",
        "users = list(ratings_testings_by_user.keys())"
      ],
      "id": "44yYaxD9fUsi"
    },
    {
      "cell_type": "code",
      "source": [
        "ratings_trainings"
      ],
      "metadata": {
        "id": "vqif7fagjJ-I",
        "outputId": "80e282e2-0cd3-489a-814a-f4c30f3dda4f",
        "colab": {
          "base_uri": "https://localhost:8080/",
          "height": 424
        }
      },
      "id": "vqif7fagjJ-I",
      "execution_count": 131,
      "outputs": [
        {
          "output_type": "execute_result",
          "data": {
            "text/html": [
              "\n",
              "  <div id=\"df-979f4df3-787f-4e84-97c0-f3efb3134251\">\n",
              "    <div class=\"colab-df-container\">\n",
              "      <div>\n",
              "<style scoped>\n",
              "    .dataframe tbody tr th:only-of-type {\n",
              "        vertical-align: middle;\n",
              "    }\n",
              "\n",
              "    .dataframe tbody tr th {\n",
              "        vertical-align: top;\n",
              "    }\n",
              "\n",
              "    .dataframe thead th {\n",
              "        text-align: right;\n",
              "    }\n",
              "</style>\n",
              "<table border=\"1\" class=\"dataframe\">\n",
              "  <thead>\n",
              "    <tr style=\"text-align: right;\">\n",
              "      <th></th>\n",
              "      <th>asin</th>\n",
              "      <th>reviewerID</th>\n",
              "      <th>overall</th>\n",
              "      <th>unixReviewTime</th>\n",
              "      <th>DATE</th>\n",
              "    </tr>\n",
              "  </thead>\n",
              "  <tbody>\n",
              "    <tr>\n",
              "      <th>0</th>\n",
              "      <td>0143026860</td>\n",
              "      <td>A1V6B6TNIC10QE</td>\n",
              "      <td>1.0</td>\n",
              "      <td>1424304000</td>\n",
              "      <td>2015-02-19</td>\n",
              "    </tr>\n",
              "    <tr>\n",
              "      <th>1</th>\n",
              "      <td>0143026860</td>\n",
              "      <td>A2F5GHSXFQ0W6J</td>\n",
              "      <td>4.0</td>\n",
              "      <td>1418860800</td>\n",
              "      <td>2014-12-18</td>\n",
              "    </tr>\n",
              "    <tr>\n",
              "      <th>2</th>\n",
              "      <td>0143026860</td>\n",
              "      <td>A1572GUYS7DGSR</td>\n",
              "      <td>4.0</td>\n",
              "      <td>1407628800</td>\n",
              "      <td>2014-08-10</td>\n",
              "    </tr>\n",
              "    <tr>\n",
              "      <th>3</th>\n",
              "      <td>0143026860</td>\n",
              "      <td>A1PSGLFK1NSVO</td>\n",
              "      <td>5.0</td>\n",
              "      <td>1362960000</td>\n",
              "      <td>2013-03-11</td>\n",
              "    </tr>\n",
              "    <tr>\n",
              "      <th>4</th>\n",
              "      <td>0143026860</td>\n",
              "      <td>A6IKXKZMTKGSC</td>\n",
              "      <td>5.0</td>\n",
              "      <td>1324771200</td>\n",
              "      <td>2011-12-25</td>\n",
              "    </tr>\n",
              "    <tr>\n",
              "      <th>...</th>\n",
              "      <td>...</td>\n",
              "      <td>...</td>\n",
              "      <td>...</td>\n",
              "      <td>...</td>\n",
              "      <td>...</td>\n",
              "    </tr>\n",
              "    <tr>\n",
              "      <th>371340</th>\n",
              "      <td>B01HJEGTYK</td>\n",
              "      <td>A202DCI7TV1022</td>\n",
              "      <td>1.0</td>\n",
              "      <td>1500508800</td>\n",
              "      <td>2017-07-20</td>\n",
              "    </tr>\n",
              "    <tr>\n",
              "      <th>371341</th>\n",
              "      <td>B01HJEGTYK</td>\n",
              "      <td>A3FSOR5IJOFIBE</td>\n",
              "      <td>5.0</td>\n",
              "      <td>1489622400</td>\n",
              "      <td>2017-03-16</td>\n",
              "    </tr>\n",
              "    <tr>\n",
              "      <th>371342</th>\n",
              "      <td>B01HJEGTYK</td>\n",
              "      <td>A1B5DK6CTP2P24</td>\n",
              "      <td>5.0</td>\n",
              "      <td>1488326400</td>\n",
              "      <td>2017-03-01</td>\n",
              "    </tr>\n",
              "    <tr>\n",
              "      <th>371343</th>\n",
              "      <td>B01HJEGTYK</td>\n",
              "      <td>A23OUYS5IRMJS9</td>\n",
              "      <td>2.0</td>\n",
              "      <td>1487635200</td>\n",
              "      <td>2017-02-21</td>\n",
              "    </tr>\n",
              "    <tr>\n",
              "      <th>371344</th>\n",
              "      <td>B01HJEGTYK</td>\n",
              "      <td>A24KQ9RVU81L87</td>\n",
              "      <td>2.0</td>\n",
              "      <td>1481760000</td>\n",
              "      <td>2016-12-15</td>\n",
              "    </tr>\n",
              "  </tbody>\n",
              "</table>\n",
              "<p>370752 rows × 5 columns</p>\n",
              "</div>\n",
              "      <button class=\"colab-df-convert\" onclick=\"convertToInteractive('df-979f4df3-787f-4e84-97c0-f3efb3134251')\"\n",
              "              title=\"Convert this dataframe to an interactive table.\"\n",
              "              style=\"display:none;\">\n",
              "        \n",
              "  <svg xmlns=\"http://www.w3.org/2000/svg\" height=\"24px\"viewBox=\"0 0 24 24\"\n",
              "       width=\"24px\">\n",
              "    <path d=\"M0 0h24v24H0V0z\" fill=\"none\"/>\n",
              "    <path d=\"M18.56 5.44l.94 2.06.94-2.06 2.06-.94-2.06-.94-.94-2.06-.94 2.06-2.06.94zm-11 1L8.5 8.5l.94-2.06 2.06-.94-2.06-.94L8.5 2.5l-.94 2.06-2.06.94zm10 10l.94 2.06.94-2.06 2.06-.94-2.06-.94-.94-2.06-.94 2.06-2.06.94z\"/><path d=\"M17.41 7.96l-1.37-1.37c-.4-.4-.92-.59-1.43-.59-.52 0-1.04.2-1.43.59L10.3 9.45l-7.72 7.72c-.78.78-.78 2.05 0 2.83L4 21.41c.39.39.9.59 1.41.59.51 0 1.02-.2 1.41-.59l7.78-7.78 2.81-2.81c.8-.78.8-2.07 0-2.86zM5.41 20L4 18.59l7.72-7.72 1.47 1.35L5.41 20z\"/>\n",
              "  </svg>\n",
              "      </button>\n",
              "      \n",
              "  <style>\n",
              "    .colab-df-container {\n",
              "      display:flex;\n",
              "      flex-wrap:wrap;\n",
              "      gap: 12px;\n",
              "    }\n",
              "\n",
              "    .colab-df-convert {\n",
              "      background-color: #E8F0FE;\n",
              "      border: none;\n",
              "      border-radius: 50%;\n",
              "      cursor: pointer;\n",
              "      display: none;\n",
              "      fill: #1967D2;\n",
              "      height: 32px;\n",
              "      padding: 0 0 0 0;\n",
              "      width: 32px;\n",
              "    }\n",
              "\n",
              "    .colab-df-convert:hover {\n",
              "      background-color: #E2EBFA;\n",
              "      box-shadow: 0px 1px 2px rgba(60, 64, 67, 0.3), 0px 1px 3px 1px rgba(60, 64, 67, 0.15);\n",
              "      fill: #174EA6;\n",
              "    }\n",
              "\n",
              "    [theme=dark] .colab-df-convert {\n",
              "      background-color: #3B4455;\n",
              "      fill: #D2E3FC;\n",
              "    }\n",
              "\n",
              "    [theme=dark] .colab-df-convert:hover {\n",
              "      background-color: #434B5C;\n",
              "      box-shadow: 0px 1px 3px 1px rgba(0, 0, 0, 0.15);\n",
              "      filter: drop-shadow(0px 1px 2px rgba(0, 0, 0, 0.3));\n",
              "      fill: #FFFFFF;\n",
              "    }\n",
              "  </style>\n",
              "\n",
              "      <script>\n",
              "        const buttonEl =\n",
              "          document.querySelector('#df-979f4df3-787f-4e84-97c0-f3efb3134251 button.colab-df-convert');\n",
              "        buttonEl.style.display =\n",
              "          google.colab.kernel.accessAllowed ? 'block' : 'none';\n",
              "\n",
              "        async function convertToInteractive(key) {\n",
              "          const element = document.querySelector('#df-979f4df3-787f-4e84-97c0-f3efb3134251');\n",
              "          const dataTable =\n",
              "            await google.colab.kernel.invokeFunction('convertToInteractive',\n",
              "                                                     [key], {});\n",
              "          if (!dataTable) return;\n",
              "\n",
              "          const docLinkHtml = 'Like what you see? Visit the ' +\n",
              "            '<a target=\"_blank\" href=https://colab.research.google.com/notebooks/data_table.ipynb>data table notebook</a>'\n",
              "            + ' to learn more about interactive tables.';\n",
              "          element.innerHTML = '';\n",
              "          dataTable['output_type'] = 'display_data';\n",
              "          await google.colab.output.renderOutput(dataTable, element);\n",
              "          const docLink = document.createElement('div');\n",
              "          docLink.innerHTML = docLinkHtml;\n",
              "          element.appendChild(docLink);\n",
              "        }\n",
              "      </script>\n",
              "    </div>\n",
              "  </div>\n",
              "  "
            ],
            "text/plain": [
              "              asin      reviewerID  overall  unixReviewTime       DATE\n",
              "0       0143026860  A1V6B6TNIC10QE      1.0      1424304000 2015-02-19\n",
              "1       0143026860  A2F5GHSXFQ0W6J      4.0      1418860800 2014-12-18\n",
              "2       0143026860  A1572GUYS7DGSR      4.0      1407628800 2014-08-10\n",
              "3       0143026860   A1PSGLFK1NSVO      5.0      1362960000 2013-03-11\n",
              "4       0143026860   A6IKXKZMTKGSC      5.0      1324771200 2011-12-25\n",
              "...            ...             ...      ...             ...        ...\n",
              "371340  B01HJEGTYK  A202DCI7TV1022      1.0      1500508800 2017-07-20\n",
              "371341  B01HJEGTYK  A3FSOR5IJOFIBE      5.0      1489622400 2017-03-16\n",
              "371342  B01HJEGTYK  A1B5DK6CTP2P24      5.0      1488326400 2017-03-01\n",
              "371343  B01HJEGTYK  A23OUYS5IRMJS9      2.0      1487635200 2017-02-21\n",
              "371344  B01HJEGTYK  A24KQ9RVU81L87      2.0      1481760000 2016-12-15\n",
              "\n",
              "[370752 rows x 5 columns]"
            ]
          },
          "metadata": {},
          "execution_count": 131
        }
      ]
    },
    {
      "cell_type": "code",
      "source": [
        "ratings[\n",
        "    (ratings['DATE'] >= '2018-09-01') & \n",
        "    (ratings['DATE'] <= '2018-09-30')\n",
        "]"
      ],
      "metadata": {
        "id": "gc7bkb28rGUj"
      },
      "id": "gc7bkb28rGUj",
      "execution_count": null,
      "outputs": []
    },
    {
      "cell_type": "code",
      "source": [
        "ratings_trainings.groupby(by=['asin']).size()"
      ],
      "metadata": {
        "id": "Jv6ov9l2o-ct"
      },
      "id": "Jv6ov9l2o-ct",
      "execution_count": null,
      "outputs": []
    },
    {
      "cell_type": "code",
      "source": [
        "ratings_trainings.groupby(by=['asin']).mean()['overall']"
      ],
      "metadata": {
        "id": "qwqJ8MiBtEe1"
      },
      "id": "qwqJ8MiBtEe1",
      "execution_count": null,
      "outputs": []
    },
    {
      "cell_type": "markdown",
      "metadata": {
        "id": "habr2e0VfUsj"
      },
      "source": [
        "## 產生推薦"
      ],
      "id": "habr2e0VfUsj"
    },
    {
      "cell_type": "code",
      "execution_count": 123,
      "metadata": {
        "id": "ZP2CidAzfUsj"
      },
      "outputs": [],
      "source": [
        "def recommender(training_data, users=[], k=10):\n",
        "    '''\n",
        "    * training_data: dataframe 輸入的訓練資料集（2018-09-01 以前資料）\n",
        "    * users: [] 需要被推薦的使用者\n",
        "    * k: int 每個使用者需要推薦的商品數\n",
        "    * recommendations: dict\n",
        "      {\n",
        "          使用者一： [推薦商品一, 推薦商品二, ...],\n",
        "          使用者二： [...], ...\n",
        "      }\n",
        "    '''\n",
        "    recommendations = {}\n",
        "    '''\n",
        "    Your Code\n",
        "    metadata!! (make use of it)\n",
        "    \n",
        "    training_by_user = training_data.groupby('reviewerID').agg(list).reset_index()[['reviewerID', 'asin']].to_dict('records')\n",
        "    training_by_user = { rating['reviewerID']: rating['asin'] for rating in training_by_user }\n",
        "    return training_by_user\n",
        "    '''\n",
        "    \n",
        "    re=list(training_data['asin'].value_counts().keys())[:k]\n",
        "\n",
        "    return {user: re for user in users}\n",
        "      \n",
        "    #ratings_trainings = training_data\n",
        "    #recommendations = {user: ratings_trainings['asin'].sample(n=k).tolist() for user in users}\n",
        "    #return recommendations\n",
        "\n",
        "\n",
        "ratings_by_user = recommender(ratings_trainings, users,k=10)\n",
        "#ratings_by_user"
      ],
      "id": "ZP2CidAzfUsj"
    },
    {
      "cell_type": "markdown",
      "metadata": {
        "id": "J1bP0pUJfUsk"
      },
      "source": [
        "## 結果評估"
      ],
      "id": "J1bP0pUJfUsk"
    },
    {
      "cell_type": "code",
      "execution_count": 158,
      "metadata": {
        "colab": {
          "base_uri": "https://localhost:8080/"
        },
        "id": "nS_myMgRfUsk",
        "outputId": "24ff3c7c-4ca3-431c-c667-408d838dadbb"
      },
      "outputs": [
        {
          "output_type": "execute_result",
          "data": {
            "text/plain": [
              "0.08305084745762711"
            ]
          },
          "metadata": {},
          "execution_count": 158
        }
      ],
      "source": [
        "def evaluate(ratings_testings_by_user={}, ratings_by_user={}, method=None):\n",
        "    '''\n",
        "    * ratings_testings_by_user: dict 真實被購買的商品資料（2018-09-01 以後資料）\n",
        "    * ratings_by_user: dict 利用訓練資料學習的推薦商品\n",
        "    * method: str\n",
        "    * score: float\n",
        "    '''\n",
        "    total = 0\n",
        "    for d in ratings_testings_by_user:\n",
        "        if d in ratings_by_user:\n",
        "            total += len(set(ratings_by_user[d]) & set(ratings_testings_by_user[d]))\n",
        "\n",
        "    score = total / len(ratings_testings)\n",
        "    return score\n",
        "\n",
        "evaluate(ratings_testings_by_user, ratings_by_user)"
      ],
      "id": "nS_myMgRfUsk"
    },
    {
      "cell_type": "code",
      "source": [
        "t=ratings_trainings[\n",
        "    (ratings_trainings['DATE'] >= '2018-08-01') & \n",
        "    (ratings_trainings['DATE'] < '2018-09-01')\n",
        "]\n",
        "evaluate(ratings_testings_by_user, recommender(t, users,10))\n"
      ],
      "metadata": {
        "id": "v9cQSkUs3zBU",
        "outputId": "ef1ccfce-edcc-4f89-dd21-6297c7631404",
        "colab": {
          "base_uri": "https://localhost:8080/"
        }
      },
      "id": "v9cQSkUs3zBU",
      "execution_count": 176,
      "outputs": [
        {
          "output_type": "execute_result",
          "data": {
            "text/plain": [
              "0.15423728813559323"
            ]
          },
          "metadata": {},
          "execution_count": 176
        }
      ]
    },
    {
      "cell_type": "code",
      "source": [
        "x=[x for x in range(1,101)]\n",
        "y=[evaluate(ratings_testings_by_user, recommender(ratings_trainings, users,k)) for k in range(1,101)]\n",
        "plt.plot(x,y)"
      ],
      "metadata": {
        "id": "OviePitT0cRl"
      },
      "id": "OviePitT0cRl",
      "execution_count": null,
      "outputs": []
    }
  ],
  "metadata": {
    "kernelspec": {
      "display_name": "Python 3",
      "language": "python",
      "name": "python3"
    },
    "language_info": {
      "codemirror_mode": {
        "name": "ipython",
        "version": 3
      },
      "file_extension": ".py",
      "mimetype": "text/x-python",
      "name": "python",
      "nbconvert_exporter": "python",
      "pygments_lexer": "ipython3",
      "version": "3.6.5"
    },
    "colab": {
      "name": "sample.ipynb",
      "provenance": []
    }
  },
  "nbformat": 4,
  "nbformat_minor": 5
}
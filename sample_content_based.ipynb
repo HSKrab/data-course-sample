{
  "cells": [
    {
      "cell_type": "markdown",
      "metadata": {
        "id": "view-in-github",
        "colab_type": "text"
      },
      "source": [
        "<a href=\"https://colab.research.google.com/github/HSKrab/data-course-sample/blob/main/sample_content_based.ipynb\" target=\"_parent\"><img src=\"https://colab.research.google.com/assets/colab-badge.svg\" alt=\"Open In Colab\"/></a>"
      ]
    },
    {
      "cell_type": "markdown",
      "id": "84de56a8",
      "metadata": {
        "id": "84de56a8"
      },
      "source": [
        "# Sample Code"
      ]
    },
    {
      "cell_type": "markdown",
      "id": "688675f5",
      "metadata": {
        "id": "688675f5"
      },
      "source": [
        "## 基礎建設"
      ]
    },
    {
      "cell_type": "code",
      "source": [
        "import matplotlib.pyplot as plt\n",
        "import datetime\n",
        "from dateutil.relativedelta import relativedelta"
      ],
      "metadata": {
        "id": "MxTZsN5qozsq"
      },
      "id": "MxTZsN5qozsq",
      "execution_count": 1,
      "outputs": []
    },
    {
      "cell_type": "code",
      "execution_count": 2,
      "id": "b32226db",
      "metadata": {
        "scrolled": true,
        "id": "b32226db"
      },
      "outputs": [],
      "source": [
        "import pandas as pd\n",
        "import gzip, json\n",
        "\n",
        "def parse(path):\n",
        "    g = gzip.open(path, 'rb')\n",
        "    for l in g:\n",
        "        yield json.loads(l)\n",
        "\n",
        "def getDF(path):\n",
        "    i = 0\n",
        "    df = {}\n",
        "    for d in parse(path):\n",
        "        df[i] = d\n",
        "        i += 1\n",
        "    return pd.DataFrame.from_dict(df, orient='index')"
      ]
    },
    {
      "cell_type": "markdown",
      "id": "84ff0f9d",
      "metadata": {
        "id": "84ff0f9d"
      },
      "source": [
        "## 載入資料"
      ]
    },
    {
      "cell_type": "code",
      "execution_count": 3,
      "id": "9402e9c7",
      "metadata": {
        "id": "9402e9c7",
        "colab": {
          "base_uri": "https://localhost:8080/"
        },
        "outputId": "6aa50af7-31b4-4173-c3de-f46dfef12a04"
      },
      "outputs": [
        {
          "output_type": "stream",
          "name": "stdout",
          "text": [
            "--2022-01-01 16:11:25--  http://deepyeti.ucsd.edu/jianmo/amazon/categoryFilesSmall/All_Beauty.csv\n",
            "Resolving deepyeti.ucsd.edu (deepyeti.ucsd.edu)... 169.228.63.50\n",
            "Connecting to deepyeti.ucsd.edu (deepyeti.ucsd.edu)|169.228.63.50|:80... connected.\n",
            "HTTP request sent, awaiting response... 200 OK\n",
            "Length: 15499476 (15M) [application/octet-stream]\n",
            "Saving to: ‘All_Beauty.csv.24’\n",
            "\n",
            "All_Beauty.csv.24   100%[===================>]  14.78M  23.5MB/s    in 0.6s    \n",
            "\n",
            "2022-01-01 16:11:25 (23.5 MB/s) - ‘All_Beauty.csv.24’ saved [15499476/15499476]\n",
            "\n",
            "--2022-01-01 16:11:26--  http://deepyeti.ucsd.edu/jianmo/amazon/metaFiles2/meta_All_Beauty.json.gz\n",
            "Resolving deepyeti.ucsd.edu (deepyeti.ucsd.edu)... 169.228.63.50\n",
            "Connecting to deepyeti.ucsd.edu (deepyeti.ucsd.edu)|169.228.63.50|:80... connected.\n",
            "HTTP request sent, awaiting response... 200 OK\n",
            "Length: 10329961 (9.9M) [application/octet-stream]\n",
            "Saving to: ‘meta_All_Beauty.json.gz.24’\n",
            "\n",
            "meta_All_Beauty.jso 100%[===================>]   9.85M  18.7MB/s    in 0.5s    \n",
            "\n",
            "2022-01-01 16:11:26 (18.7 MB/s) - ‘meta_All_Beauty.json.gz.24’ saved [10329961/10329961]\n",
            "\n"
          ]
        }
      ],
      "source": [
        "!wget http://deepyeti.ucsd.edu/jianmo/amazon/categoryFilesSmall/All_Beauty.csv\n",
        "!wget http://deepyeti.ucsd.edu/jianmo/amazon/metaFiles2/meta_All_Beauty.json.gz"
      ]
    },
    {
      "cell_type": "code",
      "execution_count": 4,
      "id": "84b66cc7",
      "metadata": {
        "id": "84b66cc7"
      },
      "outputs": [],
      "source": [
        "metadata = getDF('/content/meta_All_Beauty.json.gz')\n",
        "ratings = pd.read_csv('/content/All_Beauty.csv', names=['asin', 'reviewerID', 'overall', 'unixReviewTime'], header=None)"
      ]
    },
    {
      "cell_type": "code",
      "execution_count": 5,
      "id": "9fd77203",
      "metadata": {
        "id": "9fd77203",
        "outputId": "e3f5eabf-2ea9-4da6-e984-d7b89e80f783",
        "colab": {
          "base_uri": "https://localhost:8080/",
          "height": 652
        }
      },
      "outputs": [
        {
          "output_type": "execute_result",
          "data": {
            "text/html": [
              "\n",
              "  <div id=\"df-c24dda9a-d398-4e7c-999b-1f121fe0ff67\">\n",
              "    <div class=\"colab-df-container\">\n",
              "      <div>\n",
              "<style scoped>\n",
              "    .dataframe tbody tr th:only-of-type {\n",
              "        vertical-align: middle;\n",
              "    }\n",
              "\n",
              "    .dataframe tbody tr th {\n",
              "        vertical-align: top;\n",
              "    }\n",
              "\n",
              "    .dataframe thead th {\n",
              "        text-align: right;\n",
              "    }\n",
              "</style>\n",
              "<table border=\"1\" class=\"dataframe\">\n",
              "  <thead>\n",
              "    <tr style=\"text-align: right;\">\n",
              "      <th></th>\n",
              "      <th>category</th>\n",
              "      <th>tech1</th>\n",
              "      <th>description</th>\n",
              "      <th>fit</th>\n",
              "      <th>title</th>\n",
              "      <th>also_buy</th>\n",
              "      <th>tech2</th>\n",
              "      <th>brand</th>\n",
              "      <th>feature</th>\n",
              "      <th>rank</th>\n",
              "      <th>also_view</th>\n",
              "      <th>details</th>\n",
              "      <th>main_cat</th>\n",
              "      <th>similar_item</th>\n",
              "      <th>date</th>\n",
              "      <th>price</th>\n",
              "      <th>asin</th>\n",
              "      <th>imageURL</th>\n",
              "      <th>imageURLHighRes</th>\n",
              "    </tr>\n",
              "  </thead>\n",
              "  <tbody>\n",
              "    <tr>\n",
              "      <th>0</th>\n",
              "      <td>[]</td>\n",
              "      <td></td>\n",
              "      <td>[Loud 'N Clear Personal Sound Amplifier allows...</td>\n",
              "      <td></td>\n",
              "      <td>Loud 'N Clear&amp;trade; Personal Sound Amplifier</td>\n",
              "      <td>[]</td>\n",
              "      <td></td>\n",
              "      <td>idea village</td>\n",
              "      <td>[]</td>\n",
              "      <td>2,938,573 in Beauty &amp; Personal Care (</td>\n",
              "      <td>[]</td>\n",
              "      <td>{'ASIN: ': '6546546450'}</td>\n",
              "      <td>All Beauty</td>\n",
              "      <td></td>\n",
              "      <td></td>\n",
              "      <td></td>\n",
              "      <td>6546546450</td>\n",
              "      <td>[]</td>\n",
              "      <td>[]</td>\n",
              "    </tr>\n",
              "    <tr>\n",
              "      <th>1</th>\n",
              "      <td>[]</td>\n",
              "      <td></td>\n",
              "      <td>[No7 Lift &amp; Luminate Triple Action Serum 50ml ...</td>\n",
              "      <td></td>\n",
              "      <td>No7 Lift &amp;amp; Luminate Triple Action Serum 50...</td>\n",
              "      <td>[B01E7LCSL6, B008X5RVME]</td>\n",
              "      <td></td>\n",
              "      <td></td>\n",
              "      <td>[]</td>\n",
              "      <td>872,854 in Beauty &amp; Personal Care (</td>\n",
              "      <td>[]</td>\n",
              "      <td>{'Shipping Weight:': '0.3 ounces (', 'ASIN: ':...</td>\n",
              "      <td>All Beauty</td>\n",
              "      <td>class=\"a-bordered a-horizontal-stripes  a-spa...</td>\n",
              "      <td></td>\n",
              "      <td>$44.99</td>\n",
              "      <td>7178680776</td>\n",
              "      <td>[]</td>\n",
              "      <td>[]</td>\n",
              "    </tr>\n",
              "    <tr>\n",
              "      <th>2</th>\n",
              "      <td>[]</td>\n",
              "      <td></td>\n",
              "      <td>[No7 Stay Perfect Foundation now stays perfect...</td>\n",
              "      <td></td>\n",
              "      <td>No7 Stay Perfect Foundation Cool Vanilla by No7</td>\n",
              "      <td>[]</td>\n",
              "      <td></td>\n",
              "      <td>No7</td>\n",
              "      <td>[]</td>\n",
              "      <td>956,696 in Beauty &amp; Personal Care (</td>\n",
              "      <td>[B01B8BR0O8, B01B8BR0NO, B014MHXXM8]</td>\n",
              "      <td>{'Shipping Weight:': '3.5 ounces (', 'ASIN: ':...</td>\n",
              "      <td>All Beauty</td>\n",
              "      <td></td>\n",
              "      <td></td>\n",
              "      <td>$28.76</td>\n",
              "      <td>7250468162</td>\n",
              "      <td>[]</td>\n",
              "      <td>[]</td>\n",
              "    </tr>\n",
              "    <tr>\n",
              "      <th>3</th>\n",
              "      <td>[]</td>\n",
              "      <td></td>\n",
              "      <td>[]</td>\n",
              "      <td></td>\n",
              "      <td>Wella Koleston Perfect Hair Colour 44/44 Mediu...</td>\n",
              "      <td>[B0041PBXX8]</td>\n",
              "      <td></td>\n",
              "      <td></td>\n",
              "      <td>[]</td>\n",
              "      <td>1,870,258 in Beauty &amp; Personal Care (</td>\n",
              "      <td>[]</td>\n",
              "      <td>{'\n",
              "    Item Weight: \n",
              "    ': '1.76 ounces', 'Sh...</td>\n",
              "      <td>All Beauty</td>\n",
              "      <td></td>\n",
              "      <td></td>\n",
              "      <td></td>\n",
              "      <td>7367905066</td>\n",
              "      <td>[https://images-na.ssl-images-amazon.com/image...</td>\n",
              "      <td>[https://images-na.ssl-images-amazon.com/image...</td>\n",
              "    </tr>\n",
              "    <tr>\n",
              "      <th>4</th>\n",
              "      <td>[]</td>\n",
              "      <td></td>\n",
              "      <td>[Lacto Calamine Skin Balance Daily Nourishing ...</td>\n",
              "      <td></td>\n",
              "      <td>Lacto Calamine Skin Balance Oil control 120 ml...</td>\n",
              "      <td>[]</td>\n",
              "      <td></td>\n",
              "      <td>Pirmal Healthcare</td>\n",
              "      <td>[]</td>\n",
              "      <td>67,701 in Beauty &amp; Personal Care (</td>\n",
              "      <td>[3254895630, B007VL1D9S, B00EH9A0RI, B0773MBG4...</td>\n",
              "      <td>{'Shipping Weight:': '12 ounces (', 'ASIN: ': ...</td>\n",
              "      <td>All Beauty</td>\n",
              "      <td></td>\n",
              "      <td></td>\n",
              "      <td>$12.15</td>\n",
              "      <td>7414204790</td>\n",
              "      <td>[https://images-na.ssl-images-amazon.com/image...</td>\n",
              "      <td>[https://images-na.ssl-images-amazon.com/image...</td>\n",
              "    </tr>\n",
              "  </tbody>\n",
              "</table>\n",
              "</div>\n",
              "      <button class=\"colab-df-convert\" onclick=\"convertToInteractive('df-c24dda9a-d398-4e7c-999b-1f121fe0ff67')\"\n",
              "              title=\"Convert this dataframe to an interactive table.\"\n",
              "              style=\"display:none;\">\n",
              "        \n",
              "  <svg xmlns=\"http://www.w3.org/2000/svg\" height=\"24px\"viewBox=\"0 0 24 24\"\n",
              "       width=\"24px\">\n",
              "    <path d=\"M0 0h24v24H0V0z\" fill=\"none\"/>\n",
              "    <path d=\"M18.56 5.44l.94 2.06.94-2.06 2.06-.94-2.06-.94-.94-2.06-.94 2.06-2.06.94zm-11 1L8.5 8.5l.94-2.06 2.06-.94-2.06-.94L8.5 2.5l-.94 2.06-2.06.94zm10 10l.94 2.06.94-2.06 2.06-.94-2.06-.94-.94-2.06-.94 2.06-2.06.94z\"/><path d=\"M17.41 7.96l-1.37-1.37c-.4-.4-.92-.59-1.43-.59-.52 0-1.04.2-1.43.59L10.3 9.45l-7.72 7.72c-.78.78-.78 2.05 0 2.83L4 21.41c.39.39.9.59 1.41.59.51 0 1.02-.2 1.41-.59l7.78-7.78 2.81-2.81c.8-.78.8-2.07 0-2.86zM5.41 20L4 18.59l7.72-7.72 1.47 1.35L5.41 20z\"/>\n",
              "  </svg>\n",
              "      </button>\n",
              "      \n",
              "  <style>\n",
              "    .colab-df-container {\n",
              "      display:flex;\n",
              "      flex-wrap:wrap;\n",
              "      gap: 12px;\n",
              "    }\n",
              "\n",
              "    .colab-df-convert {\n",
              "      background-color: #E8F0FE;\n",
              "      border: none;\n",
              "      border-radius: 50%;\n",
              "      cursor: pointer;\n",
              "      display: none;\n",
              "      fill: #1967D2;\n",
              "      height: 32px;\n",
              "      padding: 0 0 0 0;\n",
              "      width: 32px;\n",
              "    }\n",
              "\n",
              "    .colab-df-convert:hover {\n",
              "      background-color: #E2EBFA;\n",
              "      box-shadow: 0px 1px 2px rgba(60, 64, 67, 0.3), 0px 1px 3px 1px rgba(60, 64, 67, 0.15);\n",
              "      fill: #174EA6;\n",
              "    }\n",
              "\n",
              "    [theme=dark] .colab-df-convert {\n",
              "      background-color: #3B4455;\n",
              "      fill: #D2E3FC;\n",
              "    }\n",
              "\n",
              "    [theme=dark] .colab-df-convert:hover {\n",
              "      background-color: #434B5C;\n",
              "      box-shadow: 0px 1px 3px 1px rgba(0, 0, 0, 0.15);\n",
              "      filter: drop-shadow(0px 1px 2px rgba(0, 0, 0, 0.3));\n",
              "      fill: #FFFFFF;\n",
              "    }\n",
              "  </style>\n",
              "\n",
              "      <script>\n",
              "        const buttonEl =\n",
              "          document.querySelector('#df-c24dda9a-d398-4e7c-999b-1f121fe0ff67 button.colab-df-convert');\n",
              "        buttonEl.style.display =\n",
              "          google.colab.kernel.accessAllowed ? 'block' : 'none';\n",
              "\n",
              "        async function convertToInteractive(key) {\n",
              "          const element = document.querySelector('#df-c24dda9a-d398-4e7c-999b-1f121fe0ff67');\n",
              "          const dataTable =\n",
              "            await google.colab.kernel.invokeFunction('convertToInteractive',\n",
              "                                                     [key], {});\n",
              "          if (!dataTable) return;\n",
              "\n",
              "          const docLinkHtml = 'Like what you see? Visit the ' +\n",
              "            '<a target=\"_blank\" href=https://colab.research.google.com/notebooks/data_table.ipynb>data table notebook</a>'\n",
              "            + ' to learn more about interactive tables.';\n",
              "          element.innerHTML = '';\n",
              "          dataTable['output_type'] = 'display_data';\n",
              "          await google.colab.output.renderOutput(dataTable, element);\n",
              "          const docLink = document.createElement('div');\n",
              "          docLink.innerHTML = docLinkHtml;\n",
              "          element.appendChild(docLink);\n",
              "        }\n",
              "      </script>\n",
              "    </div>\n",
              "  </div>\n",
              "  "
            ],
            "text/plain": [
              "  category  ...                                    imageURLHighRes\n",
              "0       []  ...                                                 []\n",
              "1       []  ...                                                 []\n",
              "2       []  ...                                                 []\n",
              "3       []  ...  [https://images-na.ssl-images-amazon.com/image...\n",
              "4       []  ...  [https://images-na.ssl-images-amazon.com/image...\n",
              "\n",
              "[5 rows x 19 columns]"
            ]
          },
          "metadata": {},
          "execution_count": 5
        }
      ],
      "source": [
        "metadata.head()"
      ]
    },
    {
      "cell_type": "code",
      "execution_count": 6,
      "id": "b402792c",
      "metadata": {
        "id": "b402792c",
        "outputId": "7ad44052-29b8-4f6d-cdac-d43aa17c3c9d",
        "colab": {
          "base_uri": "https://localhost:8080/",
          "height": 206
        }
      },
      "outputs": [
        {
          "output_type": "execute_result",
          "data": {
            "text/html": [
              "\n",
              "  <div id=\"df-1ef3d77c-14c2-4437-a54e-7abd066361f0\">\n",
              "    <div class=\"colab-df-container\">\n",
              "      <div>\n",
              "<style scoped>\n",
              "    .dataframe tbody tr th:only-of-type {\n",
              "        vertical-align: middle;\n",
              "    }\n",
              "\n",
              "    .dataframe tbody tr th {\n",
              "        vertical-align: top;\n",
              "    }\n",
              "\n",
              "    .dataframe thead th {\n",
              "        text-align: right;\n",
              "    }\n",
              "</style>\n",
              "<table border=\"1\" class=\"dataframe\">\n",
              "  <thead>\n",
              "    <tr style=\"text-align: right;\">\n",
              "      <th></th>\n",
              "      <th>asin</th>\n",
              "      <th>reviewerID</th>\n",
              "      <th>overall</th>\n",
              "      <th>unixReviewTime</th>\n",
              "    </tr>\n",
              "  </thead>\n",
              "  <tbody>\n",
              "    <tr>\n",
              "      <th>0</th>\n",
              "      <td>0143026860</td>\n",
              "      <td>A1V6B6TNIC10QE</td>\n",
              "      <td>1.0</td>\n",
              "      <td>1424304000</td>\n",
              "    </tr>\n",
              "    <tr>\n",
              "      <th>1</th>\n",
              "      <td>0143026860</td>\n",
              "      <td>A2F5GHSXFQ0W6J</td>\n",
              "      <td>4.0</td>\n",
              "      <td>1418860800</td>\n",
              "    </tr>\n",
              "    <tr>\n",
              "      <th>2</th>\n",
              "      <td>0143026860</td>\n",
              "      <td>A1572GUYS7DGSR</td>\n",
              "      <td>4.0</td>\n",
              "      <td>1407628800</td>\n",
              "    </tr>\n",
              "    <tr>\n",
              "      <th>3</th>\n",
              "      <td>0143026860</td>\n",
              "      <td>A1PSGLFK1NSVO</td>\n",
              "      <td>5.0</td>\n",
              "      <td>1362960000</td>\n",
              "    </tr>\n",
              "    <tr>\n",
              "      <th>4</th>\n",
              "      <td>0143026860</td>\n",
              "      <td>A6IKXKZMTKGSC</td>\n",
              "      <td>5.0</td>\n",
              "      <td>1324771200</td>\n",
              "    </tr>\n",
              "  </tbody>\n",
              "</table>\n",
              "</div>\n",
              "      <button class=\"colab-df-convert\" onclick=\"convertToInteractive('df-1ef3d77c-14c2-4437-a54e-7abd066361f0')\"\n",
              "              title=\"Convert this dataframe to an interactive table.\"\n",
              "              style=\"display:none;\">\n",
              "        \n",
              "  <svg xmlns=\"http://www.w3.org/2000/svg\" height=\"24px\"viewBox=\"0 0 24 24\"\n",
              "       width=\"24px\">\n",
              "    <path d=\"M0 0h24v24H0V0z\" fill=\"none\"/>\n",
              "    <path d=\"M18.56 5.44l.94 2.06.94-2.06 2.06-.94-2.06-.94-.94-2.06-.94 2.06-2.06.94zm-11 1L8.5 8.5l.94-2.06 2.06-.94-2.06-.94L8.5 2.5l-.94 2.06-2.06.94zm10 10l.94 2.06.94-2.06 2.06-.94-2.06-.94-.94-2.06-.94 2.06-2.06.94z\"/><path d=\"M17.41 7.96l-1.37-1.37c-.4-.4-.92-.59-1.43-.59-.52 0-1.04.2-1.43.59L10.3 9.45l-7.72 7.72c-.78.78-.78 2.05 0 2.83L4 21.41c.39.39.9.59 1.41.59.51 0 1.02-.2 1.41-.59l7.78-7.78 2.81-2.81c.8-.78.8-2.07 0-2.86zM5.41 20L4 18.59l7.72-7.72 1.47 1.35L5.41 20z\"/>\n",
              "  </svg>\n",
              "      </button>\n",
              "      \n",
              "  <style>\n",
              "    .colab-df-container {\n",
              "      display:flex;\n",
              "      flex-wrap:wrap;\n",
              "      gap: 12px;\n",
              "    }\n",
              "\n",
              "    .colab-df-convert {\n",
              "      background-color: #E8F0FE;\n",
              "      border: none;\n",
              "      border-radius: 50%;\n",
              "      cursor: pointer;\n",
              "      display: none;\n",
              "      fill: #1967D2;\n",
              "      height: 32px;\n",
              "      padding: 0 0 0 0;\n",
              "      width: 32px;\n",
              "    }\n",
              "\n",
              "    .colab-df-convert:hover {\n",
              "      background-color: #E2EBFA;\n",
              "      box-shadow: 0px 1px 2px rgba(60, 64, 67, 0.3), 0px 1px 3px 1px rgba(60, 64, 67, 0.15);\n",
              "      fill: #174EA6;\n",
              "    }\n",
              "\n",
              "    [theme=dark] .colab-df-convert {\n",
              "      background-color: #3B4455;\n",
              "      fill: #D2E3FC;\n",
              "    }\n",
              "\n",
              "    [theme=dark] .colab-df-convert:hover {\n",
              "      background-color: #434B5C;\n",
              "      box-shadow: 0px 1px 3px 1px rgba(0, 0, 0, 0.15);\n",
              "      filter: drop-shadow(0px 1px 2px rgba(0, 0, 0, 0.3));\n",
              "      fill: #FFFFFF;\n",
              "    }\n",
              "  </style>\n",
              "\n",
              "      <script>\n",
              "        const buttonEl =\n",
              "          document.querySelector('#df-1ef3d77c-14c2-4437-a54e-7abd066361f0 button.colab-df-convert');\n",
              "        buttonEl.style.display =\n",
              "          google.colab.kernel.accessAllowed ? 'block' : 'none';\n",
              "\n",
              "        async function convertToInteractive(key) {\n",
              "          const element = document.querySelector('#df-1ef3d77c-14c2-4437-a54e-7abd066361f0');\n",
              "          const dataTable =\n",
              "            await google.colab.kernel.invokeFunction('convertToInteractive',\n",
              "                                                     [key], {});\n",
              "          if (!dataTable) return;\n",
              "\n",
              "          const docLinkHtml = 'Like what you see? Visit the ' +\n",
              "            '<a target=\"_blank\" href=https://colab.research.google.com/notebooks/data_table.ipynb>data table notebook</a>'\n",
              "            + ' to learn more about interactive tables.';\n",
              "          element.innerHTML = '';\n",
              "          dataTable['output_type'] = 'display_data';\n",
              "          await google.colab.output.renderOutput(dataTable, element);\n",
              "          const docLink = document.createElement('div');\n",
              "          docLink.innerHTML = docLinkHtml;\n",
              "          element.appendChild(docLink);\n",
              "        }\n",
              "      </script>\n",
              "    </div>\n",
              "  </div>\n",
              "  "
            ],
            "text/plain": [
              "         asin      reviewerID  overall  unixReviewTime\n",
              "0  0143026860  A1V6B6TNIC10QE      1.0      1424304000\n",
              "1  0143026860  A2F5GHSXFQ0W6J      4.0      1418860800\n",
              "2  0143026860  A1572GUYS7DGSR      4.0      1407628800\n",
              "3  0143026860   A1PSGLFK1NSVO      5.0      1362960000\n",
              "4  0143026860   A6IKXKZMTKGSC      5.0      1324771200"
            ]
          },
          "metadata": {},
          "execution_count": 6
        }
      ],
      "source": [
        "ratings.head()"
      ]
    },
    {
      "cell_type": "markdown",
      "id": "695362e3",
      "metadata": {
        "id": "695362e3"
      },
      "source": [
        "## 資料整理"
      ]
    },
    {
      "cell_type": "code",
      "execution_count": 7,
      "id": "b552fb23",
      "metadata": {
        "id": "b552fb23",
        "colab": {
          "base_uri": "https://localhost:8080/",
          "height": 424
        },
        "outputId": "dcd1537e-28d6-4558-9e0e-cb41fa028e95"
      },
      "outputs": [
        {
          "output_type": "execute_result",
          "data": {
            "text/html": [
              "\n",
              "  <div id=\"df-9226ee8a-fed1-4ff4-9ade-1478dc2be498\">\n",
              "    <div class=\"colab-df-container\">\n",
              "      <div>\n",
              "<style scoped>\n",
              "    .dataframe tbody tr th:only-of-type {\n",
              "        vertical-align: middle;\n",
              "    }\n",
              "\n",
              "    .dataframe tbody tr th {\n",
              "        vertical-align: top;\n",
              "    }\n",
              "\n",
              "    .dataframe thead th {\n",
              "        text-align: right;\n",
              "    }\n",
              "</style>\n",
              "<table border=\"1\" class=\"dataframe\">\n",
              "  <thead>\n",
              "    <tr style=\"text-align: right;\">\n",
              "      <th></th>\n",
              "      <th>asin</th>\n",
              "      <th>reviewerID</th>\n",
              "      <th>overall</th>\n",
              "      <th>unixReviewTime</th>\n",
              "      <th>DATE</th>\n",
              "    </tr>\n",
              "  </thead>\n",
              "  <tbody>\n",
              "    <tr>\n",
              "      <th>256078</th>\n",
              "      <td>3317005939</td>\n",
              "      <td>AL2PQBKHP7LM4</td>\n",
              "      <td>5.0</td>\n",
              "      <td>947462400</td>\n",
              "      <td>2000-01-10</td>\n",
              "    </tr>\n",
              "    <tr>\n",
              "      <th>261647</th>\n",
              "      <td>0061073717</td>\n",
              "      <td>ATKPYXA8XFKGJ</td>\n",
              "      <td>5.0</td>\n",
              "      <td>957571200</td>\n",
              "      <td>2000-05-06</td>\n",
              "    </tr>\n",
              "    <tr>\n",
              "      <th>261646</th>\n",
              "      <td>0061073717</td>\n",
              "      <td>A2XMFX1BR0IJFJ</td>\n",
              "      <td>5.0</td>\n",
              "      <td>959990400</td>\n",
              "      <td>2000-06-03</td>\n",
              "    </tr>\n",
              "    <tr>\n",
              "      <th>256161</th>\n",
              "      <td>B000050B62</td>\n",
              "      <td>A1U7T7UCCV3SBN</td>\n",
              "      <td>5.0</td>\n",
              "      <td>972777600</td>\n",
              "      <td>2000-10-29</td>\n",
              "    </tr>\n",
              "    <tr>\n",
              "      <th>5299</th>\n",
              "      <td>B000050FDP</td>\n",
              "      <td>A3RVIXD86WUT1E</td>\n",
              "      <td>5.0</td>\n",
              "      <td>973987200</td>\n",
              "      <td>2000-11-12</td>\n",
              "    </tr>\n",
              "    <tr>\n",
              "      <th>...</th>\n",
              "      <td>...</td>\n",
              "      <td>...</td>\n",
              "      <td>...</td>\n",
              "      <td>...</td>\n",
              "      <td>...</td>\n",
              "    </tr>\n",
              "    <tr>\n",
              "      <th>370903</th>\n",
              "      <td>B01HC6G4D6</td>\n",
              "      <td>A1RAXJN2Q4V20X</td>\n",
              "      <td>4.0</td>\n",
              "      <td>1538265600</td>\n",
              "      <td>2018-09-30</td>\n",
              "    </tr>\n",
              "    <tr>\n",
              "      <th>369982</th>\n",
              "      <td>B01GZWUSYY</td>\n",
              "      <td>A1M8YMS915ZK0B</td>\n",
              "      <td>1.0</td>\n",
              "      <td>1538265600</td>\n",
              "      <td>2018-09-30</td>\n",
              "    </tr>\n",
              "    <tr>\n",
              "      <th>368687</th>\n",
              "      <td>B01GIYE88G</td>\n",
              "      <td>A3RTH0S9XVBPVK</td>\n",
              "      <td>5.0</td>\n",
              "      <td>1538352000</td>\n",
              "      <td>2018-10-01</td>\n",
              "    </tr>\n",
              "    <tr>\n",
              "      <th>368798</th>\n",
              "      <td>B01GJQXRLC</td>\n",
              "      <td>A3ORA680FWE8SW</td>\n",
              "      <td>5.0</td>\n",
              "      <td>1538352000</td>\n",
              "      <td>2018-10-01</td>\n",
              "    </tr>\n",
              "    <tr>\n",
              "      <th>368861</th>\n",
              "      <td>B01GKCUEPM</td>\n",
              "      <td>AE9BNPJIYXPBN</td>\n",
              "      <td>3.0</td>\n",
              "      <td>1538438400</td>\n",
              "      <td>2018-10-02</td>\n",
              "    </tr>\n",
              "  </tbody>\n",
              "</table>\n",
              "<p>371345 rows × 5 columns</p>\n",
              "</div>\n",
              "      <button class=\"colab-df-convert\" onclick=\"convertToInteractive('df-9226ee8a-fed1-4ff4-9ade-1478dc2be498')\"\n",
              "              title=\"Convert this dataframe to an interactive table.\"\n",
              "              style=\"display:none;\">\n",
              "        \n",
              "  <svg xmlns=\"http://www.w3.org/2000/svg\" height=\"24px\"viewBox=\"0 0 24 24\"\n",
              "       width=\"24px\">\n",
              "    <path d=\"M0 0h24v24H0V0z\" fill=\"none\"/>\n",
              "    <path d=\"M18.56 5.44l.94 2.06.94-2.06 2.06-.94-2.06-.94-.94-2.06-.94 2.06-2.06.94zm-11 1L8.5 8.5l.94-2.06 2.06-.94-2.06-.94L8.5 2.5l-.94 2.06-2.06.94zm10 10l.94 2.06.94-2.06 2.06-.94-2.06-.94-.94-2.06-.94 2.06-2.06.94z\"/><path d=\"M17.41 7.96l-1.37-1.37c-.4-.4-.92-.59-1.43-.59-.52 0-1.04.2-1.43.59L10.3 9.45l-7.72 7.72c-.78.78-.78 2.05 0 2.83L4 21.41c.39.39.9.59 1.41.59.51 0 1.02-.2 1.41-.59l7.78-7.78 2.81-2.81c.8-.78.8-2.07 0-2.86zM5.41 20L4 18.59l7.72-7.72 1.47 1.35L5.41 20z\"/>\n",
              "  </svg>\n",
              "      </button>\n",
              "      \n",
              "  <style>\n",
              "    .colab-df-container {\n",
              "      display:flex;\n",
              "      flex-wrap:wrap;\n",
              "      gap: 12px;\n",
              "    }\n",
              "\n",
              "    .colab-df-convert {\n",
              "      background-color: #E8F0FE;\n",
              "      border: none;\n",
              "      border-radius: 50%;\n",
              "      cursor: pointer;\n",
              "      display: none;\n",
              "      fill: #1967D2;\n",
              "      height: 32px;\n",
              "      padding: 0 0 0 0;\n",
              "      width: 32px;\n",
              "    }\n",
              "\n",
              "    .colab-df-convert:hover {\n",
              "      background-color: #E2EBFA;\n",
              "      box-shadow: 0px 1px 2px rgba(60, 64, 67, 0.3), 0px 1px 3px 1px rgba(60, 64, 67, 0.15);\n",
              "      fill: #174EA6;\n",
              "    }\n",
              "\n",
              "    [theme=dark] .colab-df-convert {\n",
              "      background-color: #3B4455;\n",
              "      fill: #D2E3FC;\n",
              "    }\n",
              "\n",
              "    [theme=dark] .colab-df-convert:hover {\n",
              "      background-color: #434B5C;\n",
              "      box-shadow: 0px 1px 3px 1px rgba(0, 0, 0, 0.15);\n",
              "      filter: drop-shadow(0px 1px 2px rgba(0, 0, 0, 0.3));\n",
              "      fill: #FFFFFF;\n",
              "    }\n",
              "  </style>\n",
              "\n",
              "      <script>\n",
              "        const buttonEl =\n",
              "          document.querySelector('#df-9226ee8a-fed1-4ff4-9ade-1478dc2be498 button.colab-df-convert');\n",
              "        buttonEl.style.display =\n",
              "          google.colab.kernel.accessAllowed ? 'block' : 'none';\n",
              "\n",
              "        async function convertToInteractive(key) {\n",
              "          const element = document.querySelector('#df-9226ee8a-fed1-4ff4-9ade-1478dc2be498');\n",
              "          const dataTable =\n",
              "            await google.colab.kernel.invokeFunction('convertToInteractive',\n",
              "                                                     [key], {});\n",
              "          if (!dataTable) return;\n",
              "\n",
              "          const docLinkHtml = 'Like what you see? Visit the ' +\n",
              "            '<a target=\"_blank\" href=https://colab.research.google.com/notebooks/data_table.ipynb>data table notebook</a>'\n",
              "            + ' to learn more about interactive tables.';\n",
              "          element.innerHTML = '';\n",
              "          dataTable['output_type'] = 'display_data';\n",
              "          await google.colab.output.renderOutput(dataTable, element);\n",
              "          const docLink = document.createElement('div');\n",
              "          docLink.innerHTML = docLinkHtml;\n",
              "          element.appendChild(docLink);\n",
              "        }\n",
              "      </script>\n",
              "    </div>\n",
              "  </div>\n",
              "  "
            ],
            "text/plain": [
              "              asin      reviewerID  overall  unixReviewTime       DATE\n",
              "256078  3317005939   AL2PQBKHP7LM4      5.0       947462400 2000-01-10\n",
              "261647  0061073717   ATKPYXA8XFKGJ      5.0       957571200 2000-05-06\n",
              "261646  0061073717  A2XMFX1BR0IJFJ      5.0       959990400 2000-06-03\n",
              "256161  B000050B62  A1U7T7UCCV3SBN      5.0       972777600 2000-10-29\n",
              "5299    B000050FDP  A3RVIXD86WUT1E      5.0       973987200 2000-11-12\n",
              "...            ...             ...      ...             ...        ...\n",
              "370903  B01HC6G4D6  A1RAXJN2Q4V20X      4.0      1538265600 2018-09-30\n",
              "369982  B01GZWUSYY  A1M8YMS915ZK0B      1.0      1538265600 2018-09-30\n",
              "368687  B01GIYE88G  A3RTH0S9XVBPVK      5.0      1538352000 2018-10-01\n",
              "368798  B01GJQXRLC  A3ORA680FWE8SW      5.0      1538352000 2018-10-01\n",
              "368861  B01GKCUEPM   AE9BNPJIYXPBN      3.0      1538438400 2018-10-02\n",
              "\n",
              "[371345 rows x 5 columns]"
            ]
          },
          "metadata": {},
          "execution_count": 7
        }
      ],
      "source": [
        "ratings['DATE'] = pd.to_datetime(ratings['unixReviewTime'], unit='s')\n",
        "ratings.sort_values(by=['DATE'], inplace=True, ascending=True)\n",
        "ratings"
      ]
    },
    {
      "cell_type": "markdown",
      "source": [
        "首先看了metadata的資料後發現有許多column的資訊非常不足，為確保每個column的存在都能為模型帶來效益，希望消除資訊過少的column。</br>\n",
        "統計每個 column 共有幾種數據。"
      ],
      "metadata": {
        "id": "deGWsi3kgdJd"
      },
      "id": "deGWsi3kgdJd"
    },
    {
      "cell_type": "code",
      "source": [
        "for col in metadata:\n",
        "  print(str(metadata[col].astype(str).nunique())+' data in '+col+' col.')"
      ],
      "metadata": {
        "colab": {
          "base_uri": "https://localhost:8080/"
        },
        "id": "Jc7cz-nld_Ca",
        "outputId": "1a6c1a11-67ba-48bc-db4f-a2cb5fd9320d"
      },
      "id": "Jc7cz-nld_Ca",
      "execution_count": 8,
      "outputs": [
        {
          "output_type": "stream",
          "name": "stdout",
          "text": [
            "1 data in category col.\n",
            "11 data in tech1 col.\n",
            "13751 data in description col.\n",
            "1 data in fit col.\n",
            "32300 data in title col.\n",
            "6482 data in also_buy col.\n",
            "1 data in tech2 col.\n",
            "7863 data in brand col.\n",
            "230 data in feature col.\n",
            "31949 data in rank col.\n",
            "7894 data in also_view col.\n",
            "32329 data in details col.\n",
            "1 data in main_cat col.\n",
            "1301 data in similar_item col.\n",
            "20 data in date col.\n",
            "3530 data in price col.\n",
            "32488 data in asin col.\n",
            "15737 data in imageURL col.\n",
            "15737 data in imageURLHighRes col.\n"
          ]
        }
      ]
    },
    {
      "cell_type": "markdown",
      "source": [
        "發現 metadata 中 index 425 至 828 之間，共404筆資料是跟之前的 index 重複的，將完全重複的 row 去掉。</br>\n",
        "P.S. 欄位中有包含 list 的 type 所以剛開始只寫 metadata.drop_duplicates() 有噴錯。"
      ],
      "metadata": {
        "id": "XIFTFGRC7BC3"
      },
      "id": "XIFTFGRC7BC3"
    },
    {
      "cell_type": "code",
      "source": [
        "print(len(metadata['asin']),len(set(metadata['asin'])))\t\t\n",
        "s,rep=set(),list()\n",
        "for i,asin in enumerate(metadata['asin']):\n",
        "  if asin not in s:\n",
        "    s.add(asin)\n",
        "  else:\n",
        "    rep.append(i)\n",
        "print(rep)\n",
        "metadata=metadata.loc[metadata.astype(str).drop_duplicates().index]\n",
        "metadata"
      ],
      "metadata": {
        "colab": {
          "base_uri": "https://localhost:8080/",
          "height": 1000
        },
        "id": "uh4K-o0m3XDZ",
        "outputId": "75ebcb24-8a0c-4a06-f361-f71438e6a2da"
      },
      "id": "uh4K-o0m3XDZ",
      "execution_count": 9,
      "outputs": [
        {
          "output_type": "stream",
          "name": "stdout",
          "text": [
            "32892 32488\n",
            "[425, 426, 427, 428, 429, 430, 431, 432, 433, 434, 435, 436, 437, 438, 439, 440, 441, 442, 443, 444, 445, 446, 447, 448, 449, 450, 451, 452, 453, 454, 455, 456, 457, 458, 459, 460, 461, 462, 463, 464, 465, 466, 467, 468, 469, 470, 471, 472, 473, 474, 475, 476, 477, 478, 479, 480, 481, 482, 483, 484, 485, 486, 487, 488, 489, 490, 491, 492, 493, 494, 495, 496, 497, 498, 499, 500, 501, 502, 503, 504, 505, 506, 507, 508, 509, 510, 511, 512, 513, 514, 515, 516, 517, 518, 519, 520, 521, 522, 523, 524, 525, 526, 527, 528, 529, 530, 531, 532, 533, 534, 535, 536, 537, 538, 539, 540, 541, 542, 543, 544, 545, 546, 547, 548, 549, 550, 551, 552, 553, 554, 555, 556, 557, 558, 559, 560, 561, 562, 563, 564, 565, 566, 567, 568, 569, 570, 571, 572, 573, 574, 575, 576, 577, 578, 579, 580, 581, 582, 583, 584, 585, 586, 587, 588, 589, 590, 591, 592, 593, 594, 595, 596, 597, 598, 599, 600, 601, 602, 603, 604, 605, 606, 607, 608, 609, 610, 611, 612, 613, 614, 615, 616, 617, 618, 619, 620, 621, 622, 623, 624, 625, 626, 627, 628, 629, 630, 631, 632, 633, 634, 635, 636, 637, 638, 639, 640, 641, 642, 643, 644, 645, 646, 647, 648, 649, 650, 651, 652, 653, 654, 655, 656, 657, 658, 659, 660, 661, 662, 663, 664, 665, 666, 667, 668, 669, 670, 671, 672, 673, 674, 675, 676, 677, 678, 679, 680, 681, 682, 683, 684, 685, 686, 687, 688, 689, 690, 691, 692, 693, 694, 695, 696, 697, 698, 699, 700, 701, 702, 703, 704, 705, 706, 707, 708, 709, 710, 711, 712, 713, 714, 715, 716, 717, 718, 719, 720, 721, 722, 723, 724, 725, 726, 727, 728, 729, 730, 731, 732, 733, 734, 735, 736, 737, 738, 739, 740, 741, 742, 743, 744, 745, 746, 747, 748, 749, 750, 751, 752, 753, 754, 755, 756, 757, 758, 759, 760, 761, 762, 763, 764, 765, 766, 767, 768, 769, 770, 771, 772, 773, 774, 775, 776, 777, 778, 779, 780, 781, 782, 783, 784, 785, 786, 787, 788, 789, 790, 791, 792, 793, 794, 795, 796, 797, 798, 799, 800, 801, 802, 803, 804, 805, 806, 807, 808, 809, 810, 811, 812, 813, 814, 815, 816, 817, 818, 819, 820, 821, 822, 823, 824, 825, 826, 827, 828]\n"
          ]
        },
        {
          "output_type": "execute_result",
          "data": {
            "text/html": [
              "\n",
              "  <div id=\"df-9b1672ff-1a03-4504-82ba-ca620092a720\">\n",
              "    <div class=\"colab-df-container\">\n",
              "      <div>\n",
              "<style scoped>\n",
              "    .dataframe tbody tr th:only-of-type {\n",
              "        vertical-align: middle;\n",
              "    }\n",
              "\n",
              "    .dataframe tbody tr th {\n",
              "        vertical-align: top;\n",
              "    }\n",
              "\n",
              "    .dataframe thead th {\n",
              "        text-align: right;\n",
              "    }\n",
              "</style>\n",
              "<table border=\"1\" class=\"dataframe\">\n",
              "  <thead>\n",
              "    <tr style=\"text-align: right;\">\n",
              "      <th></th>\n",
              "      <th>category</th>\n",
              "      <th>tech1</th>\n",
              "      <th>description</th>\n",
              "      <th>fit</th>\n",
              "      <th>title</th>\n",
              "      <th>also_buy</th>\n",
              "      <th>tech2</th>\n",
              "      <th>brand</th>\n",
              "      <th>feature</th>\n",
              "      <th>rank</th>\n",
              "      <th>also_view</th>\n",
              "      <th>details</th>\n",
              "      <th>main_cat</th>\n",
              "      <th>similar_item</th>\n",
              "      <th>date</th>\n",
              "      <th>price</th>\n",
              "      <th>asin</th>\n",
              "      <th>imageURL</th>\n",
              "      <th>imageURLHighRes</th>\n",
              "    </tr>\n",
              "  </thead>\n",
              "  <tbody>\n",
              "    <tr>\n",
              "      <th>0</th>\n",
              "      <td>[]</td>\n",
              "      <td></td>\n",
              "      <td>[Loud 'N Clear Personal Sound Amplifier allows...</td>\n",
              "      <td></td>\n",
              "      <td>Loud 'N Clear&amp;trade; Personal Sound Amplifier</td>\n",
              "      <td>[]</td>\n",
              "      <td></td>\n",
              "      <td>idea village</td>\n",
              "      <td>[]</td>\n",
              "      <td>2,938,573 in Beauty &amp; Personal Care (</td>\n",
              "      <td>[]</td>\n",
              "      <td>{'ASIN: ': '6546546450'}</td>\n",
              "      <td>All Beauty</td>\n",
              "      <td></td>\n",
              "      <td></td>\n",
              "      <td></td>\n",
              "      <td>6546546450</td>\n",
              "      <td>[]</td>\n",
              "      <td>[]</td>\n",
              "    </tr>\n",
              "    <tr>\n",
              "      <th>1</th>\n",
              "      <td>[]</td>\n",
              "      <td></td>\n",
              "      <td>[No7 Lift &amp; Luminate Triple Action Serum 50ml ...</td>\n",
              "      <td></td>\n",
              "      <td>No7 Lift &amp;amp; Luminate Triple Action Serum 50...</td>\n",
              "      <td>[B01E7LCSL6, B008X5RVME]</td>\n",
              "      <td></td>\n",
              "      <td></td>\n",
              "      <td>[]</td>\n",
              "      <td>872,854 in Beauty &amp; Personal Care (</td>\n",
              "      <td>[]</td>\n",
              "      <td>{'Shipping Weight:': '0.3 ounces (', 'ASIN: ':...</td>\n",
              "      <td>All Beauty</td>\n",
              "      <td>class=\"a-bordered a-horizontal-stripes  a-spa...</td>\n",
              "      <td></td>\n",
              "      <td>$44.99</td>\n",
              "      <td>7178680776</td>\n",
              "      <td>[]</td>\n",
              "      <td>[]</td>\n",
              "    </tr>\n",
              "    <tr>\n",
              "      <th>2</th>\n",
              "      <td>[]</td>\n",
              "      <td></td>\n",
              "      <td>[No7 Stay Perfect Foundation now stays perfect...</td>\n",
              "      <td></td>\n",
              "      <td>No7 Stay Perfect Foundation Cool Vanilla by No7</td>\n",
              "      <td>[]</td>\n",
              "      <td></td>\n",
              "      <td>No7</td>\n",
              "      <td>[]</td>\n",
              "      <td>956,696 in Beauty &amp; Personal Care (</td>\n",
              "      <td>[B01B8BR0O8, B01B8BR0NO, B014MHXXM8]</td>\n",
              "      <td>{'Shipping Weight:': '3.5 ounces (', 'ASIN: ':...</td>\n",
              "      <td>All Beauty</td>\n",
              "      <td></td>\n",
              "      <td></td>\n",
              "      <td>$28.76</td>\n",
              "      <td>7250468162</td>\n",
              "      <td>[]</td>\n",
              "      <td>[]</td>\n",
              "    </tr>\n",
              "    <tr>\n",
              "      <th>3</th>\n",
              "      <td>[]</td>\n",
              "      <td></td>\n",
              "      <td>[]</td>\n",
              "      <td></td>\n",
              "      <td>Wella Koleston Perfect Hair Colour 44/44 Mediu...</td>\n",
              "      <td>[B0041PBXX8]</td>\n",
              "      <td></td>\n",
              "      <td></td>\n",
              "      <td>[]</td>\n",
              "      <td>1,870,258 in Beauty &amp; Personal Care (</td>\n",
              "      <td>[]</td>\n",
              "      <td>{'\n",
              "    Item Weight: \n",
              "    ': '1.76 ounces', 'Sh...</td>\n",
              "      <td>All Beauty</td>\n",
              "      <td></td>\n",
              "      <td></td>\n",
              "      <td></td>\n",
              "      <td>7367905066</td>\n",
              "      <td>[https://images-na.ssl-images-amazon.com/image...</td>\n",
              "      <td>[https://images-na.ssl-images-amazon.com/image...</td>\n",
              "    </tr>\n",
              "    <tr>\n",
              "      <th>4</th>\n",
              "      <td>[]</td>\n",
              "      <td></td>\n",
              "      <td>[Lacto Calamine Skin Balance Daily Nourishing ...</td>\n",
              "      <td></td>\n",
              "      <td>Lacto Calamine Skin Balance Oil control 120 ml...</td>\n",
              "      <td>[]</td>\n",
              "      <td></td>\n",
              "      <td>Pirmal Healthcare</td>\n",
              "      <td>[]</td>\n",
              "      <td>67,701 in Beauty &amp; Personal Care (</td>\n",
              "      <td>[3254895630, B007VL1D9S, B00EH9A0RI, B0773MBG4...</td>\n",
              "      <td>{'Shipping Weight:': '12 ounces (', 'ASIN: ': ...</td>\n",
              "      <td>All Beauty</td>\n",
              "      <td></td>\n",
              "      <td></td>\n",
              "      <td>$12.15</td>\n",
              "      <td>7414204790</td>\n",
              "      <td>[https://images-na.ssl-images-amazon.com/image...</td>\n",
              "      <td>[https://images-na.ssl-images-amazon.com/image...</td>\n",
              "    </tr>\n",
              "    <tr>\n",
              "      <th>...</th>\n",
              "      <td>...</td>\n",
              "      <td>...</td>\n",
              "      <td>...</td>\n",
              "      <td>...</td>\n",
              "      <td>...</td>\n",
              "      <td>...</td>\n",
              "      <td>...</td>\n",
              "      <td>...</td>\n",
              "      <td>...</td>\n",
              "      <td>...</td>\n",
              "      <td>...</td>\n",
              "      <td>...</td>\n",
              "      <td>...</td>\n",
              "      <td>...</td>\n",
              "      <td>...</td>\n",
              "      <td>...</td>\n",
              "      <td>...</td>\n",
              "      <td>...</td>\n",
              "      <td>...</td>\n",
              "    </tr>\n",
              "    <tr>\n",
              "      <th>32887</th>\n",
              "      <td>[]</td>\n",
              "      <td></td>\n",
              "      <td>[]</td>\n",
              "      <td></td>\n",
              "      <td>Barielle Pro Textured Grip Cuticle Nipper, Purple</td>\n",
              "      <td>[]</td>\n",
              "      <td></td>\n",
              "      <td></td>\n",
              "      <td>[]</td>\n",
              "      <td>2,145,325 in Beauty &amp; Personal Care (</td>\n",
              "      <td>[]</td>\n",
              "      <td>{'ASIN: ': 'B01HIWLLUK'}</td>\n",
              "      <td>All Beauty</td>\n",
              "      <td></td>\n",
              "      <td></td>\n",
              "      <td>$9.95</td>\n",
              "      <td>B01HIWLLUK</td>\n",
              "      <td>[]</td>\n",
              "      <td>[]</td>\n",
              "    </tr>\n",
              "    <tr>\n",
              "      <th>32888</th>\n",
              "      <td>[]</td>\n",
              "      <td></td>\n",
              "      <td>[]</td>\n",
              "      <td></td>\n",
              "      <td>(Buy 3 Get 1 Free) Salon Perfect Eye Makeup Co...</td>\n",
              "      <td>[]</td>\n",
              "      <td></td>\n",
              "      <td>Salon Perfect</td>\n",
              "      <td>[]</td>\n",
              "      <td>1,639,713 in Beauty &amp; Personal Care (</td>\n",
              "      <td>[]</td>\n",
              "      <td>{'ASIN: ': 'B01HJ1K3YK', 'UPC:': '671635851871'}</td>\n",
              "      <td>All Beauty</td>\n",
              "      <td></td>\n",
              "      <td></td>\n",
              "      <td></td>\n",
              "      <td>B01HJ1K3YK</td>\n",
              "      <td>[]</td>\n",
              "      <td>[]</td>\n",
              "    </tr>\n",
              "    <tr>\n",
              "      <th>32889</th>\n",
              "      <td>[]</td>\n",
              "      <td></td>\n",
              "      <td>[]</td>\n",
              "      <td></td>\n",
              "      <td>NOW D-Mannose 500 mg - 120 Veg Capsules (Pack ...</td>\n",
              "      <td>[B01KON9B4S, B079X3YFXS, B00M79OYS6, B000JN4CR...</td>\n",
              "      <td></td>\n",
              "      <td></td>\n",
              "      <td>[]</td>\n",
              "      <td>207,410 in Beauty &amp; Personal Care (</td>\n",
              "      <td>[B01KON9B4S, B000JN4CR0, B071ZHMRHS, B01HJ84TN...</td>\n",
              "      <td>{'Shipping Weight:': '1 pounds (', 'ASIN: ': '...</td>\n",
              "      <td>All Beauty</td>\n",
              "      <td></td>\n",
              "      <td></td>\n",
              "      <td>$55.63</td>\n",
              "      <td>B01HJ84SGM</td>\n",
              "      <td>[]</td>\n",
              "      <td>[]</td>\n",
              "    </tr>\n",
              "    <tr>\n",
              "      <th>32890</th>\n",
              "      <td>[]</td>\n",
              "      <td></td>\n",
              "      <td>[Brand new and high quality&lt;br&gt; Enables fast v...</td>\n",
              "      <td></td>\n",
              "      <td>12 White Feather Shuttlecocks Birdies Badminto...</td>\n",
              "      <td>[]</td>\n",
              "      <td></td>\n",
              "      <td>GBSTORE</td>\n",
              "      <td>[]</td>\n",
              "      <td>965,673 in Beauty &amp; Personal Care (</td>\n",
              "      <td>[]</td>\n",
              "      <td>{'Shipping Weight:': '4.8 ounces (', 'ASIN: ':...</td>\n",
              "      <td>All Beauty</td>\n",
              "      <td></td>\n",
              "      <td></td>\n",
              "      <td>$12.99</td>\n",
              "      <td>B01HJASD20</td>\n",
              "      <td>[https://images-na.ssl-images-amazon.com/image...</td>\n",
              "      <td>[https://images-na.ssl-images-amazon.com/image...</td>\n",
              "    </tr>\n",
              "    <tr>\n",
              "      <th>32891</th>\n",
              "      <td>[]</td>\n",
              "      <td></td>\n",
              "      <td>[]</td>\n",
              "      <td></td>\n",
              "      <td>FESHFEN Scrunchy Scrunchies Synthetic Hair Bun...</td>\n",
              "      <td>[B01HJEGQ6Q, B01L66EYCG, B00H7YZ7HI, B00CHKKWZ...</td>\n",
              "      <td></td>\n",
              "      <td></td>\n",
              "      <td>[]</td>\n",
              "      <td>478,123 in Beauty &amp; Personal Care (</td>\n",
              "      <td>[B06XNM7CGD, B071D7TMQS]</td>\n",
              "      <td>{'\n",
              "    Item Weight: \n",
              "    ': '1.12 ounces', 'Sh...</td>\n",
              "      <td>All Beauty</td>\n",
              "      <td></td>\n",
              "      <td></td>\n",
              "      <td></td>\n",
              "      <td>B01HJEGTYK</td>\n",
              "      <td>[https://images-na.ssl-images-amazon.com/image...</td>\n",
              "      <td>[https://images-na.ssl-images-amazon.com/image...</td>\n",
              "    </tr>\n",
              "  </tbody>\n",
              "</table>\n",
              "<p>32488 rows × 19 columns</p>\n",
              "</div>\n",
              "      <button class=\"colab-df-convert\" onclick=\"convertToInteractive('df-9b1672ff-1a03-4504-82ba-ca620092a720')\"\n",
              "              title=\"Convert this dataframe to an interactive table.\"\n",
              "              style=\"display:none;\">\n",
              "        \n",
              "  <svg xmlns=\"http://www.w3.org/2000/svg\" height=\"24px\"viewBox=\"0 0 24 24\"\n",
              "       width=\"24px\">\n",
              "    <path d=\"M0 0h24v24H0V0z\" fill=\"none\"/>\n",
              "    <path d=\"M18.56 5.44l.94 2.06.94-2.06 2.06-.94-2.06-.94-.94-2.06-.94 2.06-2.06.94zm-11 1L8.5 8.5l.94-2.06 2.06-.94-2.06-.94L8.5 2.5l-.94 2.06-2.06.94zm10 10l.94 2.06.94-2.06 2.06-.94-2.06-.94-.94-2.06-.94 2.06-2.06.94z\"/><path d=\"M17.41 7.96l-1.37-1.37c-.4-.4-.92-.59-1.43-.59-.52 0-1.04.2-1.43.59L10.3 9.45l-7.72 7.72c-.78.78-.78 2.05 0 2.83L4 21.41c.39.39.9.59 1.41.59.51 0 1.02-.2 1.41-.59l7.78-7.78 2.81-2.81c.8-.78.8-2.07 0-2.86zM5.41 20L4 18.59l7.72-7.72 1.47 1.35L5.41 20z\"/>\n",
              "  </svg>\n",
              "      </button>\n",
              "      \n",
              "  <style>\n",
              "    .colab-df-container {\n",
              "      display:flex;\n",
              "      flex-wrap:wrap;\n",
              "      gap: 12px;\n",
              "    }\n",
              "\n",
              "    .colab-df-convert {\n",
              "      background-color: #E8F0FE;\n",
              "      border: none;\n",
              "      border-radius: 50%;\n",
              "      cursor: pointer;\n",
              "      display: none;\n",
              "      fill: #1967D2;\n",
              "      height: 32px;\n",
              "      padding: 0 0 0 0;\n",
              "      width: 32px;\n",
              "    }\n",
              "\n",
              "    .colab-df-convert:hover {\n",
              "      background-color: #E2EBFA;\n",
              "      box-shadow: 0px 1px 2px rgba(60, 64, 67, 0.3), 0px 1px 3px 1px rgba(60, 64, 67, 0.15);\n",
              "      fill: #174EA6;\n",
              "    }\n",
              "\n",
              "    [theme=dark] .colab-df-convert {\n",
              "      background-color: #3B4455;\n",
              "      fill: #D2E3FC;\n",
              "    }\n",
              "\n",
              "    [theme=dark] .colab-df-convert:hover {\n",
              "      background-color: #434B5C;\n",
              "      box-shadow: 0px 1px 3px 1px rgba(0, 0, 0, 0.15);\n",
              "      filter: drop-shadow(0px 1px 2px rgba(0, 0, 0, 0.3));\n",
              "      fill: #FFFFFF;\n",
              "    }\n",
              "  </style>\n",
              "\n",
              "      <script>\n",
              "        const buttonEl =\n",
              "          document.querySelector('#df-9b1672ff-1a03-4504-82ba-ca620092a720 button.colab-df-convert');\n",
              "        buttonEl.style.display =\n",
              "          google.colab.kernel.accessAllowed ? 'block' : 'none';\n",
              "\n",
              "        async function convertToInteractive(key) {\n",
              "          const element = document.querySelector('#df-9b1672ff-1a03-4504-82ba-ca620092a720');\n",
              "          const dataTable =\n",
              "            await google.colab.kernel.invokeFunction('convertToInteractive',\n",
              "                                                     [key], {});\n",
              "          if (!dataTable) return;\n",
              "\n",
              "          const docLinkHtml = 'Like what you see? Visit the ' +\n",
              "            '<a target=\"_blank\" href=https://colab.research.google.com/notebooks/data_table.ipynb>data table notebook</a>'\n",
              "            + ' to learn more about interactive tables.';\n",
              "          element.innerHTML = '';\n",
              "          dataTable['output_type'] = 'display_data';\n",
              "          await google.colab.output.renderOutput(dataTable, element);\n",
              "          const docLink = document.createElement('div');\n",
              "          docLink.innerHTML = docLinkHtml;\n",
              "          element.appendChild(docLink);\n",
              "        }\n",
              "      </script>\n",
              "    </div>\n",
              "  </div>\n",
              "  "
            ],
            "text/plain": [
              "      category  ...                                    imageURLHighRes\n",
              "0           []  ...                                                 []\n",
              "1           []  ...                                                 []\n",
              "2           []  ...                                                 []\n",
              "3           []  ...  [https://images-na.ssl-images-amazon.com/image...\n",
              "4           []  ...  [https://images-na.ssl-images-amazon.com/image...\n",
              "...        ...  ...                                                ...\n",
              "32887       []  ...                                                 []\n",
              "32888       []  ...                                                 []\n",
              "32889       []  ...                                                 []\n",
              "32890       []  ...  [https://images-na.ssl-images-amazon.com/image...\n",
              "32891       []  ...  [https://images-na.ssl-images-amazon.com/image...\n",
              "\n",
              "[32488 rows x 19 columns]"
            ]
          },
          "metadata": {},
          "execution_count": 9
        }
      ]
    },
    {
      "cell_type": "markdown",
      "source": [
        "觀察metadata的資料結構後，將資訊含量過少的 column 去掉。</br>\n",
        "另外如main_cat全部欄位的資訊都是All Beauty，判斷無助於分析，因此也去掉。"
      ],
      "metadata": {
        "id": "67hKa0F8FQos"
      },
      "id": "67hKa0F8FQos"
    },
    {
      "cell_type": "code",
      "source": [
        "a=[]\n",
        "for i,asin in enumerate(metadata['main_cat']):\n",
        "  if asin !='All Beauty':\n",
        "    a.append(i)\n",
        "\n",
        "if not a: print('Info of main_cat are all the same.')\n",
        "\n",
        "metadata=metadata[['description','title','also_buy','brand','rank','also_view','details','price','asin']]\n",
        "metadata"
      ],
      "metadata": {
        "colab": {
          "base_uri": "https://localhost:8080/",
          "height": 1000
        },
        "id": "fYMDEU9GCpOC",
        "outputId": "17bbeaab-6adf-4b44-81b2-713b15a367e4"
      },
      "id": "fYMDEU9GCpOC",
      "execution_count": 10,
      "outputs": [
        {
          "output_type": "stream",
          "name": "stdout",
          "text": [
            "Info of main_cat are all the same.\n"
          ]
        },
        {
          "output_type": "execute_result",
          "data": {
            "text/html": [
              "\n",
              "  <div id=\"df-b6241752-e4d4-4dcd-853b-5d1618f55c61\">\n",
              "    <div class=\"colab-df-container\">\n",
              "      <div>\n",
              "<style scoped>\n",
              "    .dataframe tbody tr th:only-of-type {\n",
              "        vertical-align: middle;\n",
              "    }\n",
              "\n",
              "    .dataframe tbody tr th {\n",
              "        vertical-align: top;\n",
              "    }\n",
              "\n",
              "    .dataframe thead th {\n",
              "        text-align: right;\n",
              "    }\n",
              "</style>\n",
              "<table border=\"1\" class=\"dataframe\">\n",
              "  <thead>\n",
              "    <tr style=\"text-align: right;\">\n",
              "      <th></th>\n",
              "      <th>description</th>\n",
              "      <th>title</th>\n",
              "      <th>also_buy</th>\n",
              "      <th>brand</th>\n",
              "      <th>rank</th>\n",
              "      <th>also_view</th>\n",
              "      <th>details</th>\n",
              "      <th>price</th>\n",
              "      <th>asin</th>\n",
              "    </tr>\n",
              "  </thead>\n",
              "  <tbody>\n",
              "    <tr>\n",
              "      <th>0</th>\n",
              "      <td>[Loud 'N Clear Personal Sound Amplifier allows...</td>\n",
              "      <td>Loud 'N Clear&amp;trade; Personal Sound Amplifier</td>\n",
              "      <td>[]</td>\n",
              "      <td>idea village</td>\n",
              "      <td>2,938,573 in Beauty &amp; Personal Care (</td>\n",
              "      <td>[]</td>\n",
              "      <td>{'ASIN: ': '6546546450'}</td>\n",
              "      <td></td>\n",
              "      <td>6546546450</td>\n",
              "    </tr>\n",
              "    <tr>\n",
              "      <th>1</th>\n",
              "      <td>[No7 Lift &amp; Luminate Triple Action Serum 50ml ...</td>\n",
              "      <td>No7 Lift &amp;amp; Luminate Triple Action Serum 50...</td>\n",
              "      <td>[B01E7LCSL6, B008X5RVME]</td>\n",
              "      <td></td>\n",
              "      <td>872,854 in Beauty &amp; Personal Care (</td>\n",
              "      <td>[]</td>\n",
              "      <td>{'Shipping Weight:': '0.3 ounces (', 'ASIN: ':...</td>\n",
              "      <td>$44.99</td>\n",
              "      <td>7178680776</td>\n",
              "    </tr>\n",
              "    <tr>\n",
              "      <th>2</th>\n",
              "      <td>[No7 Stay Perfect Foundation now stays perfect...</td>\n",
              "      <td>No7 Stay Perfect Foundation Cool Vanilla by No7</td>\n",
              "      <td>[]</td>\n",
              "      <td>No7</td>\n",
              "      <td>956,696 in Beauty &amp; Personal Care (</td>\n",
              "      <td>[B01B8BR0O8, B01B8BR0NO, B014MHXXM8]</td>\n",
              "      <td>{'Shipping Weight:': '3.5 ounces (', 'ASIN: ':...</td>\n",
              "      <td>$28.76</td>\n",
              "      <td>7250468162</td>\n",
              "    </tr>\n",
              "    <tr>\n",
              "      <th>3</th>\n",
              "      <td>[]</td>\n",
              "      <td>Wella Koleston Perfect Hair Colour 44/44 Mediu...</td>\n",
              "      <td>[B0041PBXX8]</td>\n",
              "      <td></td>\n",
              "      <td>1,870,258 in Beauty &amp; Personal Care (</td>\n",
              "      <td>[]</td>\n",
              "      <td>{'\n",
              "    Item Weight: \n",
              "    ': '1.76 ounces', 'Sh...</td>\n",
              "      <td></td>\n",
              "      <td>7367905066</td>\n",
              "    </tr>\n",
              "    <tr>\n",
              "      <th>4</th>\n",
              "      <td>[Lacto Calamine Skin Balance Daily Nourishing ...</td>\n",
              "      <td>Lacto Calamine Skin Balance Oil control 120 ml...</td>\n",
              "      <td>[]</td>\n",
              "      <td>Pirmal Healthcare</td>\n",
              "      <td>67,701 in Beauty &amp; Personal Care (</td>\n",
              "      <td>[3254895630, B007VL1D9S, B00EH9A0RI, B0773MBG4...</td>\n",
              "      <td>{'Shipping Weight:': '12 ounces (', 'ASIN: ': ...</td>\n",
              "      <td>$12.15</td>\n",
              "      <td>7414204790</td>\n",
              "    </tr>\n",
              "    <tr>\n",
              "      <th>...</th>\n",
              "      <td>...</td>\n",
              "      <td>...</td>\n",
              "      <td>...</td>\n",
              "      <td>...</td>\n",
              "      <td>...</td>\n",
              "      <td>...</td>\n",
              "      <td>...</td>\n",
              "      <td>...</td>\n",
              "      <td>...</td>\n",
              "    </tr>\n",
              "    <tr>\n",
              "      <th>32887</th>\n",
              "      <td>[]</td>\n",
              "      <td>Barielle Pro Textured Grip Cuticle Nipper, Purple</td>\n",
              "      <td>[]</td>\n",
              "      <td></td>\n",
              "      <td>2,145,325 in Beauty &amp; Personal Care (</td>\n",
              "      <td>[]</td>\n",
              "      <td>{'ASIN: ': 'B01HIWLLUK'}</td>\n",
              "      <td>$9.95</td>\n",
              "      <td>B01HIWLLUK</td>\n",
              "    </tr>\n",
              "    <tr>\n",
              "      <th>32888</th>\n",
              "      <td>[]</td>\n",
              "      <td>(Buy 3 Get 1 Free) Salon Perfect Eye Makeup Co...</td>\n",
              "      <td>[]</td>\n",
              "      <td>Salon Perfect</td>\n",
              "      <td>1,639,713 in Beauty &amp; Personal Care (</td>\n",
              "      <td>[]</td>\n",
              "      <td>{'ASIN: ': 'B01HJ1K3YK', 'UPC:': '671635851871'}</td>\n",
              "      <td></td>\n",
              "      <td>B01HJ1K3YK</td>\n",
              "    </tr>\n",
              "    <tr>\n",
              "      <th>32889</th>\n",
              "      <td>[]</td>\n",
              "      <td>NOW D-Mannose 500 mg - 120 Veg Capsules (Pack ...</td>\n",
              "      <td>[B01KON9B4S, B079X3YFXS, B00M79OYS6, B000JN4CR...</td>\n",
              "      <td></td>\n",
              "      <td>207,410 in Beauty &amp; Personal Care (</td>\n",
              "      <td>[B01KON9B4S, B000JN4CR0, B071ZHMRHS, B01HJ84TN...</td>\n",
              "      <td>{'Shipping Weight:': '1 pounds (', 'ASIN: ': '...</td>\n",
              "      <td>$55.63</td>\n",
              "      <td>B01HJ84SGM</td>\n",
              "    </tr>\n",
              "    <tr>\n",
              "      <th>32890</th>\n",
              "      <td>[Brand new and high quality&lt;br&gt; Enables fast v...</td>\n",
              "      <td>12 White Feather Shuttlecocks Birdies Badminto...</td>\n",
              "      <td>[]</td>\n",
              "      <td>GBSTORE</td>\n",
              "      <td>965,673 in Beauty &amp; Personal Care (</td>\n",
              "      <td>[]</td>\n",
              "      <td>{'Shipping Weight:': '4.8 ounces (', 'ASIN: ':...</td>\n",
              "      <td>$12.99</td>\n",
              "      <td>B01HJASD20</td>\n",
              "    </tr>\n",
              "    <tr>\n",
              "      <th>32891</th>\n",
              "      <td>[]</td>\n",
              "      <td>FESHFEN Scrunchy Scrunchies Synthetic Hair Bun...</td>\n",
              "      <td>[B01HJEGQ6Q, B01L66EYCG, B00H7YZ7HI, B00CHKKWZ...</td>\n",
              "      <td></td>\n",
              "      <td>478,123 in Beauty &amp; Personal Care (</td>\n",
              "      <td>[B06XNM7CGD, B071D7TMQS]</td>\n",
              "      <td>{'\n",
              "    Item Weight: \n",
              "    ': '1.12 ounces', 'Sh...</td>\n",
              "      <td></td>\n",
              "      <td>B01HJEGTYK</td>\n",
              "    </tr>\n",
              "  </tbody>\n",
              "</table>\n",
              "<p>32488 rows × 9 columns</p>\n",
              "</div>\n",
              "      <button class=\"colab-df-convert\" onclick=\"convertToInteractive('df-b6241752-e4d4-4dcd-853b-5d1618f55c61')\"\n",
              "              title=\"Convert this dataframe to an interactive table.\"\n",
              "              style=\"display:none;\">\n",
              "        \n",
              "  <svg xmlns=\"http://www.w3.org/2000/svg\" height=\"24px\"viewBox=\"0 0 24 24\"\n",
              "       width=\"24px\">\n",
              "    <path d=\"M0 0h24v24H0V0z\" fill=\"none\"/>\n",
              "    <path d=\"M18.56 5.44l.94 2.06.94-2.06 2.06-.94-2.06-.94-.94-2.06-.94 2.06-2.06.94zm-11 1L8.5 8.5l.94-2.06 2.06-.94-2.06-.94L8.5 2.5l-.94 2.06-2.06.94zm10 10l.94 2.06.94-2.06 2.06-.94-2.06-.94-.94-2.06-.94 2.06-2.06.94z\"/><path d=\"M17.41 7.96l-1.37-1.37c-.4-.4-.92-.59-1.43-.59-.52 0-1.04.2-1.43.59L10.3 9.45l-7.72 7.72c-.78.78-.78 2.05 0 2.83L4 21.41c.39.39.9.59 1.41.59.51 0 1.02-.2 1.41-.59l7.78-7.78 2.81-2.81c.8-.78.8-2.07 0-2.86zM5.41 20L4 18.59l7.72-7.72 1.47 1.35L5.41 20z\"/>\n",
              "  </svg>\n",
              "      </button>\n",
              "      \n",
              "  <style>\n",
              "    .colab-df-container {\n",
              "      display:flex;\n",
              "      flex-wrap:wrap;\n",
              "      gap: 12px;\n",
              "    }\n",
              "\n",
              "    .colab-df-convert {\n",
              "      background-color: #E8F0FE;\n",
              "      border: none;\n",
              "      border-radius: 50%;\n",
              "      cursor: pointer;\n",
              "      display: none;\n",
              "      fill: #1967D2;\n",
              "      height: 32px;\n",
              "      padding: 0 0 0 0;\n",
              "      width: 32px;\n",
              "    }\n",
              "\n",
              "    .colab-df-convert:hover {\n",
              "      background-color: #E2EBFA;\n",
              "      box-shadow: 0px 1px 2px rgba(60, 64, 67, 0.3), 0px 1px 3px 1px rgba(60, 64, 67, 0.15);\n",
              "      fill: #174EA6;\n",
              "    }\n",
              "\n",
              "    [theme=dark] .colab-df-convert {\n",
              "      background-color: #3B4455;\n",
              "      fill: #D2E3FC;\n",
              "    }\n",
              "\n",
              "    [theme=dark] .colab-df-convert:hover {\n",
              "      background-color: #434B5C;\n",
              "      box-shadow: 0px 1px 3px 1px rgba(0, 0, 0, 0.15);\n",
              "      filter: drop-shadow(0px 1px 2px rgba(0, 0, 0, 0.3));\n",
              "      fill: #FFFFFF;\n",
              "    }\n",
              "  </style>\n",
              "\n",
              "      <script>\n",
              "        const buttonEl =\n",
              "          document.querySelector('#df-b6241752-e4d4-4dcd-853b-5d1618f55c61 button.colab-df-convert');\n",
              "        buttonEl.style.display =\n",
              "          google.colab.kernel.accessAllowed ? 'block' : 'none';\n",
              "\n",
              "        async function convertToInteractive(key) {\n",
              "          const element = document.querySelector('#df-b6241752-e4d4-4dcd-853b-5d1618f55c61');\n",
              "          const dataTable =\n",
              "            await google.colab.kernel.invokeFunction('convertToInteractive',\n",
              "                                                     [key], {});\n",
              "          if (!dataTable) return;\n",
              "\n",
              "          const docLinkHtml = 'Like what you see? Visit the ' +\n",
              "            '<a target=\"_blank\" href=https://colab.research.google.com/notebooks/data_table.ipynb>data table notebook</a>'\n",
              "            + ' to learn more about interactive tables.';\n",
              "          element.innerHTML = '';\n",
              "          dataTable['output_type'] = 'display_data';\n",
              "          await google.colab.output.renderOutput(dataTable, element);\n",
              "          const docLink = document.createElement('div');\n",
              "          docLink.innerHTML = docLinkHtml;\n",
              "          element.appendChild(docLink);\n",
              "        }\n",
              "      </script>\n",
              "    </div>\n",
              "  </div>\n",
              "  "
            ],
            "text/plain": [
              "                                             description  ...        asin\n",
              "0      [Loud 'N Clear Personal Sound Amplifier allows...  ...  6546546450\n",
              "1      [No7 Lift & Luminate Triple Action Serum 50ml ...  ...  7178680776\n",
              "2      [No7 Stay Perfect Foundation now stays perfect...  ...  7250468162\n",
              "3                                                     []  ...  7367905066\n",
              "4      [Lacto Calamine Skin Balance Daily Nourishing ...  ...  7414204790\n",
              "...                                                  ...  ...         ...\n",
              "32887                                                 []  ...  B01HIWLLUK\n",
              "32888                                                 []  ...  B01HJ1K3YK\n",
              "32889                                                 []  ...  B01HJ84SGM\n",
              "32890  [Brand new and high quality<br> Enables fast v...  ...  B01HJASD20\n",
              "32891                                                 []  ...  B01HJEGTYK\n",
              "\n",
              "[32488 rows x 9 columns]"
            ]
          },
          "metadata": {},
          "execution_count": 10
        }
      ]
    },
    {
      "cell_type": "markdown",
      "source": [
        "統一處理 metadata 各個 column 的資訊：</br>\n",
        "description: str</br>\n",
        "title: str</br>\n",
        "also_buy/also_view: list</br>\n",
        "brand: str</br>\n",
        "rank: int or ''</br>\n",
        "details: dict</br>\n",
        "price: float or ''</br>\n",
        "\n",
        "追加 ranktype: str (原先 rank 欄位後面的內容)"
      ],
      "metadata": {
        "id": "Mg0h5yQ9Zwkt"
      },
      "id": "Mg0h5yQ9Zwkt"
    },
    {
      "cell_type": "code",
      "source": [
        "metadata['description'] = metadata['description'].apply(lambda x:x[0] if x else '')\n",
        "metadata['title'] = metadata['title'].apply(lambda x:x if x else '')\n",
        "metadata['also_buy'] = metadata['also_buy'].apply(lambda x:x if type(x) is list else [])\n",
        "metadata['brand'] = metadata['brand'].apply(lambda x:x if x else '')\n",
        "#metadata['rank'] = pd.to_numeric(metadata['rank'].str.split(expand = True)[0].str.replace(',', ''))\n",
        "metadata['ranktype'] = metadata['rank'].apply(lambda x:x.split(' in ')[1].replace(' (', '') if type(x) is str else '')\n",
        "metadata['rank'] = metadata['rank'].apply(lambda x:int(x.split(' ')[0].replace(',', '')) if type(x) is str else '')\n",
        "metadata['also_view'] = metadata['also_view'].apply(lambda x:x if type(x) is list else [])\n",
        "metadata['details'] = metadata['details'].apply(lambda x:x if type(x) is dict else {})\n",
        "metadata['price'] = metadata['price'].apply(lambda x:float(x.replace('$','').replace(',','')) if x and len(x)<10 else '')\n",
        "\n",
        "#Method 1: Combine title, brand, ranktype.\n",
        "#metadata['trainstr']=metadata['title'].str.cat(metadata[['brand', 'ranktype']], sep=' ')\n",
        "#metadata['trainstr']=metadata['trainstr'].apply(lambda x:''.join([c for c in x if c.isalnum() or c==' ' ]))\n",
        "#Result: No sufficient RAM\n",
        "\n",
        "#Method 2: Combine title, brand, ranktype, with brand replaced with XXXX and ranktype with XXXX\n",
        "#XXXX means four randomized characters which x.isalnum() is True.\n",
        "#metadata['trainstr']=metadata['title'].str.cat(metadata[['brand', 'ranktype']], sep=' ')\n",
        "#metadata['trainstr']=metadata['trainstr'].apply(lambda x:''.join([c for c in x if c.isalnum() or c==' ' ]))\n",
        "#Result: No sufficient RAM\n",
        "\n",
        "metadata"
      ],
      "metadata": {
        "colab": {
          "base_uri": "https://localhost:8080/",
          "height": 1000
        },
        "id": "0RvSIPXiIt7B",
        "outputId": "40bfe6d5-8c52-41b2-f880-d26511de9408"
      },
      "id": "0RvSIPXiIt7B",
      "execution_count": 11,
      "outputs": [
        {
          "output_type": "stream",
          "name": "stderr",
          "text": [
            "/usr/local/lib/python3.7/dist-packages/ipykernel_launcher.py:1: SettingWithCopyWarning: \n",
            "A value is trying to be set on a copy of a slice from a DataFrame.\n",
            "Try using .loc[row_indexer,col_indexer] = value instead\n",
            "\n",
            "See the caveats in the documentation: https://pandas.pydata.org/pandas-docs/stable/user_guide/indexing.html#returning-a-view-versus-a-copy\n",
            "  \"\"\"Entry point for launching an IPython kernel.\n",
            "/usr/local/lib/python3.7/dist-packages/ipykernel_launcher.py:2: SettingWithCopyWarning: \n",
            "A value is trying to be set on a copy of a slice from a DataFrame.\n",
            "Try using .loc[row_indexer,col_indexer] = value instead\n",
            "\n",
            "See the caveats in the documentation: https://pandas.pydata.org/pandas-docs/stable/user_guide/indexing.html#returning-a-view-versus-a-copy\n",
            "  \n",
            "/usr/local/lib/python3.7/dist-packages/ipykernel_launcher.py:3: SettingWithCopyWarning: \n",
            "A value is trying to be set on a copy of a slice from a DataFrame.\n",
            "Try using .loc[row_indexer,col_indexer] = value instead\n",
            "\n",
            "See the caveats in the documentation: https://pandas.pydata.org/pandas-docs/stable/user_guide/indexing.html#returning-a-view-versus-a-copy\n",
            "  This is separate from the ipykernel package so we can avoid doing imports until\n",
            "/usr/local/lib/python3.7/dist-packages/ipykernel_launcher.py:4: SettingWithCopyWarning: \n",
            "A value is trying to be set on a copy of a slice from a DataFrame.\n",
            "Try using .loc[row_indexer,col_indexer] = value instead\n",
            "\n",
            "See the caveats in the documentation: https://pandas.pydata.org/pandas-docs/stable/user_guide/indexing.html#returning-a-view-versus-a-copy\n",
            "  after removing the cwd from sys.path.\n",
            "/usr/local/lib/python3.7/dist-packages/ipykernel_launcher.py:6: SettingWithCopyWarning: \n",
            "A value is trying to be set on a copy of a slice from a DataFrame.\n",
            "Try using .loc[row_indexer,col_indexer] = value instead\n",
            "\n",
            "See the caveats in the documentation: https://pandas.pydata.org/pandas-docs/stable/user_guide/indexing.html#returning-a-view-versus-a-copy\n",
            "  \n",
            "/usr/local/lib/python3.7/dist-packages/ipykernel_launcher.py:7: SettingWithCopyWarning: \n",
            "A value is trying to be set on a copy of a slice from a DataFrame.\n",
            "Try using .loc[row_indexer,col_indexer] = value instead\n",
            "\n",
            "See the caveats in the documentation: https://pandas.pydata.org/pandas-docs/stable/user_guide/indexing.html#returning-a-view-versus-a-copy\n",
            "  import sys\n",
            "/usr/local/lib/python3.7/dist-packages/ipykernel_launcher.py:8: SettingWithCopyWarning: \n",
            "A value is trying to be set on a copy of a slice from a DataFrame.\n",
            "Try using .loc[row_indexer,col_indexer] = value instead\n",
            "\n",
            "See the caveats in the documentation: https://pandas.pydata.org/pandas-docs/stable/user_guide/indexing.html#returning-a-view-versus-a-copy\n",
            "  \n",
            "/usr/local/lib/python3.7/dist-packages/ipykernel_launcher.py:9: SettingWithCopyWarning: \n",
            "A value is trying to be set on a copy of a slice from a DataFrame.\n",
            "Try using .loc[row_indexer,col_indexer] = value instead\n",
            "\n",
            "See the caveats in the documentation: https://pandas.pydata.org/pandas-docs/stable/user_guide/indexing.html#returning-a-view-versus-a-copy\n",
            "  if __name__ == '__main__':\n",
            "/usr/local/lib/python3.7/dist-packages/ipykernel_launcher.py:10: SettingWithCopyWarning: \n",
            "A value is trying to be set on a copy of a slice from a DataFrame.\n",
            "Try using .loc[row_indexer,col_indexer] = value instead\n",
            "\n",
            "See the caveats in the documentation: https://pandas.pydata.org/pandas-docs/stable/user_guide/indexing.html#returning-a-view-versus-a-copy\n",
            "  # Remove the CWD from sys.path while we load stuff.\n"
          ]
        },
        {
          "output_type": "execute_result",
          "data": {
            "text/html": [
              "\n",
              "  <div id=\"df-0c0dee9e-06c1-4987-a58d-6f1e703a67f7\">\n",
              "    <div class=\"colab-df-container\">\n",
              "      <div>\n",
              "<style scoped>\n",
              "    .dataframe tbody tr th:only-of-type {\n",
              "        vertical-align: middle;\n",
              "    }\n",
              "\n",
              "    .dataframe tbody tr th {\n",
              "        vertical-align: top;\n",
              "    }\n",
              "\n",
              "    .dataframe thead th {\n",
              "        text-align: right;\n",
              "    }\n",
              "</style>\n",
              "<table border=\"1\" class=\"dataframe\">\n",
              "  <thead>\n",
              "    <tr style=\"text-align: right;\">\n",
              "      <th></th>\n",
              "      <th>description</th>\n",
              "      <th>title</th>\n",
              "      <th>also_buy</th>\n",
              "      <th>brand</th>\n",
              "      <th>rank</th>\n",
              "      <th>also_view</th>\n",
              "      <th>details</th>\n",
              "      <th>price</th>\n",
              "      <th>asin</th>\n",
              "      <th>ranktype</th>\n",
              "    </tr>\n",
              "  </thead>\n",
              "  <tbody>\n",
              "    <tr>\n",
              "      <th>0</th>\n",
              "      <td>Loud 'N Clear Personal Sound Amplifier allows ...</td>\n",
              "      <td>Loud 'N Clear&amp;trade; Personal Sound Amplifier</td>\n",
              "      <td>[]</td>\n",
              "      <td>idea village</td>\n",
              "      <td>2938573</td>\n",
              "      <td>[]</td>\n",
              "      <td>{'ASIN: ': '6546546450'}</td>\n",
              "      <td></td>\n",
              "      <td>6546546450</td>\n",
              "      <td>Beauty &amp; Personal Care</td>\n",
              "    </tr>\n",
              "    <tr>\n",
              "      <th>1</th>\n",
              "      <td>No7 Lift &amp; Luminate Triple Action Serum 50ml b...</td>\n",
              "      <td>No7 Lift &amp;amp; Luminate Triple Action Serum 50...</td>\n",
              "      <td>[B01E7LCSL6, B008X5RVME]</td>\n",
              "      <td></td>\n",
              "      <td>872854</td>\n",
              "      <td>[]</td>\n",
              "      <td>{'Shipping Weight:': '0.3 ounces (', 'ASIN: ':...</td>\n",
              "      <td>44.99</td>\n",
              "      <td>7178680776</td>\n",
              "      <td>Beauty &amp; Personal Care</td>\n",
              "    </tr>\n",
              "    <tr>\n",
              "      <th>2</th>\n",
              "      <td>No7 Stay Perfect Foundation now stays perfect ...</td>\n",
              "      <td>No7 Stay Perfect Foundation Cool Vanilla by No7</td>\n",
              "      <td>[]</td>\n",
              "      <td>No7</td>\n",
              "      <td>956696</td>\n",
              "      <td>[B01B8BR0O8, B01B8BR0NO, B014MHXXM8]</td>\n",
              "      <td>{'Shipping Weight:': '3.5 ounces (', 'ASIN: ':...</td>\n",
              "      <td>28.76</td>\n",
              "      <td>7250468162</td>\n",
              "      <td>Beauty &amp; Personal Care</td>\n",
              "    </tr>\n",
              "    <tr>\n",
              "      <th>3</th>\n",
              "      <td></td>\n",
              "      <td>Wella Koleston Perfect Hair Colour 44/44 Mediu...</td>\n",
              "      <td>[B0041PBXX8]</td>\n",
              "      <td></td>\n",
              "      <td>1870258</td>\n",
              "      <td>[]</td>\n",
              "      <td>{'\n",
              "    Item Weight: \n",
              "    ': '1.76 ounces', 'Sh...</td>\n",
              "      <td></td>\n",
              "      <td>7367905066</td>\n",
              "      <td>Beauty &amp; Personal Care</td>\n",
              "    </tr>\n",
              "    <tr>\n",
              "      <th>4</th>\n",
              "      <td>Lacto Calamine Skin Balance Daily Nourishing L...</td>\n",
              "      <td>Lacto Calamine Skin Balance Oil control 120 ml...</td>\n",
              "      <td>[]</td>\n",
              "      <td>Pirmal Healthcare</td>\n",
              "      <td>67701</td>\n",
              "      <td>[3254895630, B007VL1D9S, B00EH9A0RI, B0773MBG4...</td>\n",
              "      <td>{'Shipping Weight:': '12 ounces (', 'ASIN: ': ...</td>\n",
              "      <td>12.15</td>\n",
              "      <td>7414204790</td>\n",
              "      <td>Beauty &amp; Personal Care</td>\n",
              "    </tr>\n",
              "    <tr>\n",
              "      <th>...</th>\n",
              "      <td>...</td>\n",
              "      <td>...</td>\n",
              "      <td>...</td>\n",
              "      <td>...</td>\n",
              "      <td>...</td>\n",
              "      <td>...</td>\n",
              "      <td>...</td>\n",
              "      <td>...</td>\n",
              "      <td>...</td>\n",
              "      <td>...</td>\n",
              "    </tr>\n",
              "    <tr>\n",
              "      <th>32887</th>\n",
              "      <td></td>\n",
              "      <td>Barielle Pro Textured Grip Cuticle Nipper, Purple</td>\n",
              "      <td>[]</td>\n",
              "      <td></td>\n",
              "      <td>2145325</td>\n",
              "      <td>[]</td>\n",
              "      <td>{'ASIN: ': 'B01HIWLLUK'}</td>\n",
              "      <td>9.95</td>\n",
              "      <td>B01HIWLLUK</td>\n",
              "      <td>Beauty &amp; Personal Care</td>\n",
              "    </tr>\n",
              "    <tr>\n",
              "      <th>32888</th>\n",
              "      <td></td>\n",
              "      <td>(Buy 3 Get 1 Free) Salon Perfect Eye Makeup Co...</td>\n",
              "      <td>[]</td>\n",
              "      <td>Salon Perfect</td>\n",
              "      <td>1639713</td>\n",
              "      <td>[]</td>\n",
              "      <td>{'ASIN: ': 'B01HJ1K3YK', 'UPC:': '671635851871'}</td>\n",
              "      <td></td>\n",
              "      <td>B01HJ1K3YK</td>\n",
              "      <td>Beauty &amp; Personal Care</td>\n",
              "    </tr>\n",
              "    <tr>\n",
              "      <th>32889</th>\n",
              "      <td></td>\n",
              "      <td>NOW D-Mannose 500 mg - 120 Veg Capsules (Pack ...</td>\n",
              "      <td>[B01KON9B4S, B079X3YFXS, B00M79OYS6, B000JN4CR...</td>\n",
              "      <td></td>\n",
              "      <td>207410</td>\n",
              "      <td>[B01KON9B4S, B000JN4CR0, B071ZHMRHS, B01HJ84TN...</td>\n",
              "      <td>{'Shipping Weight:': '1 pounds (', 'ASIN: ': '...</td>\n",
              "      <td>55.63</td>\n",
              "      <td>B01HJ84SGM</td>\n",
              "      <td>Beauty &amp; Personal Care</td>\n",
              "    </tr>\n",
              "    <tr>\n",
              "      <th>32890</th>\n",
              "      <td>Brand new and high quality&lt;br&gt; Enables fast vo...</td>\n",
              "      <td>12 White Feather Shuttlecocks Birdies Badminto...</td>\n",
              "      <td>[]</td>\n",
              "      <td>GBSTORE</td>\n",
              "      <td>965673</td>\n",
              "      <td>[]</td>\n",
              "      <td>{'Shipping Weight:': '4.8 ounces (', 'ASIN: ':...</td>\n",
              "      <td>12.99</td>\n",
              "      <td>B01HJASD20</td>\n",
              "      <td>Beauty &amp; Personal Care</td>\n",
              "    </tr>\n",
              "    <tr>\n",
              "      <th>32891</th>\n",
              "      <td></td>\n",
              "      <td>FESHFEN Scrunchy Scrunchies Synthetic Hair Bun...</td>\n",
              "      <td>[B01HJEGQ6Q, B01L66EYCG, B00H7YZ7HI, B00CHKKWZ...</td>\n",
              "      <td></td>\n",
              "      <td>478123</td>\n",
              "      <td>[B06XNM7CGD, B071D7TMQS]</td>\n",
              "      <td>{'\n",
              "    Item Weight: \n",
              "    ': '1.12 ounces', 'Sh...</td>\n",
              "      <td></td>\n",
              "      <td>B01HJEGTYK</td>\n",
              "      <td>Beauty &amp; Personal Care</td>\n",
              "    </tr>\n",
              "  </tbody>\n",
              "</table>\n",
              "<p>32488 rows × 10 columns</p>\n",
              "</div>\n",
              "      <button class=\"colab-df-convert\" onclick=\"convertToInteractive('df-0c0dee9e-06c1-4987-a58d-6f1e703a67f7')\"\n",
              "              title=\"Convert this dataframe to an interactive table.\"\n",
              "              style=\"display:none;\">\n",
              "        \n",
              "  <svg xmlns=\"http://www.w3.org/2000/svg\" height=\"24px\"viewBox=\"0 0 24 24\"\n",
              "       width=\"24px\">\n",
              "    <path d=\"M0 0h24v24H0V0z\" fill=\"none\"/>\n",
              "    <path d=\"M18.56 5.44l.94 2.06.94-2.06 2.06-.94-2.06-.94-.94-2.06-.94 2.06-2.06.94zm-11 1L8.5 8.5l.94-2.06 2.06-.94-2.06-.94L8.5 2.5l-.94 2.06-2.06.94zm10 10l.94 2.06.94-2.06 2.06-.94-2.06-.94-.94-2.06-.94 2.06-2.06.94z\"/><path d=\"M17.41 7.96l-1.37-1.37c-.4-.4-.92-.59-1.43-.59-.52 0-1.04.2-1.43.59L10.3 9.45l-7.72 7.72c-.78.78-.78 2.05 0 2.83L4 21.41c.39.39.9.59 1.41.59.51 0 1.02-.2 1.41-.59l7.78-7.78 2.81-2.81c.8-.78.8-2.07 0-2.86zM5.41 20L4 18.59l7.72-7.72 1.47 1.35L5.41 20z\"/>\n",
              "  </svg>\n",
              "      </button>\n",
              "      \n",
              "  <style>\n",
              "    .colab-df-container {\n",
              "      display:flex;\n",
              "      flex-wrap:wrap;\n",
              "      gap: 12px;\n",
              "    }\n",
              "\n",
              "    .colab-df-convert {\n",
              "      background-color: #E8F0FE;\n",
              "      border: none;\n",
              "      border-radius: 50%;\n",
              "      cursor: pointer;\n",
              "      display: none;\n",
              "      fill: #1967D2;\n",
              "      height: 32px;\n",
              "      padding: 0 0 0 0;\n",
              "      width: 32px;\n",
              "    }\n",
              "\n",
              "    .colab-df-convert:hover {\n",
              "      background-color: #E2EBFA;\n",
              "      box-shadow: 0px 1px 2px rgba(60, 64, 67, 0.3), 0px 1px 3px 1px rgba(60, 64, 67, 0.15);\n",
              "      fill: #174EA6;\n",
              "    }\n",
              "\n",
              "    [theme=dark] .colab-df-convert {\n",
              "      background-color: #3B4455;\n",
              "      fill: #D2E3FC;\n",
              "    }\n",
              "\n",
              "    [theme=dark] .colab-df-convert:hover {\n",
              "      background-color: #434B5C;\n",
              "      box-shadow: 0px 1px 3px 1px rgba(0, 0, 0, 0.15);\n",
              "      filter: drop-shadow(0px 1px 2px rgba(0, 0, 0, 0.3));\n",
              "      fill: #FFFFFF;\n",
              "    }\n",
              "  </style>\n",
              "\n",
              "      <script>\n",
              "        const buttonEl =\n",
              "          document.querySelector('#df-0c0dee9e-06c1-4987-a58d-6f1e703a67f7 button.colab-df-convert');\n",
              "        buttonEl.style.display =\n",
              "          google.colab.kernel.accessAllowed ? 'block' : 'none';\n",
              "\n",
              "        async function convertToInteractive(key) {\n",
              "          const element = document.querySelector('#df-0c0dee9e-06c1-4987-a58d-6f1e703a67f7');\n",
              "          const dataTable =\n",
              "            await google.colab.kernel.invokeFunction('convertToInteractive',\n",
              "                                                     [key], {});\n",
              "          if (!dataTable) return;\n",
              "\n",
              "          const docLinkHtml = 'Like what you see? Visit the ' +\n",
              "            '<a target=\"_blank\" href=https://colab.research.google.com/notebooks/data_table.ipynb>data table notebook</a>'\n",
              "            + ' to learn more about interactive tables.';\n",
              "          element.innerHTML = '';\n",
              "          dataTable['output_type'] = 'display_data';\n",
              "          await google.colab.output.renderOutput(dataTable, element);\n",
              "          const docLink = document.createElement('div');\n",
              "          docLink.innerHTML = docLinkHtml;\n",
              "          element.appendChild(docLink);\n",
              "        }\n",
              "      </script>\n",
              "    </div>\n",
              "  </div>\n",
              "  "
            ],
            "text/plain": [
              "                                             description  ...                ranktype\n",
              "0      Loud 'N Clear Personal Sound Amplifier allows ...  ...  Beauty & Personal Care\n",
              "1      No7 Lift & Luminate Triple Action Serum 50ml b...  ...  Beauty & Personal Care\n",
              "2      No7 Stay Perfect Foundation now stays perfect ...  ...  Beauty & Personal Care\n",
              "3                                                         ...  Beauty & Personal Care\n",
              "4      Lacto Calamine Skin Balance Daily Nourishing L...  ...  Beauty & Personal Care\n",
              "...                                                  ...  ...                     ...\n",
              "32887                                                     ...  Beauty & Personal Care\n",
              "32888                                                     ...  Beauty & Personal Care\n",
              "32889                                                     ...  Beauty & Personal Care\n",
              "32890  Brand new and high quality<br> Enables fast vo...  ...  Beauty & Personal Care\n",
              "32891                                                     ...  Beauty & Personal Care\n",
              "\n",
              "[32488 rows x 10 columns]"
            ]
          },
          "metadata": {},
          "execution_count": 11
        }
      ]
    },
    {
      "cell_type": "markdown",
      "source": [
        "## EDA (Exploratory Data Analysis) \n"
      ],
      "metadata": {
        "id": "JjYcOECGaTjI"
      },
      "id": "JjYcOECGaTjI"
    },
    {
      "cell_type": "markdown",
      "source": [
        "濾掉不必要的 column 後，title column 有 32300 種值，然而 asin column 卻有 32488 種值。</br>\n",
        "證明了不同商品卻有相同 title 的狀況。"
      ],
      "metadata": {
        "id": "MotOB2ZfS5sF"
      },
      "id": "MotOB2ZfS5sF"
    },
    {
      "cell_type": "code",
      "source": [
        "for col in metadata:\n",
        "  print(str(metadata[col].astype(str).nunique())+' data in '+col+' col.')\n",
        "metadata.shape"
      ],
      "metadata": {
        "colab": {
          "base_uri": "https://localhost:8080/"
        },
        "id": "F9NOvUhcbWKP",
        "outputId": "d1fd5a86-7d48-41bd-a7b9-4aae2d3950e8"
      },
      "id": "F9NOvUhcbWKP",
      "execution_count": 12,
      "outputs": [
        {
          "output_type": "stream",
          "name": "stdout",
          "text": [
            "13274 data in description col.\n",
            "32300 data in title col.\n",
            "6482 data in also_buy col.\n",
            "7863 data in brand col.\n",
            "31878 data in rank col.\n",
            "7894 data in also_view col.\n",
            "32329 data in details col.\n",
            "3526 data in price col.\n",
            "32488 data in asin col.\n",
            "14 data in ranktype col.\n"
          ]
        },
        {
          "output_type": "execute_result",
          "data": {
            "text/plain": [
              "(32488, 10)"
            ]
          },
          "metadata": {},
          "execution_count": 12
        }
      ]
    },
    {
      "cell_type": "code",
      "source": [
        "s=set()\n",
        "c=0\n",
        "for i,t in enumerate(metadata['title']):\n",
        "  if t not in s:\n",
        "    s.add(t)\n",
        "  else:\n",
        "    c+=1\n",
        "    print(i,t)\n",
        "  if t=='':\n",
        "    print('No title:')\n",
        "    print(i)\n",
        "print(len(metadata['title']))\n",
        "print(c)"
      ],
      "metadata": {
        "colab": {
          "base_uri": "https://localhost:8080/"
        },
        "id": "qpDOD_GoTqXl",
        "outputId": "0bc5ca2a-c2bd-4a2c-f8a7-23356e244e6d"
      },
      "id": "qpDOD_GoTqXl",
      "execution_count": 13,
      "outputs": [
        {
          "output_type": "stream",
          "name": "stdout",
          "text": [
            "610 Pre de Provence Artisanal French Soap Bar Enriched with Shea Butter, Quad-Milled For A Smooth &amp; Rich Lather (250 grams) - Linden\n",
            "636 Pre de Provence Artisanal French Soap Bar Enriched with Shea Butter, Quad-Milled For A Smooth &amp;...\n",
            "896 Pre de Provence Artisanal French Soap Bar Enriched with Shea Butter, Quad-Milled For A Smooth &amp;...\n",
            "969 Ralph by Ralph Lauren for Women, You've Got Gel Shower Gel, 6.7 Ounce\n",
            "970 Waterpik Ultra Water Flosser\n",
            "1052 Gotu Kola 450mg Now Foods 100 Caps\n",
            "1483 Oral-B Humming Bird Flosser Refills (Pack of 15)\n",
            "1837 ZENO 60-Count Replacement Tip\n",
            "1848 Helen of Troy 1579 Tangle Free Hot Air Brush, White, 3/4 Inch Barrel\n",
            "2039 Nullo Internal Deodorant (60 Caplets)\n",
            "2757 Oral-B Glide Pro-Health Original Floss Twin Pack 100 M\n",
            "3602 Philips Sonicare HX6042/60 Sonicare for Kids Brush Heads, Ages 7-10, 2-Pack\n",
            "4077 Kerastase Nutritive Bain Satin Nutrition 1 Shampoo 8.5 oz\n",
            "4160 Bed Head Ego Boost Split End Mender By Tigi, 8 Ounce\n",
            "4457 Avalon Organics Baby Lotion, 6 Ounce\n",
            "4469 B&aacute;lla for Men Body Powder - Tingle Formula, 100g\n",
            "4616 B&aacute;lla for Men Body Powder - Tingle Formula, 100g\n",
            "4858 Bumble and Bumble Texture Hair Un Dressing Creme 5 oz\n",
            "5980 QUEEN HELENE Cocoa Butter Creme 4.8 oz\n",
            "6044 J.R. Liggett Bar Shampoo, Tea Tree Oil Formula, 3.5 Ounce\n",
            "6089 Malie Organics Malie Organics Roll-On Perfume Oil\n",
            "6118 Estee Lauder Resilience Lift Night Firming/sculpting Face and Neck Creme (Travel Size 0.5 Oz/15 Ml) by Chom\n",
            "6700 Kama Sutra Honey Dust Powder, Raspberry Kiss, 6 Ounce\n",
            "8138 Braun Clean &amp; Renew Refill Cartridges CCR - 2 Count (Packaging May Vary)\n",
            "8317 Genie Bra 3-pack--white&amp;black&amp;nude, with Removable Pads (1X)\n",
            "8337 Donna Premium Collection Extra Firm Mesh Wrap\n",
            "8338 Donna Premium Collection Extra Firm Mesh Wrap\n",
            "8340 Donna Premium Collection Extra Firm Mesh Wrap\n",
            "9229 Bra Breast Pads Collecting Bag Portable Protect Underwear Bra Pouch Lingerie Case\n",
            "10481 Exaggerated Chunky Bib Necklace For Women Jewerly Fashion Statement Necklace Collar Choker Wholesale Jewelry\n",
            "10620 BMC Nail Art Water Transfer Tattoo Effects Decoration Decal-Peacock French Tips2\n",
            "10622 BMC Nail Art Water Transfer Tattoo Effects Decoration Decal-Peacock French Tips2\n",
            "10626 BMC Nail Art Water Transfer Tattoo Effects Decoration Decal-Peacock French Tips2\n",
            "10627 BMC Nail Art Water Transfer Tattoo Effects Decoration Decal-Peacock French Tips2\n",
            "10642 Oral Sex Mints Mint Chocolate\n",
            "10681 Hair Dryer Pro AC motor ionic, ceramic fast 1875W\n",
            "11041 BMC 120pc Flexible Gold Metal Bow w/ Tails Cut Outs Nail Art Decorative Confetti\n",
            "11624 Astra Platinum Double Edge Safety Razor Blades ,100 Blades (20 x 5)\n",
            "11664 Bubble Necklace Women Bubble Bib Statement Crew Necklace Chain\n",
            "11666 Bubble Necklace Women Bubble Bib Statement Crew Necklace Chain\n",
            "12195 BMC 20 Pair 2 Styles False Eyelashes - Day To Night Falsies Collection, Set 6\n",
            "12200 BMC 20 Pair 2 Styles False Eyelashes - Day To Night Falsies Collection, Set 6\n",
            "12343 Citrus Verbena Daily Use Conditioner\n",
            "12395 Damero Clear 3pcs/set Travel Carry Case/Electronic Accessories Organizer/Packing Cubes(Black)\n",
            "12417 Intimate Odor Cleanser - Neutralize for Odorless Skin, Behind, Underarm, and More - Make Our Man or Woman Parts Perfect - Wet Wipe Lover and TP Hater Must Have - Soft pH, Bleach-Free, New Spray Pumps\n",
            "12851 Suave Men 3 in 1 Shampoo Conditioner and Body Wash Citrus Rush 28 Fl Oz(Pack of 2)\n",
            "13662 Lip Smacker Cupcake Lover's Lip Gloss Collection in Zipper Bag Set, 6 Count\n",
            "13710 Manic Panic Classic Cream Vampire's Kiss Semi-Permanent Formula Hair Dye, Red, 4 oz\n",
            "13936 2\n",
            "13987 Lenoge Sexy Women Lingerie Underwear Rose Red Dress Sleepwear\n",
            "14029 Rough Enough Multifunctional Durable Clear Transparent PVC Big Portable Stadium Sport Beach Yoga Travel Gym Tote Bag Handbag with Side Pocket Fabric Bottom Handle for Women Girls\n",
            "14173 Vashnavi Bindi Shiny Made From World Class Crystals\n",
            "14287 Cnlinkco Hot Waterproof lipgloss velvet matte lipstick red color vitality cerise star\n",
            "14519 Wet n Wild MegaLast Lip Color, Bare It All [902C] 1 ea\n",
            "14530 2\n",
            "14687 Abody Sexy Bandage Dress Sleeveless Pleated Asymmetrical Flare Party Dress\n",
            "14781 Naughty Secrets Body Mist W/pheromones, 6 Fl Oz (Make Me Blush)\n",
            "14822 Bourjois Healthy Mix Foundation\n",
            "14823 Bourjois Healthy Mix Foundation\n",
            "14825 Bourjois Rouge Edition Lipstick\n",
            "14827 Bourjois Healthy Mix Foundation\n",
            "14828 Bourjois Healthy Mix Foundation\n",
            "14830 Bourjois Healthy Mix Foundation\n",
            "14839 Bourjois Healthy Mix Foundation\n",
            "14965 2\n",
            "15490 1920s Headpiece Feather Hair Accessories - Gatsby Costumes for Woman Flapper Headband\n",
            "15491 1920s Headpiece Feather Hair Accessories - Gatsby Costumes for Woman Flapper Headband\n",
            "15873 Secret Antiperspirant and Deodorant for Women, Clinical Strength Soft Solid, Light and Fresh, 1.6 Oz\n",
            "16046 Abody Women Trench Coat Double Breasted Turndown Collar Long Sleeve Lace Overcoat with Belt\n",
            "16219 Cordless Wand Massager by La Sante - Strongest Handheld Therapeutic Vibrating Power - Best Rated for Travel Gift - Magic Stress Away - Perfect for Muscle Aches and Personal Sports Recovery\n",
            "16446 So Beauty 100pcs Disposable Cape for Hairdressing\n",
            "16930 Max Factor Skin Luminizer Foundation\n",
            "17193 Lotus pure organics. Natural LipGloss. Fashionable Colors, Long lasting, Gluten Free, Cruelty Free, Lead Free, Non-Toxic Chemicals, Enriched with Vitamin E, Smooth and moisturized - Pink Mocha\n",
            "17202 Sinland Hair Drying Towel Microfiber Fast Drying Hair Turban Twist Wrap Cap 9.5Inch X 24.4Inch Dark Pink\n",
            "17281 Lotus pure organics. Natural LipGloss. Fashionable Colors, Long lasting, Gluten Free, Cruelty Free, Lead Free, Non-Toxic Chemicals, Enriched with Vitamin E, Smooth and moisturized - Pink Mocha\n",
            "17292 Starlite Manicure-Pedicure Stainless Steel Nickel Plated Cuticle Pusher by StarliteManicure\n",
            "17353 62120205 - Brava Skin Barrier Spray, 1.7 ounce. Alcohol-Free and Sting-Free.\n",
            "17389 Max Factor Lipfinity (Current 25 shade Range)\n",
            "17390 Max Factor Lipfinity (Current 25 shade Range)\n",
            "17394 Temporary Tattoo Stickers Temporary Body Art Supermodel Stencil Designs Waterproof Letters Gun Tattoo Pattern\n",
            "17543 Africana - 6ml (.2 oz) Perfume Oil by Al-Rehab (Crown Perfumes) by Al-Rehab\n",
            "17544 Africana - 6ml (.2 oz) Perfume Oil by Al-Rehab (Crown Perfumes) by Al-Rehab\n",
            "17572 Super Gold Gluta 500000 Active Anti-aging V Shape Face Glutathione Whitening Pills\n",
            "17827 Greenwich Bay Soap Bar for Men, Shea Butter Moisturizing Bar, Men Natural Bath Soap\n",
            "17830 ZenXoilz Fractionated Coconut Oil for Aromatherapy, Essential Oil or Massage use - 8oz\n",
            "18267 Greenwich Bay Soap Bar for Men, Shea Butter Moisturizing Bar, Men Natural Bath Soap\n",
            "18528 3pcs Nail Files Buffing Sanding Buffer Block Acrylic Nail Art Tips\n",
            "19137 Made From Nature's Raw Unrefined African Shea Butter Selections !!! (8 Oz, 16 Oz, 32 Oz)- Grade a Premium Shea Butter From Ghana - Use on Acne, Eczema, Stretch Marks, Rashes -\n",
            "19138 Made From Nature's Raw Unrefined African Shea Butter Selections !!! (8 Oz, 16 Oz, 32 Oz)- Grade a Premium Shea Butter From Ghana - Use on Acne, Eczema, Stretch Marks, Rashes -\n",
            "19401 Gosh Velvet Touch Foundation Primer\n",
            "19404 Gosh Long Lasting Brow Pen\n",
            "19406 Gosh Velvet Touch Eye Liner\n",
            "19408 Gosh Velvet Touch Eye Liner\n",
            "19409 Gosh Eye Brow Pencil\n",
            "19663 Gosh Velvet Touch Lipstick\n",
            "19824 AW Rolling 15x10x29&quot; Makeup Stylist Train Case Hair Salon Clipper Trimmer Box Bronze w/ 360 Degree Wheel\n",
            "20301 2 x N Duracell 1.5V Alkaline Batteries (Medical, LR1, E90, MN9100)\n",
            "20514 Anself Crystal Glass Nail Art Acrylic Dappen Dish Bowl Cup Liquid Powder with Cap Lid\n",
            "20515 Anself Crystal Glass Nail Art Acrylic Dappen Dish Bowl Cup Liquid Powder with Cap Lid\n",
            "20538 Armani Code For Men By Giorgio Armani Gift Set\n",
            "20965 Men's Shoulder Bag,Kangaroo\n",
            "20967 Men's Shoulder Bag,Kangaroo\n",
            "20968 Men's Shoulder Bag,Kangaroo\n",
            "21144 Max Factor Creme Puff Blush\n",
            "21342 Popfeel&reg; Double Sided and Free Standing Table-Top Makeup Mirror3X Magnifying Mirror HelloKitty/Mickey/Piggy/ SpongeBob/Doraemon,Style Send out Randomly\n",
            "21544 Derma Roller 0.25mm - Facial Skin Care Tool for Face - Micro Needle Roller - 540 Deluxe Titanium Micro Needles - Titanium Microneedle Roller - Perfect Cosmetic Microneedling Skin Roller\n",
            "21970 Beautiful Selena Gomez Poster Very High Quality. Looks Amazing\n",
            "22255 Anself Mini Hair Styler Ceramic Straightening Plate Car Plug 12V\n",
            "22256 Anself Mini Hair Styler Ceramic Straightening Plate Car Plug 12V\n",
            "22257 Anself Mini Hair Styler Ceramic Straightening Plate Car Plug 12V\n",
            "22320 stila Perfectly Pore Less Putty Perfect Makeup, Tan, 11 g.\n",
            "22321 stila Perfectly Pore Less Putty Perfect Makeup, Tan, 11 g.\n",
            "22340 Kids Cape and Mask\n",
            "22632 BMC Nail Stamping Lacquers - Creative Art Polish Collection, 6 Colors: Set 1\n",
            "22734 LuckyFine 8 Colors Empty Box PU Leather Portable Makeup Cosmetic Storage Bags Organizer Holder Brush Cup\n",
            "22736 LuckyFine 8 Colors Empty Box PU Leather Portable Makeup Cosmetic Storage Bags Organizer Holder Brush Cup\n",
            "22783 Upgraded 30% Vitamin C Serum with Hyaluronic Acid and Vit E,Anti Aging Face Serum for Face Eyes,Anti Wrinkle Vitamin C Facail Serum\n",
            "22880 62120205 - Brava Skin Barrier Spray, 1.7 ounce. Alcohol-Free and Sting-Free.\n",
            "22983 Shower Gel by Selenium - Natural Organic Body Wash with Sapropel Extracts Vitamins and Biological Stimulants for Everyday Use/8,5oz\n",
            "23103 Eyelash Growth Serum, LamFun Natural Lash and Brow Boost Enhancer &amp; Eyebrow Growth Serum for Longer, Thicker Lashes and Brows, FDA Approved, Irritation-Free Formula\n",
            "23645 Cetaphil Restoraderm Eczema Calming Body Moisturizer 10 oz\n",
            "23782 2to3 Plug In Adapter Wh\n",
            "24031 Buytra Cat Canvas Student Pen Pencil Case Coin Purse Pouch Cosmetic Makeup Bag\n",
            "24032 Buytra Cat Canvas Student Pen Pencil Case Coin Purse Pouch Cosmetic Makeup Bag\n",
            "24034 Buytra Cat Canvas Student Pen Pencil Case Coin Purse Pouch Cosmetic Makeup Bag\n",
            "24121 DANCINGNAIL Nail Art Polish Manicure Peel Off Base Coat Nail Art Liquid Tape Palisade Skin Cream Glue\n",
            "24411 Bourjois' Air Mat foundation\n",
            "24531 Sannysis Newest 2016 Outdoor Bluetooth Beanie Hat Cap Headphone Stereo Speakers &amp; Mic Hands Free Christmas Gifts\n",
            "24532 Sannysis Newest 2016 Outdoor Bluetooth Beanie Hat Cap Headphone Stereo Speakers &amp; Mic Hands Free Christmas Gifts\n",
            "24754 Mokingtop Rhinestone Wallet Leather Bling Cover Case for Samsung Galaxy S5 I9600\n",
            "24814 Cardani Eyebrow Tattoos #17 - Classic Shape Temporary Tattoo Eyebrows\n",
            "24922 Skin Lightening Serum - Inhibit Melanin &amp; Nourish Skin with Vitamin C, Hyaluronic Acid, Vitamin B3, Skin Whitening Brightening Serum for Face &amp; Eye Skin with Organic &amp; Pure Ingredients - 30ml\n",
            "25059 Stretch Marks &amp; Scar Removal Cream for Pregnancy Remove Acne Scars with Natural Herbal Extracts Anti Cellulite and Stretch Marks Remover Massage Safe for All Skin Types\n",
            "25277 Derma Roller 0.25mm - Facial Skin Care Tool for Face - Micro Needle Roller - 540 Deluxe Titanium Micro Needles - Titanium Microneedle Roller - Perfect Cosmetic Microneedling Skin Roller\n",
            "25545 Velishy(TM) Christmas Snowflakes Snowman 3D Nail Art Stickers Decals\n",
            "25642 Keelyn Magnetic Eyelashes &ndash; Natural Look 3 Magnets Lashes for Full Eye Covered\n",
            "25666 Tigi Bed Head Perfect Lipliner, Couture, 0.04 Ounce\n",
            "25667 Tigi Bed Head Perfect Lipliner, Couture, 0.04 Ounce\n",
            "25792 Hair Straightener Professional Detangling Hair Brush Hair Styling Comb Digital Anti Static Anti-Scald Ceramic Heating Iron Pink Hair Massage Straightening Irons (Black Red)\n",
            "26223 Innotree Car Aromatherapy Essential Oil Diffuser, 2PCS 30mm Car Fragrance Essential Oil Diffuser Vent Clip, 316L Stainless Steel Locket Air Freshener + 10PCS Felt Pads + Gift Box, Tree of Life &amp; Leaf\n",
            "No title:\n",
            "26613\n",
            "26842 inkint Portable 2 in 1 Hair Straightener and Hair Curler Professional Hair Straightening Iron for Women\n",
            "27005 Africana - 6ml (.2 oz) Perfume Oil by Al-Rehab (Crown Perfumes) by Al-Rehab\n",
            "27128 Derma Roller 0.25mm - Facial Skin Care Tool for Face - Micro Needle Roller - 540 Deluxe Titanium Micro Needles - Titanium Microneedle Roller - Perfect Cosmetic Microneedling Skin Roller\n",
            "27297 WLE 300D Fashion Multifuctional Make Up Wash Toiletries Traveling Cases Bags\n",
            "27487 Mlavi by Lavishy Mexican Oilcloth Print Cosmetic Make-up Vegan Travel Pouch Bag\n",
            "27590 Baubax Women's Bomber Travel Jacket\n",
            "27591 Baubax Women's Bomber Travel Jacket\n",
            "27592 Baubax Women's Bomber Travel Jacket\n",
            "27593 Baubax Women's Bomber Travel Jacket\n",
            "27594 Baubax Women's Bomber Travel Jacket\n",
            "27697 Baubax Women's Bomber Travel Jacket\n",
            "27698 Baubax Women's Bomber Travel Jacket\n",
            "27699 Baubax Women's Bomber Travel Jacket\n",
            "27785 Hello Kitty Toiletry Ideal Easter Gift Basket for Girls Under 8\n",
            "27864 Tropic Isle Living Jamaican Black Castor Oil with Lavender Plastic PET Bottle (4 oz)\n",
            "27978 Fan Makeup Brush - Powder Concealer Foundation Blush Blending Highlight Bronzer Contour Makeup Brush - with Premium Soft Synthetic Hair\n",
            "28702 Venusvi Venusvi Rhinestone Headband, Flower Girl Headband, Crystal Headband, Bridal Headband, Gatsby Headband, Bling Headband, Wedding Headband\n",
            "28703 Leiothrix Upscale 10 Pairs Long Thick Eyelashes for Women and Girls On any Occasion\n",
            "28819 TIGI Bed Head B Men's Pure Texture Molding Paste, 2.93 Ounce\n",
            "29015 2\n",
            "29042 Tomato Lip Plumper Mouth Lip Fuller Enhancer Long Lasting\n",
            "29153 Bourjois Radiance Reveal concealer\n",
            "29157 Bourjois Radiance Reveal concealer\n",
            "29459 Cash &amp; Bash | NUTSACK &amp; HOOF | 3-IN-ONE | Face Wash + Shaving Serum + Moisturizer | Vanilla + Rice Bran Oil | Premium Skin Care with Anti-inflammatory and Antibacterial Properties\n",
            "29734 Dermacol Invisible Fixing Powder\n",
            "29748 (PACK OF 3 BARS) Zest AQUA Deodorant Bar Soap with Vitamin E. All-in-one exfoliating &amp; moisturizing soap Leaves Skin Smooth &amp; Radian! Great for Hands, Face &amp; Body! (3 Bars, 3.20oz Each Bar)\n",
            "30171 10PC/Set Pro Toothbrush Shaped Eyebrow Foundation Power Face Eyeliner Lip Oval Cream Puff Brushes Makeup Beauty Tools\n",
            "30520 Bath Bombs Gift Set - Handmade in USA - 6x5oz - All Natural and Organic - Gift Idea for Women, Teens, Girlfriend, Kids &ndash; Lush Bath Bomb with Moisturizing Shea Butter for Spa Bath\n",
            "30616 Phazyme Gas &amp; Acid Cherry Size 24ct Phazyme Gas &amp; Acid Cherry Chews 24ct\n",
            "31078 Sankuwen 15PCs Wool Makeup Brush Set Tools Toiletry Kit\n",
            "31080 Sankuwen 15PCs Wool Makeup Brush Set Tools Toiletry Kit\n",
            "31081 Sankuwen 15PCs Wool Makeup Brush Set Tools Toiletry Kit\n",
            "31083 Sankuwen 15PCs Wool Makeup Brush Set Tools Toiletry Kit\n",
            "31084 Sankuwen 15PCs Wool Makeup Brush Set Tools Toiletry Kit\n",
            "31085 Sankuwen 15PCs Wool Makeup Brush Set Tools Toiletry Kit\n",
            "31192 Younique Glorious Face and Eye Primer\n",
            "31236 Alteya Organics Bulgarian Rose Water - 250ml / 8.5fl oz, From Our Rose Fields and Distillery\n",
            "31337 Empsoul 925 Sterling Silver Natural Chic Filled Forever Love Heart Ruby Spinel Proposal Wedding Ring\n",
            "31477 BEAUTY SALON RECEPTION DESK ALL PURPOSE RECEPTION COUNTER RECEPTION AREA DESK - SATELLITE\n",
            "31483 Biotin Curl Control with Organic Argan Oil and Silk Protein Styling Treatment by Victoria Ashley\n",
            "31591 ABC Camera Backpack Bag Waterproof DSLR Case for Canon for Nikon for Sony (Green)\n",
            "31683 For iphone 6s plus,AutumnFall&reg; Soft Transparent TPU Protect Phone With Fur Ball for iPhone 6 plus/6S plus 5.5 Inch\n",
            "32109 Derma Roller 0.25mm - Facial Skin Care Tool for Face - Micro Needle Roller - 540 Deluxe Titanium Micro Needles - Titanium Microneedle Roller - Perfect Cosmetic Microneedling Skin Roller\n",
            "32164 Samsung Galaxy J7 (2016), Samsung Galaxy J7 Phone case wristlet with I.D holder and Coin Pocket\n",
            "32236 Derma Roller 0.25mm - Facial Skin Care Tool for Face - Micro Needle Roller - 540 Deluxe Titanium Micro Needles - Titanium Microneedle Roller - Perfect Cosmetic Microneedling Skin Roller\n",
            "32352 LG Volt 2 NEW Cell Phone Case with Wrist Strap to help stay organized\n",
            "32361 Samsung Galaxy J3 NEW Cell Phone Case with Wrist Strap to help stay organized\n",
            "32371 Derma Roller 0.25mm - Facial Skin Care Tool for Face - Micro Needle Roller - 540 Deluxe Titanium Micro Needles - Titanium Microneedle Roller - Perfect Cosmetic Microneedling Skin Roller\n",
            "32488\n",
            "188\n"
          ]
        }
      ]
    },
    {
      "cell_type": "code",
      "source": [
        "metadata['ranktype'].value_counts()"
      ],
      "metadata": {
        "colab": {
          "base_uri": "https://localhost:8080/"
        },
        "id": "nMIAoXJFaX5S",
        "outputId": "db8d7256-37e1-4081-d3dc-c95ea4310017"
      },
      "id": "nMIAoXJFaX5S",
      "execution_count": 14,
      "outputs": [
        {
          "output_type": "execute_result",
          "data": {
            "text/plain": [
              "Beauty & Personal Care        31541\n",
              "Beauty &amp; Personal Care      474\n",
              "                                402\n",
              "Grocery & Gourmet Food           35\n",
              "Health & Household               19\n",
              "Toys & Games                      3\n",
              "Sports & Outdoors                 3\n",
              "Health &amp; Household            2\n",
              "Grocery &amp; Gourmet Food        2\n",
              "Clothing, Shoes & Jewelry         2\n",
              "Baby                              2\n",
              "Tools & Home Improvement          1\n",
              "Automotive                        1\n",
              "Home & Kitchen                    1\n",
              "Name: ranktype, dtype: int64"
            ]
          },
          "metadata": {},
          "execution_count": 14
        }
      ]
    },
    {
      "cell_type": "code",
      "source": [
        "metadata['brand'].value_counts()"
      ],
      "metadata": {
        "colab": {
          "base_uri": "https://localhost:8080/"
        },
        "id": "8AGoSnN2b-tw",
        "outputId": "8c92ae2a-91d2-47ae-8849-957e43ad1bb6"
      },
      "id": "8AGoSnN2b-tw",
      "execution_count": 15,
      "outputs": [
        {
          "output_type": "execute_result",
          "data": {
            "text/plain": [
              "                                    15570\n",
              "VAGA                                  252\n",
              "L'Oreal Paris                         110\n",
              "Betty Dain                             82\n",
              "Unknown                                79\n",
              "                                    ...  \n",
              "sunkiller                               1\n",
              "Leritone                                1\n",
              "Streetwise                              1\n",
              "Goya                                    1\n",
              "Nothing But Quality, Ching Ching        1\n",
              "Name: brand, Length: 7863, dtype: int64"
            ]
          },
          "metadata": {},
          "execution_count": 15
        }
      ]
    },
    {
      "cell_type": "markdown",
      "source": [
        "原始 metadata 資料中，價格分布狀況。"
      ],
      "metadata": {
        "id": "v31sGIoijLbg"
      },
      "id": "v31sGIoijLbg"
    },
    {
      "cell_type": "code",
      "source": [
        "price=metadata[metadata['price'] != '']\n",
        "print('The max price of all time: '+str(max(price['price'])))\n",
        "plt.hist(metadata[metadata['price'] != '']['price'],bins=1000)\n",
        "plt.xlim(0,200)\n",
        "plt.xlabel('US dollars')"
      ],
      "metadata": {
        "colab": {
          "base_uri": "https://localhost:8080/",
          "height": 314
        },
        "id": "tP8dkNn_dz_m",
        "outputId": "6c7dd68c-177e-40b5-ce13-a4416fb67d5a"
      },
      "id": "tP8dkNn_dz_m",
      "execution_count": 16,
      "outputs": [
        {
          "output_type": "stream",
          "name": "stdout",
          "text": [
            "The max price of all time: 2149.0\n"
          ]
        },
        {
          "output_type": "execute_result",
          "data": {
            "text/plain": [
              "Text(0.5, 0, 'US dollars')"
            ]
          },
          "metadata": {},
          "execution_count": 16
        },
        {
          "output_type": "display_data",
          "data": {
            "image/png": "[encoded data removed]",
            "text/plain": [
              "<Figure size 432x288 with 1 Axes>"
            ]
          },
          "metadata": {
            "needs_background": "light"
          }
        }
      ]
    },
    {
      "cell_type": "markdown",
      "source": [
        "改寫自 Ana 同學的第一週作業 EDA 的內容，在此統計「原始資料」中購買者和商品的重複率，發現：<br>\n",
        "<ul>\n",
        "<li>9成以上的商品被重複購入過。(32,586/371,345 < 10%)\n",
        "<li>8.7成左右的評論來自新用戶。(324,038/371,345 ~ 87%)\n",
        "<li>在評論數據庫裡，有商品不在原始的商品數據庫。(32,586 > 32,488)</li>"
      ],
      "metadata": {
        "id": "wlir6OF3NMVE"
      },
      "id": "wlir6OF3NMVE"
    },
    {
      "cell_type": "code",
      "source": [
        "print(f'Total orders: {ratings.shape[0]:,}')\n",
        "print(f'Total products: {metadata.asin.nunique():,}')\n",
        "print(f'Unrepeated products: {ratings.asin.nunique():,}')\n",
        "print(f'Unrepeated users: {ratings.reviewerID.nunique():,}')"
      ],
      "metadata": {
        "colab": {
          "base_uri": "https://localhost:8080/"
        },
        "id": "Ek_XEXYgg7J7",
        "outputId": "8f8b6182-c76a-4093-f5bb-03de8cfe738c"
      },
      "id": "Ek_XEXYgg7J7",
      "execution_count": 17,
      "outputs": [
        {
          "output_type": "stream",
          "name": "stdout",
          "text": [
            "Total orders: 371,345\n",
            "Total products: 32,488\n",
            "Unrepeated products: 32,586\n",
            "Unrepeated users: 324,038\n"
          ]
        }
      ]
    },
    {
      "cell_type": "markdown",
      "source": [
        "統計每個月的評價數中，總評價數和新用戶的評價數"
      ],
      "metadata": {
        "id": "FLyj1cyDUX7Y"
      },
      "id": "FLyj1cyDUX7Y"
    },
    {
      "cell_type": "code",
      "source": [
        "date,reviewer,new_reviewer=[],[],[]\n",
        "\n",
        "month=datetime.date(2000,1,1)\n",
        "count,s=0,set()\n",
        "start,end=0,0\n",
        "while month<=datetime.date(2018,9,1):\n",
        "  while ratings['DATE'].iloc[end]<month+relativedelta(months=1):\n",
        "    if ratings['reviewerID'].iloc[end] not in s:\n",
        "      count+=1\n",
        "    end+=1\n",
        "  s=set(ratings['reviewerID'].iloc[:end])\n",
        "  reviewer.append(len(ratings['reviewerID'].iloc[start:end]))\n",
        "  new_reviewer.append(count)\n",
        "  #new_reviewer.append(len(set(ratings['reviewerID'].iloc[start:end])))\n",
        "  date.append(month)\n",
        "  start=end\n",
        "  count=0\n",
        "  month+=relativedelta(months=1)"
      ],
      "metadata": {
        "id": "T-m8dDtXPBMF"
      },
      "id": "T-m8dDtXPBMF",
      "execution_count": 18,
      "outputs": []
    },
    {
      "cell_type": "markdown",
      "source": [
        "對時間做圖後發現：\n",
        "<br>\n",
        "<ul>\n",
        "<li>2016, 17年訂單數到達高峰後逐月下降。\n",
        "<li>每月訂單中，新進用戶的訂單數量佔比極高。</li>\n",
        "</ul>"
      ],
      "metadata": {
        "id": "ulzswbi9Uel2"
      },
      "id": "ulzswbi9Uel2"
    },
    {
      "cell_type": "code",
      "source": [
        "plt.plot(date,reviewer,label='reviewer')\n",
        "plt.plot(date,new_reviewer,label='new_reviewer')\n",
        "plt.legend()"
      ],
      "metadata": {
        "colab": {
          "base_uri": "https://localhost:8080/",
          "height": 284
        },
        "id": "yIyXeWCjRHHq",
        "outputId": "6a3e60c8-9fa5-4cb2-e89d-edbdb87cb57f"
      },
      "id": "yIyXeWCjRHHq",
      "execution_count": 19,
      "outputs": [
        {
          "output_type": "execute_result",
          "data": {
            "text/plain": [
              "<matplotlib.legend.Legend at 0x7f558d210910>"
            ]
          },
          "metadata": {},
          "execution_count": 19
        },
        {
          "output_type": "display_data",
          "data": {
            "image/png": "[encoded data removed]",
            "text/plain": [
              "<Figure size 432x288 with 1 Axes>"
            ]
          },
          "metadata": {
            "needs_background": "light"
          }
        }
      ]
    },
    {
      "cell_type": "markdown",
      "source": [
        "重複買家購入相同物品/重複買家 的 評價筆數 (共 19,218/83,561 筆)"
      ],
      "metadata": {
        "id": "GiuaIkKMNA2X"
      },
      "id": "GiuaIkKMNA2X"
    },
    {
      "cell_type": "code",
      "source": [
        "ratings.duplicated(subset=['reviewerID'],keep=False).value_counts()"
      ],
      "metadata": {
        "colab": {
          "base_uri": "https://localhost:8080/"
        },
        "id": "7bn0Y8FzVUEW",
        "outputId": "7c34c6e3-6c32-42ae-bf82-3eeb2f62db32"
      },
      "id": "7bn0Y8FzVUEW",
      "execution_count": 20,
      "outputs": [
        {
          "output_type": "execute_result",
          "data": {
            "text/plain": [
              "False    287784\n",
              "True      83561\n",
              "dtype: int64"
            ]
          },
          "metadata": {},
          "execution_count": 20
        }
      ]
    },
    {
      "cell_type": "code",
      "source": [
        "ratings.duplicated(subset=['asin','reviewerID'],keep=False).value_counts()"
      ],
      "metadata": {
        "colab": {
          "base_uri": "https://localhost:8080/"
        },
        "id": "vFZr3CI8I2jA",
        "outputId": "76a396bb-5a64-4ae4-c7e8-59ecb4819af3"
      },
      "id": "vFZr3CI8I2jA",
      "execution_count": 21,
      "outputs": [
        {
          "output_type": "execute_result",
          "data": {
            "text/plain": [
              "False    352127\n",
              "True      19218\n",
              "dtype: int64"
            ]
          },
          "metadata": {},
          "execution_count": 21
        }
      ]
    },
    {
      "cell_type": "markdown",
      "source": [
        "評論分數分佈統計"
      ],
      "metadata": {
        "id": "bm6qMI8hMUrk"
      },
      "id": "bm6qMI8hMUrk"
    },
    {
      "cell_type": "code",
      "source": [
        "ratings['overall'].value_counts()"
      ],
      "metadata": {
        "colab": {
          "base_uri": "https://localhost:8080/"
        },
        "id": "G6Ty36YijvO-",
        "outputId": "324a41bf-49c4-4dc0-ce9b-72bea33ef01d"
      },
      "id": "G6Ty36YijvO-",
      "execution_count": 22,
      "outputs": [
        {
          "output_type": "execute_result",
          "data": {
            "text/plain": [
              "5.0    229549\n",
              "4.0     52687\n",
              "1.0     39261\n",
              "3.0     29555\n",
              "2.0     20293\n",
              "Name: overall, dtype: int64"
            ]
          },
          "metadata": {},
          "execution_count": 22
        }
      ]
    },
    {
      "cell_type": "markdown",
      "id": "054eeba4",
      "metadata": {
        "id": "054eeba4"
      },
      "source": [
        "## 資料切分"
      ]
    },
    {
      "cell_type": "code",
      "source": [
        "def cut(predict,ratings=ratings):\n",
        "  \"\"\"\n",
        "  let predict be the first day of any month.\n",
        "  \"\"\"\n",
        "  train = ratings[\n",
        "    (ratings['DATE'] < str(predict))\n",
        "  ]\n",
        "  test = ratings[\n",
        "    (ratings['DATE'] >= str(predict)) & \n",
        "    (ratings['DATE'] < str(predict+relativedelta(months=1)))\n",
        "  ]\n",
        "  return train,test"
      ],
      "metadata": {
        "id": "epyBdu9Aond-"
      },
      "id": "epyBdu9Aond-",
      "execution_count": 23,
      "outputs": []
    },
    {
      "cell_type": "code",
      "execution_count": 24,
      "id": "284b14a8",
      "metadata": {
        "id": "284b14a8"
      },
      "outputs": [],
      "source": [
        "\"\"\"\n",
        "ratings_trainings = ratings[\n",
        "    (ratings['DATE'] < '2018-09-01')\n",
        "]\n",
        "ratings_testings = ratings[\n",
        "    (ratings['DATE'] >= '2018-09-01') & \n",
        "    (ratings['DATE'] <= '2018-09-30')\n",
        "]\n",
        "\"\"\"\n",
        "ratings_trainings,ratings_testings=cut(predict=datetime.date(2018,9,1))\n",
        "ratings_testings_by_user = ratings_testings.groupby('reviewerID').agg(list).reset_index()[['reviewerID', 'asin']].to_dict('records')\n",
        "ratings_testings_by_user = { rating['reviewerID']: rating['asin'] for rating in ratings_testings_by_user }\n",
        "users = list(ratings_testings_by_user.keys())"
      ]
    },
    {
      "cell_type": "markdown",
      "id": "a6c76061",
      "metadata": {
        "id": "a6c76061"
      },
      "source": [
        "## 產生推薦"
      ]
    },
    {
      "cell_type": "markdown",
      "source": [
        "EDA 的過程發現「不同商品卻有相同 title 的狀況」。但分析後又發現重複買家購入相同物品/重複買家 的 評價筆數 19,218/83,561 = 23%，因此判斷無需完全排除推薦已經購入過的商品。</br>\n",
        "另外，此處發現一個原始 code 的 bug，原先跑出來的結果總是掛蛋，但後來發現 matrix 的 index 和 df 的 index 不一致，因此輸出會對不上輸入，在此加入</br>\n",
        "```python \n",
        "df=df.reset_index()\n",
        "```\n",
        "後，終於順利產出第一個非零的評估分數。"
      ],
      "metadata": {
        "id": "SQfC52Zme3SO"
      },
      "id": "SQfC52Zme3SO"
    },
    {
      "cell_type": "markdown",
      "source": [
        "在此以不同計算 similarity 的方法來進行評估。</br>\n",
        "https://dataaspirant.com/five-most-popular-similarity-measures-implementation-in-python/</br>\n",
        "https://scikit-learn.org/stable/modules/classes.html#module-sklearn.metrics.pairwise\n"
      ],
      "metadata": {
        "id": "n4HpwzWe_vWy"
      },
      "id": "n4HpwzWe_vWy"
    },
    {
      "cell_type": "code",
      "execution_count": 25,
      "id": "61e7487b",
      "metadata": {
        "id": "61e7487b"
      },
      "outputs": [],
      "source": [
        "from sklearn.feature_extraction.text import TfidfVectorizer\n",
        "\n",
        "# 計算商品用標題所表示的 tfidf 矩陣\n",
        "tr='title'\n",
        "df = metadata.drop_duplicates(tr)\n",
        "df = df.reset_index()\n",
        "tf = TfidfVectorizer(analyzer='word')\n",
        "tfidf_matrix = tf.fit_transform(df[tr])\n",
        "\n",
        "\n",
        "# 計算商品間的相似程度: cosine_similarity\n",
        "from sklearn.metrics.pairwise import cosine_similarity\n",
        "similarity_matrix = cosine_similarity(tfidf_matrix)\n",
        "mapping = pd.Series(df.index,index = df[tr])\n",
        "\n",
        "\n",
        "# 計算商品間的相似程度: manhattan_distances\n",
        "#from sklearn.metrics.pairwise import manhattan_distances\n",
        "#similarity_matrix = manhattan_distances(tfidf_matrix)\n",
        "#mapping = pd.Series(df.index,index = df[tr])\n",
        "\n",
        "# 計算商品間的相似程度: euclidean_distances\n",
        "#from sklearn.metrics.pairwise import euclidean_distances\n",
        "#similarity_matrix = euclidean_distances(tfidf_matrix)\n",
        "#mapping = pd.Series(df.index,index = df[tr])\n"
      ]
    },
    {
      "cell_type": "code",
      "source": [
        "# 每個商品回傳 k 個最相近的商品\n",
        "def recommend_item(item_input, k=2):\n",
        "    try:\n",
        "        item_index = mapping[item_input]\n",
        "        similarity_score = list(enumerate(similarity_matrix[item_index]))\n",
        "        similarity_score = sorted(similarity_score, key=lambda x: x[1], reverse=True)\n",
        "        similarity_score = similarity_score[:k]\n",
        "        #item_indices = [i[0] for i in similarity_score]\n",
        "        #return (df['asin'].iloc[item_indices].tolist())\n",
        "        return similarity_score\n",
        "    except:\n",
        "        return []\n",
        "\n",
        "# 利用使用者購買過的商品產生推薦\n",
        "def recommend_items(items, k):\n",
        "    res = []\n",
        "    for d in items:\n",
        "        res.extend(recommend_item(d,k))\n",
        "    res=sorted(res, key=lambda x: x[1], reverse=True)\n",
        "    return res\n",
        "\n",
        "def sum_of_rank(res,k):\n",
        "    new_r={}\n",
        "    for r in res:\n",
        "      if r[0] in new_r:\n",
        "        if r[1]>new_r[r[0]]:\n",
        "          new_r[r[0]]=r[1]\n",
        "      else:\n",
        "        new_r.update({r[0]:r[1]})\n",
        "\n",
        "    new=sorted([(key,val) for key,val in new_r.items()],key=lambda x:x[1], reverse=True)\n",
        "    return df['asin'].iloc[[n[0] for n in new][:k]].tolist()"
      ],
      "metadata": {
        "id": "Y602ReA9OmT0"
      },
      "id": "Y602ReA9OmT0",
      "execution_count": 26,
      "outputs": []
    },
    {
      "cell_type": "code",
      "source": [
        "recommend_item(\"Loud 'N Clear&trade; Personal Sound Amplifier\",10)"
      ],
      "metadata": {
        "colab": {
          "base_uri": "https://localhost:8080/"
        },
        "id": "ShmYzbOBTjKe",
        "outputId": "5ecb412a-300e-4241-97cc-13f65ebb3d01"
      },
      "id": "ShmYzbOBTjKe",
      "execution_count": 27,
      "outputs": [
        {
          "output_type": "execute_result",
          "data": {
            "text/plain": [
              "[(0, 1.0),\n",
              " (3830, 0.28563333171910793),\n",
              " (2786, 0.28226222792563316),\n",
              " (6620, 0.26944712134056226),\n",
              " (20098, 0.24601713248072804),\n",
              " (17592, 0.24478486400911711),\n",
              " (31279, 0.23761748780134645),\n",
              " (9018, 0.23175230897167504),\n",
              " (5722, 0.23023095709297986),\n",
              " (8233, 0.22619185012036327)]"
            ]
          },
          "metadata": {},
          "execution_count": 27
        }
      ]
    },
    {
      "cell_type": "markdown",
      "source": [
        "由於跑 recommend_item 頗耗時，這邊僅提供兩段隨機指定的範圍結果做參考。</br>\n",
        "發現大部分每一個商品的第一推薦都是自己。但偶有自己是在第二推薦順位的情況。</br>\n"
      ],
      "metadata": {
        "id": "powOz1_wciKx"
      },
      "id": "powOz1_wciKx"
    },
    {
      "cell_type": "code",
      "source": [
        "\n",
        "#此範圍內，自己都是第一推薦順位。\n",
        "observe = [df['asin'].loc[i] == df['asin'].loc[recommend_item(df['title'].loc[i],5)[0][0]] for i in range(16277,16605) if i in df['title'].index]\n",
        "print(len([o for o in observe if not o]))\n",
        "print(all(observe))\n",
        "\n",
        "#然而此範圍內找到3個例子是落在第二順位。\n",
        "for i in range(20510,20800):\n",
        "  if i in df['title'].index:\n",
        "    r = df['asin'].iloc[[r[0] for r in recommend_item(df['title'].loc[i],k=5)]].tolist()\n",
        "    if df['asin'].loc[i] != r[0]:\n",
        "      print(i,df['asin'].loc[i],r)\n",
        "\n"
      ],
      "metadata": {
        "colab": {
          "base_uri": "https://localhost:8080/"
        },
        "id": "xHQ9OzFbISci",
        "outputId": "87fdeda4-03dc-4333-d794-0bf33bf637a3"
      },
      "id": "xHQ9OzFbISci",
      "execution_count": 28,
      "outputs": [
        {
          "output_type": "stream",
          "name": "stdout",
          "text": [
            "0\n",
            "True\n",
            "20554 B00Y2I3TYA ['B00Y2I3EOU', 'B00Y2I3TYA', 'B00U0Z2XMI', 'B00J8LSAJK', 'B0037M6VZG']\n",
            "20707 B00YGREQWG ['B00YGRER6G', 'B00YGREQWG', 'B00E523SQM', 'B008EKXN52', 'B00KODA76A']\n",
            "20713 B00YHRSW98 ['B00QX9PXAO', 'B00YHRSW98', 'B00UIVDYCM', 'B014LH8IMO', 'B01BW5TILI']\n"
          ]
        }
      ]
    },
    {
      "cell_type": "markdown",
      "source": [
        "探討自己的順位不是第一位的原因。</br>\n",
        "推斷兩個 title 內容幾乎相同、score 一樣的情況下，排序會照原先的 index。"
      ],
      "metadata": {
        "id": "UUFdmln4m64i"
      },
      "id": "UUFdmln4m64i"
    },
    {
      "cell_type": "code",
      "source": [
        "rec=recommend_item(df['title'].loc[20554],10)\n",
        "score = [s[1]for s in rec]\n",
        "index = [r[0] for r in rec]\n",
        "title=df['title'].iloc[[r[0] for r in rec]].tolist()\n",
        "pd.DataFrame([(score[i],index[i],title[i]) for i in range(10)],columns=['score','index','title'])"
      ],
      "metadata": {
        "colab": {
          "base_uri": "https://localhost:8080/",
          "height": 363
        },
        "id": "_q2lSv4zmGxi",
        "outputId": "812cbe80-523d-4b31-b720-3da3237457fc"
      },
      "id": "_q2lSv4zmGxi",
      "execution_count": 29,
      "outputs": [
        {
          "output_type": "execute_result",
          "data": {
            "text/html": [
              "\n",
              "  <div id=\"df-7df97128-1fbf-4aee-a0bd-048766965ad2\">\n",
              "    <div class=\"colab-df-container\">\n",
              "      <div>\n",
              "<style scoped>\n",
              "    .dataframe tbody tr th:only-of-type {\n",
              "        vertical-align: middle;\n",
              "    }\n",
              "\n",
              "    .dataframe tbody tr th {\n",
              "        vertical-align: top;\n",
              "    }\n",
              "\n",
              "    .dataframe thead th {\n",
              "        text-align: right;\n",
              "    }\n",
              "</style>\n",
              "<table border=\"1\" class=\"dataframe\">\n",
              "  <thead>\n",
              "    <tr style=\"text-align: right;\">\n",
              "      <th></th>\n",
              "      <th>score</th>\n",
              "      <th>index</th>\n",
              "      <th>title</th>\n",
              "    </tr>\n",
              "  </thead>\n",
              "  <tbody>\n",
              "    <tr>\n",
              "      <th>0</th>\n",
              "      <td>1.000000</td>\n",
              "      <td>20553</td>\n",
              "      <td>Lava Pumice-powered Heavy-duty Hand Bar Soap 5...</td>\n",
              "    </tr>\n",
              "    <tr>\n",
              "      <th>1</th>\n",
              "      <td>1.000000</td>\n",
              "      <td>20554</td>\n",
              "      <td>Lava Pumice-powered Heavy-duty Hand Bar Soap 5...</td>\n",
              "    </tr>\n",
              "    <tr>\n",
              "      <th>2</th>\n",
              "      <td>0.770047</td>\n",
              "      <td>18996</td>\n",
              "      <td>Lava Heavy-Duty Hand Soap, Bar 5.75 oz (pack o...</td>\n",
              "    </tr>\n",
              "    <tr>\n",
              "      <th>3</th>\n",
              "      <td>0.396249</td>\n",
              "      <td>12578</td>\n",
              "      <td>Heavy Duty Cellulite Cream 6.8 Oz.</td>\n",
              "    </tr>\n",
              "    <tr>\n",
              "      <th>4</th>\n",
              "      <td>0.367758</td>\n",
              "      <td>3944</td>\n",
              "      <td>Develop 10 Pumice Lava Rock</td>\n",
              "    </tr>\n",
              "    <tr>\n",
              "      <th>5</th>\n",
              "      <td>0.343860</td>\n",
              "      <td>15018</td>\n",
              "      <td>Lava - Hand Soap, Unscented Bar, 4oz - 48/Carton</td>\n",
              "    </tr>\n",
              "    <tr>\n",
              "      <th>6</th>\n",
              "      <td>0.338481</td>\n",
              "      <td>1207</td>\n",
              "      <td>Foot Stool Heavy-Duty</td>\n",
              "    </tr>\n",
              "    <tr>\n",
              "      <th>7</th>\n",
              "      <td>0.326563</td>\n",
              "      <td>4975</td>\n",
              "      <td>Red Heavy Duty Tattoo Clip Cord</td>\n",
              "    </tr>\n",
              "    <tr>\n",
              "      <th>8</th>\n",
              "      <td>0.326268</td>\n",
              "      <td>20078</td>\n",
              "      <td>Really Works Hand Cleaner Heavy Duty SMOOTH (N...</td>\n",
              "    </tr>\n",
              "    <tr>\n",
              "      <th>9</th>\n",
              "      <td>0.258296</td>\n",
              "      <td>14114</td>\n",
              "      <td>Probiotic Hand Soap Bar - 3 Pack</td>\n",
              "    </tr>\n",
              "  </tbody>\n",
              "</table>\n",
              "</div>\n",
              "      <button class=\"colab-df-convert\" onclick=\"convertToInteractive('df-7df97128-1fbf-4aee-a0bd-048766965ad2')\"\n",
              "              title=\"Convert this dataframe to an interactive table.\"\n",
              "              style=\"display:none;\">\n",
              "        \n",
              "  <svg xmlns=\"http://www.w3.org/2000/svg\" height=\"24px\"viewBox=\"0 0 24 24\"\n",
              "       width=\"24px\">\n",
              "    <path d=\"M0 0h24v24H0V0z\" fill=\"none\"/>\n",
              "    <path d=\"M18.56 5.44l.94 2.06.94-2.06 2.06-.94-2.06-.94-.94-2.06-.94 2.06-2.06.94zm-11 1L8.5 8.5l.94-2.06 2.06-.94-2.06-.94L8.5 2.5l-.94 2.06-2.06.94zm10 10l.94 2.06.94-2.06 2.06-.94-2.06-.94-.94-2.06-.94 2.06-2.06.94z\"/><path d=\"M17.41 7.96l-1.37-1.37c-.4-.4-.92-.59-1.43-.59-.52 0-1.04.2-1.43.59L10.3 9.45l-7.72 7.72c-.78.78-.78 2.05 0 2.83L4 21.41c.39.39.9.59 1.41.59.51 0 1.02-.2 1.41-.59l7.78-7.78 2.81-2.81c.8-.78.8-2.07 0-2.86zM5.41 20L4 18.59l7.72-7.72 1.47 1.35L5.41 20z\"/>\n",
              "  </svg>\n",
              "      </button>\n",
              "      \n",
              "  <style>\n",
              "    .colab-df-container {\n",
              "      display:flex;\n",
              "      flex-wrap:wrap;\n",
              "      gap: 12px;\n",
              "    }\n",
              "\n",
              "    .colab-df-convert {\n",
              "      background-color: #E8F0FE;\n",
              "      border: none;\n",
              "      border-radius: 50%;\n",
              "      cursor: pointer;\n",
              "      display: none;\n",
              "      fill: #1967D2;\n",
              "      height: 32px;\n",
              "      padding: 0 0 0 0;\n",
              "      width: 32px;\n",
              "    }\n",
              "\n",
              "    .colab-df-convert:hover {\n",
              "      background-color: #E2EBFA;\n",
              "      box-shadow: 0px 1px 2px rgba(60, 64, 67, 0.3), 0px 1px 3px 1px rgba(60, 64, 67, 0.15);\n",
              "      fill: #174EA6;\n",
              "    }\n",
              "\n",
              "    [theme=dark] .colab-df-convert {\n",
              "      background-color: #3B4455;\n",
              "      fill: #D2E3FC;\n",
              "    }\n",
              "\n",
              "    [theme=dark] .colab-df-convert:hover {\n",
              "      background-color: #434B5C;\n",
              "      box-shadow: 0px 1px 3px 1px rgba(0, 0, 0, 0.15);\n",
              "      filter: drop-shadow(0px 1px 2px rgba(0, 0, 0, 0.3));\n",
              "      fill: #FFFFFF;\n",
              "    }\n",
              "  </style>\n",
              "\n",
              "      <script>\n",
              "        const buttonEl =\n",
              "          document.querySelector('#df-7df97128-1fbf-4aee-a0bd-048766965ad2 button.colab-df-convert');\n",
              "        buttonEl.style.display =\n",
              "          google.colab.kernel.accessAllowed ? 'block' : 'none';\n",
              "\n",
              "        async function convertToInteractive(key) {\n",
              "          const element = document.querySelector('#df-7df97128-1fbf-4aee-a0bd-048766965ad2');\n",
              "          const dataTable =\n",
              "            await google.colab.kernel.invokeFunction('convertToInteractive',\n",
              "                                                     [key], {});\n",
              "          if (!dataTable) return;\n",
              "\n",
              "          const docLinkHtml = 'Like what you see? Visit the ' +\n",
              "            '<a target=\"_blank\" href=https://colab.research.google.com/notebooks/data_table.ipynb>data table notebook</a>'\n",
              "            + ' to learn more about interactive tables.';\n",
              "          element.innerHTML = '';\n",
              "          dataTable['output_type'] = 'display_data';\n",
              "          await google.colab.output.renderOutput(dataTable, element);\n",
              "          const docLink = document.createElement('div');\n",
              "          docLink.innerHTML = docLinkHtml;\n",
              "          element.appendChild(docLink);\n",
              "        }\n",
              "      </script>\n",
              "    </div>\n",
              "  </div>\n",
              "  "
            ],
            "text/plain": [
              "      score  index                                              title\n",
              "0  1.000000  20553  Lava Pumice-powered Heavy-duty Hand Bar Soap 5...\n",
              "1  1.000000  20554  Lava Pumice-powered Heavy-duty Hand Bar Soap 5...\n",
              "2  0.770047  18996  Lava Heavy-Duty Hand Soap, Bar 5.75 oz (pack o...\n",
              "3  0.396249  12578                 Heavy Duty Cellulite Cream 6.8 Oz.\n",
              "4  0.367758   3944                        Develop 10 Pumice Lava Rock\n",
              "5  0.343860  15018   Lava - Hand Soap, Unscented Bar, 4oz - 48/Carton\n",
              "6  0.338481   1207                              Foot Stool Heavy-Duty\n",
              "7  0.326563   4975                    Red Heavy Duty Tattoo Clip Cord\n",
              "8  0.326268  20078  Really Works Hand Cleaner Heavy Duty SMOOTH (N...\n",
              "9  0.258296  14114                   Probiotic Hand Soap Bar - 3 Pack"
            ]
          },
          "metadata": {},
          "execution_count": 29
        }
      ]
    },
    {
      "cell_type": "code",
      "execution_count": 30,
      "id": "9280a043",
      "metadata": {
        "id": "9280a043"
      },
      "outputs": [],
      "source": [
        "def recommender(training_data, users=[], k=30):\n",
        "    '''\n",
        "    * training_data: dataframe 輸入的訓練資料集（2018-09-01 以前資料）\n",
        "    * users: [] 需要被推薦的使用者\n",
        "    * k: int 每個使用者需要推薦的商品數\n",
        "    * recommendations: dict\n",
        "      {\n",
        "          使用者一： [推薦商品一, 推薦商品二, ...],\n",
        "          使用者二： [...], ...\n",
        "      }\n",
        "    '''\n",
        "    recommendations = {}\n",
        "    '''\n",
        "    content-based\n",
        "    '''\n",
        "    ratings_trainings = training_data\n",
        "    recommendations = {user: sum_of_rank(recommend_items(metadata[metadata['asin'].isin(ratings_trainings[ratings_trainings['reviewerID'] == user]['asin'].tolist())]['title'].tolist(), k),k) for user in users}\n",
        "\n",
        "    return recommendations\n",
        "\n",
        "ratings_by_user = recommender(ratings_trainings, users)"
      ]
    },
    {
      "cell_type": "code",
      "source": [
        "#r_by_u={}\n",
        "#for user in ratings_by_user:\n",
        "sta=pd.DataFrame({'len':[len(re) for re in list(ratings_by_user.values())]}) \n",
        "sta.value_counts()"
      ],
      "metadata": {
        "colab": {
          "base_uri": "https://localhost:8080/"
        },
        "id": "voMOHKwtQ83p",
        "outputId": "970f1710-357b-4d13-f537-9439fba7996d"
      },
      "id": "voMOHKwtQ83p",
      "execution_count": 31,
      "outputs": [
        {
          "output_type": "execute_result",
          "data": {
            "text/plain": [
              "len\n",
              "0      546\n",
              "30      38\n",
              "dtype: int64"
            ]
          },
          "metadata": {},
          "execution_count": 31
        }
      ]
    },
    {
      "cell_type": "markdown",
      "id": "04a4ca9e",
      "metadata": {
        "id": "04a4ca9e"
      },
      "source": [
        "## 結果評估"
      ]
    },
    {
      "cell_type": "markdown",
      "source": [
        "向量計算量龐大，無法同時秀出計算不同 similarity 的結果，因此在此記錄下曾經計算過的數據。</br>\n",
        "推薦數 k = 10，測試資料為2018.7.1起 / 9.1起 至 9.30，測試過的方法為以下三種:</br>\n",
        "<ul>\n",
        "<li>cosine_similarity: 0.0028 / 0.0051 (排序時reverse = True)\n",
        "<li>euclidean_distances: 0.0024 / 0.0051 (排序時reverse = False)\n",
        "<li>manhattan_distances: 0.0017 / 0.0034 (排序時reverse = False)</li>"
      ],
      "metadata": {
        "id": "hkbGlI15-PAu"
      },
      "id": "hkbGlI15-PAu"
    },
    {
      "cell_type": "markdown",
      "source": [
        "推薦數 k = 30，測試資料為2018.7.1起 / 9.1起 至 9.30，測試過的方法為以下三種:</br>\n",
        "<ul>\n",
        "<li>cosine_similarity: 0.0032 / 0.0051 (排序時reverse = True)\n",
        "<li>euclidean_distances: 0.0032 / 0.0051 (排序時reverse = False)\n",
        "<li>manhattan_distances: 0.0024 / 0.0051 (排序時reverse = False)</li>"
      ],
      "metadata": {
        "id": "jOXh4wNsVnZL"
      },
      "id": "jOXh4wNsVnZL"
    },
    {
      "cell_type": "markdown",
      "source": [
        "結論：整體差異並不大，至少沒有任何算法出現壓倒性的優勢，考慮並沒有太多時間研究其他相關度，因此決定取 cosine_similarity 作為本次作業的主要算法。"
      ],
      "metadata": {
        "id": "31x2rNmSvG7A"
      },
      "id": "31x2rNmSvG7A"
    },
    {
      "cell_type": "code",
      "execution_count": 63,
      "id": "ee763747",
      "metadata": {
        "id": "ee763747",
        "outputId": "4aec19e2-a00f-471c-8ae3-3606cad42a98",
        "colab": {
          "base_uri": "https://localhost:8080/"
        }
      },
      "outputs": [
        {
          "output_type": "execute_result",
          "data": {
            "text/plain": [
              "0.005084745762711864"
            ]
          },
          "metadata": {},
          "execution_count": 63
        }
      ],
      "source": [
        "def evaluate(ratings_testings,ratings_testings_by_user={}, ratings_by_user={}, method=None):\n",
        "    '''\n",
        "    * ratings_testings_by_user: dict 真實被購買的商品資料（2018-09-01 以後資料）\n",
        "    * ratings_by_user: dict 利用訓練資料學習的推薦商品\n",
        "    * method: str\n",
        "    * score: float\n",
        "    '''\n",
        "    total = 0\n",
        "    for d in ratings_testings_by_user:\n",
        "        if d in ratings_by_user:\n",
        "            total += len(set(ratings_by_user[d]) & set(ratings_testings_by_user[d]))\n",
        "\n",
        "    score = total / len(ratings_testings)\n",
        "    return score\n",
        "\n",
        "evaluate(ratings_testings,ratings_testings_by_user, ratings_by_user)"
      ]
    },
    {
      "cell_type": "markdown",
      "source": [
        "##結合上週的 rule-based"
      ],
      "metadata": {
        "id": "351Af197jwe5"
      },
      "id": "351Af197jwe5"
    },
    {
      "cell_type": "markdown",
      "source": [
        "Top-k 推薦邏輯為\n",
        "<li>沒有歷史資料的新進用戶：推薦產品為過去 n 個月最高 round(k/2) 個人氣產品，以及與此 k//2 個產品相關性最高的其他 5 個產品。\n",
        "<li>既有客戶：推薦產品為購入過產品中相關性最高的前 k//2 名（但將購入過的產品排除），以及過去 n 個月最高 round(k/2) 個人氣產品。"
      ],
      "metadata": {
        "id": "MiAoAiZRq4sI"
      },
      "id": "MiAoAiZRq4sI"
    },
    {
      "cell_type": "markdown",
      "source": [
        "程式碼修正"
      ],
      "metadata": {
        "id": "iFCQsJmwy_tl"
      },
      "id": "iFCQsJmwy_tl"
    },
    {
      "cell_type": "code",
      "source": [
        "# 每個商品回傳 k 個最相近的商品\n",
        "def recommend_item1(item_input, k=2):\n",
        "    try:\n",
        "        i=df.index[df['title']==item_input].tolist()[0]\n",
        "        item_index = mapping[item_input]\n",
        "        similarity_score = list(enumerate(similarity_matrix[item_index]))\n",
        "        similarity_score = sorted(similarity_score, key=lambda x: x[1], reverse=True)\n",
        "        similarity_score = list(filter(lambda x:x[0]!=i, similarity_score))\n",
        "        similarity_score = similarity_score[:k]\n",
        "        return similarity_score\n",
        "    except:\n",
        "        return []\n",
        "\n",
        "# 利用使用者購買過的商品產生推薦\n",
        "def recommend_items1(items, k):\n",
        "    res = []\n",
        "    for d in items:\n",
        "        res.extend(recommend_item1(d,k))\n",
        "    res=sorted(res, key=lambda x: x[1], reverse=True)\n",
        "    return res\n",
        "\n",
        "def sum_of_rank1(res,k):\n",
        "    new_r={}\n",
        "    for r in res:\n",
        "      if r[0] in new_r:\n",
        "        if r[1]>new_r[r[0]]:\n",
        "          new_r[r[0]]=r[1]\n",
        "      else:\n",
        "        new_r.update({r[0]:r[1]})\n",
        "\n",
        "    new=sorted([(key,val) for key,val in new_r.items()],key=lambda x:x[1], reverse=True)\n",
        "    return df['asin'].iloc[[n[0] for n in new][:k]].tolist()"
      ],
      "metadata": {
        "id": "Uf2OmPmjy5kR"
      },
      "id": "Uf2OmPmjy5kR",
      "execution_count": 35,
      "outputs": []
    },
    {
      "cell_type": "code",
      "source": [
        "old = ratings_testings['reviewerID'][ratings_testings['reviewerID'].isin(set(ratings_trainings['reviewerID']))].tolist()\n",
        "new = ratings_testings['reviewerID'][ratings_testings['reviewerID'].isin(set(ratings_trainings['reviewerID'])) == False].tolist()"
      ],
      "metadata": {
        "id": "YgTP9Jwu7EsE"
      },
      "id": "YgTP9Jwu7EsE",
      "execution_count": 36,
      "outputs": []
    },
    {
      "cell_type": "code",
      "source": [
        "def combine(training_data, users=[], k=10,sp_old=5,sp_new=5):\n",
        "    '''\n",
        "    * training_data: dataframe 輸入的訓練資料集（2018-09-01 以前資料）\n",
        "    * users: [] 需要被推薦的使用者\n",
        "    * k: int 每個使用者需要推薦的商品數\n",
        "    * recommendations: dict\n",
        "      {\n",
        "          使用者一： [推薦商品一, 推薦商品二, ...],\n",
        "          使用者二： [...], ...\n",
        "      }\n",
        "    '''\n",
        "    ratings_trainings = training_data[\n",
        "    (training_data['DATE'] >= '2018-08-01') & \n",
        "    (training_data['DATE'] < '2018-09-01')]\n",
        "    \n",
        "    #過去 1 個月最高 round(k/2) 個人氣產品\n",
        "    popular = list(ratings_trainings['asin'].value_counts().keys())[:k]\n",
        "    pop_t = metadata['title'][metadata['asin'].isin(popular)].tolist()\n",
        "    pop_rec = sum_of_rank1(recommend_items1(pop_t, k),k)\n",
        "    \n",
        "    #既有用戶\n",
        "    recom = {user:sum_of_rank1(recommend_items1(metadata[metadata['asin'].isin(\n",
        "                  ratings_trainings[ratings_trainings['reviewerID'] == user]['asin'].tolist())][\n",
        "                  'title'].tolist(),10),10)[:k-sp_old] + popular[:sp_old] for user in old}\n",
        "\n",
        "    #新進用戶\n",
        "    recom.update({user: popular[:sp_new]+pop_rec[:k-sp_new] for user in new})\n",
        "    \n",
        "    return recom\n",
        "    "
      ],
      "metadata": {
        "id": "18ESUd9Sjv6d"
      },
      "id": "18ESUd9Sjv6d",
      "execution_count": 58,
      "outputs": []
    },
    {
      "cell_type": "code",
      "source": [
        "comb = combine(ratings_trainings, users,k=10,sp_old=10,sp_new=10)\n",
        "evaluate(ratings_testings,ratings_testings_by_user, comb)"
      ],
      "metadata": {
        "colab": {
          "base_uri": "https://localhost:8080/"
        },
        "id": "de_DqdJYPhmg",
        "outputId": "1e8d30a3-120b-4da0-aaee-995fe41f8139"
      },
      "id": "de_DqdJYPhmg",
      "execution_count": 61,
      "outputs": [
        {
          "output_type": "execute_result",
          "data": {
            "text/plain": [
              "0.15254237288135594"
            ]
          },
          "metadata": {},
          "execution_count": 61
        }
      ]
    },
    {
      "cell_type": "code",
      "source": [
        "#def graph(predict,start=1,period=10,klim=30):\n",
        "klim=50\n",
        "figure, ax = plt.subplots(figsize=(16.53, 11.69))\n",
        "\n",
        "for k_old in range(0,klim+5,5):\n",
        "  x=[x for x in range(0,klim+5,5)]\n",
        "  y=[evaluate(ratings_testings,ratings_testings_by_user, \n",
        "            combine(ratings_trainings, users,k=klim,sp_old=k_old,sp_new=k_new)) for k_new in range(0,klim+5,5)]\n",
        "  ax.plot(x,y,label='k_old = '+str(k_old))\n",
        "\n",
        "ax.set_xlabel('k_new')\n",
        "ax.set_ylabel('score')\n",
        "ax.legend(fontsize=14,title_fontsize=16)\n",
        "ax.set_title('Prediction',fontsize=24,pad=16)\n"
      ],
      "metadata": {
        "colab": {
          "base_uri": "https://localhost:8080/",
          "height": 750
        },
        "id": "OuDICCaqarFA",
        "outputId": "a372d6d5-26e7-489b-9393-090205f32d4c"
      },
      "id": "OuDICCaqarFA",
      "execution_count": 65,
      "outputs": [
        {
          "output_type": "execute_result",
          "data": {
            "text/plain": [
              "Text(0.5, 1.0, 'Prediction')"
            ]
          },
          "metadata": {},
          "execution_count": 65
        },
        {
          "output_type": "display_data",
          "data": {
            "image/png": "[encoded data removed]",
            "text/plain": [
              "<Figure size 1190.16x841.68 with 1 Axes>"
            ]
          },
          "metadata": {
            "needs_background": "light"
          }
        }
      ]
    },
    {
      "cell_type": "markdown",
      "source": [
        "## Reference"
      ],
      "metadata": {
        "id": "fx1A-_fOkBjb"
      },
      "id": "fx1A-_fOkBjb"
    },
    {
      "cell_type": "code",
      "execution_count": 39,
      "id": "53055ac2",
      "metadata": {
        "id": "53055ac2",
        "outputId": "aa40243b-4c43-42d8-c969-5d9317f8156d",
        "colab": {
          "base_uri": "https://localhost:8080/",
          "height": 0
        }
      },
      "outputs": [
        {
          "output_type": "stream",
          "name": "stdout",
          "text": [
            "[0 1 1 0 2 1 2 0 0 2 1 0 2 1 1 0 1 1 0 0 1 1 1 0 2 1 0 0 1 2 1 2 1 2 2 0 1\n",
            " 0 1 2 2 0 1 2 1]\n",
            "0.9777777777777777\n"
          ]
        },
        {
          "output_type": "display_data",
          "data": {
            "image/png": "[encoded data removed]",
            "text/plain": [
              "<Figure size 432x288 with 1 Axes>"
            ]
          },
          "metadata": {
            "needs_background": "light"
          }
        }
      ],
      "source": [
        "#https://pyecontech.com/2020/05/03/python_knn/\n",
        "# kmeans\n",
        "\n",
        "from sklearn.neighbors import KNeighborsClassifier\n",
        "import pandas as pd\n",
        "import numpy as np\n",
        "import matplotlib.pyplot as plt\n",
        "from sklearn import datasets\n",
        "from sklearn.model_selection import train_test_split\n",
        "from sklearn import metrics\n",
        "\n",
        "iris=datasets.load_iris()\n",
        "X=iris.data\n",
        "y=iris.target\n",
        "\n",
        "X_train, X_test, y_train, y_test = train_test_split(X, y,test_size=0.3,random_state=1)\n",
        "\n",
        "clf=KNeighborsClassifier(n_neighbors=3,p=2,weights='distance',algorithm='brute')\n",
        "clf.fit(X_train,y_train)\n",
        "\n",
        "print(clf.predict(X_test))\n",
        "print(clf.score(X_test,y_test))\n",
        "\n",
        "accuracy = []\n",
        "for k in range(1, 100):\n",
        "  knn = KNeighborsClassifier(n_neighbors=k)\n",
        "  knn.fit(X_train, y_train)\n",
        "  y_pred = knn.predict(X_test)\n",
        "  accuracy.append(metrics.accuracy_score(y_test, y_pred))\n",
        "\n",
        "k_range = range(1,100)\n",
        "plt.plot(k_range, accuracy)\n",
        "plt.show()\n"
      ]
    }
  ],
  "metadata": {
    "kernelspec": {
      "display_name": "Python 3",
      "language": "python",
      "name": "python3"
    },
    "language_info": {
      "codemirror_mode": {
        "name": "ipython",
        "version": 3
      },
      "file_extension": ".py",
      "mimetype": "text/x-python",
      "name": "python",
      "nbconvert_exporter": "python",
      "pygments_lexer": "ipython3",
      "version": "3.9.0"
    },
    "colab": {
      "name": "sample-content-based.ipynb",
      "provenance": [],
      "collapsed_sections": [
        "688675f5",
        "84ff0f9d",
        "695362e3",
        "JjYcOECGaTjI",
        "054eeba4",
        "fx1A-_fOkBjb"
      ],
      "toc_visible": true,
      "include_colab_link": true
    }
  },
  "nbformat": 4,
  "nbformat_minor": 5
}